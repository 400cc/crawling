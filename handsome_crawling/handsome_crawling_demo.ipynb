{
 "cells": [
  {
   "cell_type": "code",
   "execution_count": 1,
   "metadata": {},
   "outputs": [],
   "source": [
    "import time\n",
    "from bs4 import BeautifulSoup\n",
    "import pandas as pd\n",
    "import requests\n",
    "from requests.exceptions import Timeout\n",
    "import xml.etree.ElementTree as ET\n",
    "import json"
   ]
  },
  {
   "cell_type": "code",
   "execution_count": 2,
   "metadata": {},
   "outputs": [],
   "source": [
    "headers = {\n",
    "    'User-Agent': 'Mozilla/5.0 (Windows NT 10.0; Win64; x64) AppleWebKit/537.36 (KHTML, like Gecko) Chrome/124.0.0.0 Safari/537.36',\n",
    "    \n",
    "}"
   ]
  },
  {
   "cell_type": "code",
   "execution_count": 3,
   "metadata": {},
   "outputs": [],
   "source": [
    "def get_response(url, headers):\n",
    "\n",
    "    # GET 요청\n",
    "    response = requests.get(url, headers=headers)\n",
    "    soup = BeautifulSoup(response.text, 'lxml')\n",
    "    time.sleep(0.5)\n",
    "\n",
    "    return soup\n"
   ]
  },
  {
   "cell_type": "code",
   "execution_count": 4,
   "metadata": {},
   "outputs": [],
   "source": [
    "url = 'https://www.thehandsome.com/api/display/1/ko/category/categoryGoodsList?dispMediaCd=10&sortGbn=20&pageSize=21&pageNo=1&norOutletGbCd=J&dispCtgNo=367&productListLayout=4&theditedYn=N'"
   ]
  },
  {
   "cell_type": "code",
   "execution_count": 5,
   "metadata": {},
   "outputs": [],
   "source": [
    "response = requests.get(url, headers)"
   ]
  },
  {
   "cell_type": "code",
   "execution_count": 6,
   "metadata": {},
   "outputs": [],
   "source": [
    "soup = BeautifulSoup(response.text, 'lxml')"
   ]
  },
  {
   "cell_type": "code",
   "execution_count": 7,
   "metadata": {},
   "outputs": [],
   "source": [
    "info = soup.string"
   ]
  },
  {
   "cell_type": "code",
   "execution_count": 8,
   "metadata": {},
   "outputs": [],
   "source": [
    "first21= json.loads(info)['payload']['goodsList']"
   ]
  },
  {
   "cell_type": "code",
   "execution_count": 12,
   "metadata": {},
   "outputs": [
    {
     "data": {
      "text/plain": [
       "{'goodsNo': 'MN2E5WOT584W',\n",
       " 'goodsNm': '디테쳐블 칼라 컬러 블록 하프 자켓',\n",
       " 'brandNo': 'BR02',\n",
       " 'brandNm': 'MINE',\n",
       " 'lowrBrandNo': '',\n",
       " 'lowrBrandNm': None,\n",
       " 'norPrc': 695000,\n",
       " 'salePrc': 695000,\n",
       " 'dcRate': 0.0,\n",
       " 'dispCtgNo': '388',\n",
       " 'goodsTypCd': '10',\n",
       " 'norPrcUsd': 498.42,\n",
       " 'salePrcUsd': 498.42,\n",
       " 'hndDeliveryYn': 'Y',\n",
       " 'soutYn': 'N',\n",
       " 'flag': '20|30',\n",
       " 'stkrColorCd': '#648cdc',\n",
       " 'stkrWrd': None,\n",
       " 'stkrBtmWrd': None,\n",
       " 'goodsRevCnt': 5,\n",
       " 'wishGoodsYn': 'N',\n",
       " 'stkrDispStrDt': '20240418',\n",
       " 'stkrDispEndDt': '20240418',\n",
       " 'stkrDispYn': 'Y',\n",
       " 'goodsDesc': None,\n",
       " 'dispSeq': None,\n",
       " 'adveWrd': 'CODE MINE',\n",
       " 'videoYn': 'N',\n",
       " 'videoFilePath': None,\n",
       " 'goodsCompCd': '10',\n",
       " 'dispGoodsContUrl': '/MN/2E/SS/MN2E5WOT584W_MT_W01.jpg',\n",
       " 'colorInfo': [{'goodsNo': 'MN2E5WOT584W',\n",
       "   'optnNo': 'MT',\n",
       "   'repYn': 'Y',\n",
       "   'repItmNo': '003',\n",
       "   'soutYn': 'N',\n",
       "   'colorChipUrl': '/MN/2E/SS/MN2E5WOT584W_MT_C01.jpg',\n",
       "   'dispSeq': 1,\n",
       "   'onlColorCd': 'MINT',\n",
       "   'optnNm': 'MINT',\n",
       "   'colorContInfo': [{'dispGoodsContGbCd': '20',\n",
       "     'imgGbCd': 'C01',\n",
       "     'dispGoodsContUrl': '/MN/2E/SS/MN2E5WOT584W_MT_C01.jpg',\n",
       "     'dispSeq': 1},\n",
       "    {'dispGoodsContGbCd': '20',\n",
       "     'imgGbCd': 'P01',\n",
       "     'dispGoodsContUrl': '/MN/2E/SS/MN2E5WOT584W_MT_W01.jpg?rs=684X1032',\n",
       "     'dispSeq': 1},\n",
       "    {'dispGoodsContGbCd': '20',\n",
       "     'imgGbCd': 'P02',\n",
       "     'dispGoodsContUrl': '/MN/2E/SS/MN2E5WOT584W_MT_W02.jpg?rs=684X1032',\n",
       "     'dispSeq': 1},\n",
       "    {'dispGoodsContGbCd': '20',\n",
       "     'imgGbCd': 'P03',\n",
       "     'dispGoodsContUrl': '/MN/2E/SS/MN2E5WOT584W_MT_W03.jpg?rs=684X1032',\n",
       "     'dispSeq': 1},\n",
       "    {'dispGoodsContGbCd': '20',\n",
       "     'imgGbCd': 'P04',\n",
       "     'dispGoodsContUrl': '/MN/2E/SS/MN2E5WOT584W_MT_W04.jpg?rs=684X1032',\n",
       "     'dispSeq': 1},\n",
       "    {'dispGoodsContGbCd': '20',\n",
       "     'imgGbCd': 'P05',\n",
       "     'dispGoodsContUrl': '/MN/2E/SS/MN2E5WOT584W_MT_W05.jpg?rs=684X1032',\n",
       "     'dispSeq': 1},\n",
       "    {'dispGoodsContGbCd': '20',\n",
       "     'imgGbCd': 'P06',\n",
       "     'dispGoodsContUrl': '/MN/2E/SS/MN2E5WOT584W_MT_W06.jpg?rs=684X1032',\n",
       "     'dispSeq': 1},\n",
       "    {'dispGoodsContGbCd': '20',\n",
       "     'imgGbCd': 'P07',\n",
       "     'dispGoodsContUrl': '/MN/2E/SS/MN2E5WOT584W_MT_W07.jpg?rs=684X1032',\n",
       "     'dispSeq': 1},\n",
       "    {'dispGoodsContGbCd': '20',\n",
       "     'imgGbCd': 'S01',\n",
       "     'dispGoodsContUrl': '/MN/2E/SS/MN2E5WOT584W_MT_S01.jpg',\n",
       "     'dispSeq': 1},\n",
       "    {'dispGoodsContGbCd': '20',\n",
       "     'imgGbCd': 'T01',\n",
       "     'dispGoodsContUrl': '/MN/2E/SS/MN2E5WOT584W_MT_T01.jpg',\n",
       "     'dispSeq': 1},\n",
       "    {'dispGoodsContGbCd': '20',\n",
       "     'imgGbCd': 'T02',\n",
       "     'dispGoodsContUrl': '/MN/2E/SS/MN2E5WOT584W_MT_T02.jpg',\n",
       "     'dispSeq': 1},\n",
       "    {'dispGoodsContGbCd': '20',\n",
       "     'imgGbCd': 'W01',\n",
       "     'dispGoodsContUrl': '/MN/2E/SS/MN2E5WOT584W_MT_W01.jpg',\n",
       "     'dispSeq': 1},\n",
       "    {'dispGoodsContGbCd': '20',\n",
       "     'imgGbCd': 'W02',\n",
       "     'dispGoodsContUrl': '/MN/2E/SS/MN2E5WOT584W_MT_W02.jpg',\n",
       "     'dispSeq': 1},\n",
       "    {'dispGoodsContGbCd': '20',\n",
       "     'imgGbCd': 'W03',\n",
       "     'dispGoodsContUrl': '/MN/2E/SS/MN2E5WOT584W_MT_W03.jpg',\n",
       "     'dispSeq': 1},\n",
       "    {'dispGoodsContGbCd': '20',\n",
       "     'imgGbCd': 'W04',\n",
       "     'dispGoodsContUrl': '/MN/2E/SS/MN2E5WOT584W_MT_W04.jpg',\n",
       "     'dispSeq': 1},\n",
       "    {'dispGoodsContGbCd': '20',\n",
       "     'imgGbCd': 'W05',\n",
       "     'dispGoodsContUrl': '/MN/2E/SS/MN2E5WOT584W_MT_W05.jpg',\n",
       "     'dispSeq': 1},\n",
       "    {'dispGoodsContGbCd': '20',\n",
       "     'imgGbCd': 'W06',\n",
       "     'dispGoodsContUrl': '/MN/2E/SS/MN2E5WOT584W_MT_W06.jpg',\n",
       "     'dispSeq': 1},\n",
       "    {'dispGoodsContGbCd': '20',\n",
       "     'imgGbCd': 'W07',\n",
       "     'dispGoodsContUrl': '/MN/2E/SS/MN2E5WOT584W_MT_W07.jpg',\n",
       "     'dispSeq': 1}],\n",
       "   'colorSizeInfo': [{'itmSaleStatCd': '10', 'erpSzNo': '1', 'erpSzCd': '76'},\n",
       "    {'itmSaleStatCd': '10', 'erpSzNo': '2', 'erpSzCd': '82'}]},\n",
       "  {'goodsNo': 'MN2E5WOT584W',\n",
       "   'optnNo': 'NY',\n",
       "   'repYn': 'N',\n",
       "   'repItmNo': '004',\n",
       "   'soutYn': 'Y',\n",
       "   'colorChipUrl': '/MN/2E/SS/MN2E5WOT584W_NY_C01.jpg',\n",
       "   'dispSeq': 2,\n",
       "   'onlColorCd': 'NAVY',\n",
       "   'optnNm': 'NAVY',\n",
       "   'colorContInfo': [{'dispGoodsContGbCd': '20',\n",
       "     'imgGbCd': 'C01',\n",
       "     'dispGoodsContUrl': '/MN/2E/SS/MN2E5WOT584W_NY_C01.jpg',\n",
       "     'dispSeq': 1},\n",
       "    {'dispGoodsContGbCd': '20',\n",
       "     'imgGbCd': 'P01',\n",
       "     'dispGoodsContUrl': '/MN/2E/SS/MN2E5WOT584W_NY_W01.jpg?rs=684X1032',\n",
       "     'dispSeq': 1},\n",
       "    {'dispGoodsContGbCd': '20',\n",
       "     'imgGbCd': 'P02',\n",
       "     'dispGoodsContUrl': '/MN/2E/SS/MN2E5WOT584W_NY_W02.jpg?rs=684X1032',\n",
       "     'dispSeq': 1},\n",
       "    {'dispGoodsContGbCd': '20',\n",
       "     'imgGbCd': 'P03',\n",
       "     'dispGoodsContUrl': '/MN/2E/SS/MN2E5WOT584W_NY_W03.jpg?rs=684X1032',\n",
       "     'dispSeq': 1},\n",
       "    {'dispGoodsContGbCd': '20',\n",
       "     'imgGbCd': 'P04',\n",
       "     'dispGoodsContUrl': '/MN/2E/SS/MN2E5WOT584W_NY_W04.jpg?rs=684X1032',\n",
       "     'dispSeq': 1},\n",
       "    {'dispGoodsContGbCd': '20',\n",
       "     'imgGbCd': 'P05',\n",
       "     'dispGoodsContUrl': '/MN/2E/SS/MN2E5WOT584W_NY_W05.jpg?rs=684X1032',\n",
       "     'dispSeq': 1},\n",
       "    {'dispGoodsContGbCd': '20',\n",
       "     'imgGbCd': 'P06',\n",
       "     'dispGoodsContUrl': '/MN/2E/SS/MN2E5WOT584W_NY_W06.jpg?rs=684X1032',\n",
       "     'dispSeq': 1},\n",
       "    {'dispGoodsContGbCd': '20',\n",
       "     'imgGbCd': 'P07',\n",
       "     'dispGoodsContUrl': '/MN/2E/SS/MN2E5WOT584W_NY_W07.jpg?rs=684X1032',\n",
       "     'dispSeq': 1},\n",
       "    {'dispGoodsContGbCd': '20',\n",
       "     'imgGbCd': 'S01',\n",
       "     'dispGoodsContUrl': '/MN/2E/SS/MN2E5WOT584W_NY_S01.jpg',\n",
       "     'dispSeq': 1},\n",
       "    {'dispGoodsContGbCd': '20',\n",
       "     'imgGbCd': 'T01',\n",
       "     'dispGoodsContUrl': '/MN/2E/SS/MN2E5WOT584W_NY_T01.jpg',\n",
       "     'dispSeq': 1},\n",
       "    {'dispGoodsContGbCd': '20',\n",
       "     'imgGbCd': 'T02',\n",
       "     'dispGoodsContUrl': '/MN/2E/SS/MN2E5WOT584W_NY_T02.jpg',\n",
       "     'dispSeq': 1},\n",
       "    {'dispGoodsContGbCd': '20',\n",
       "     'imgGbCd': 'W01',\n",
       "     'dispGoodsContUrl': '/MN/2E/SS/MN2E5WOT584W_NY_W01.jpg',\n",
       "     'dispSeq': 1},\n",
       "    {'dispGoodsContGbCd': '20',\n",
       "     'imgGbCd': 'W02',\n",
       "     'dispGoodsContUrl': '/MN/2E/SS/MN2E5WOT584W_NY_W02.jpg',\n",
       "     'dispSeq': 1},\n",
       "    {'dispGoodsContGbCd': '20',\n",
       "     'imgGbCd': 'W03',\n",
       "     'dispGoodsContUrl': '/MN/2E/SS/MN2E5WOT584W_NY_W03.jpg',\n",
       "     'dispSeq': 1},\n",
       "    {'dispGoodsContGbCd': '20',\n",
       "     'imgGbCd': 'W04',\n",
       "     'dispGoodsContUrl': '/MN/2E/SS/MN2E5WOT584W_NY_W04.jpg',\n",
       "     'dispSeq': 1},\n",
       "    {'dispGoodsContGbCd': '20',\n",
       "     'imgGbCd': 'W05',\n",
       "     'dispGoodsContUrl': '/MN/2E/SS/MN2E5WOT584W_NY_W05.jpg',\n",
       "     'dispSeq': 1},\n",
       "    {'dispGoodsContGbCd': '20',\n",
       "     'imgGbCd': 'W06',\n",
       "     'dispGoodsContUrl': '/MN/2E/SS/MN2E5WOT584W_NY_W06.jpg',\n",
       "     'dispSeq': 1},\n",
       "    {'dispGoodsContGbCd': '20',\n",
       "     'imgGbCd': 'W07',\n",
       "     'dispGoodsContUrl': '/MN/2E/SS/MN2E5WOT584W_NY_W07.jpg',\n",
       "     'dispSeq': 1}],\n",
       "   'colorSizeInfo': [{'itmSaleStatCd': '20', 'erpSzNo': '1', 'erpSzCd': '76'},\n",
       "    {'itmSaleStatCd': '20', 'erpSzNo': '2', 'erpSzCd': '82'}]}],\n",
       " 'tgtGoodsList': None}"
      ]
     },
     "execution_count": 12,
     "metadata": {},
     "output_type": "execute_result"
    }
   ],
   "source": [
    "first21[6]"
   ]
  },
  {
   "cell_type": "code",
   "execution_count": 57,
   "metadata": {},
   "outputs": [
    {
     "data": {
      "text/plain": [
       "'90'"
      ]
     },
     "execution_count": 57,
     "metadata": {},
     "output_type": "execute_result"
    }
   ],
   "source": [
    "# 상품id, 브랜드, 가격들, 이미지urls, 색상 사이즈(스큐) 정보 알 수 있음. / 상품 설명, 리뷰, 카테고리 추가 수집 필요\n",
    "first21[3]['colorInfo'][0]['colorSizeInfo'][0]['erpSzCd']"
   ]
  },
  {
   "cell_type": "code",
   "execution_count": 10,
   "metadata": {},
   "outputs": [],
   "source": [
    "goodsNos = []\n",
    "for goods in first21:\n",
    "    goodsNos.append(goods['goodsNo'])"
   ]
  },
  {
   "cell_type": "code",
   "execution_count": 11,
   "metadata": {},
   "outputs": [
    {
     "data": {
      "text/plain": [
       "['SY2E3WJMTE1WM2',\n",
       " 'TG2E3KCD049HDG',\n",
       " 'CM2E4KOT531WM1',\n",
       " 'TM2E4KCD261W',\n",
       " 'CM2E3WJC158WP1']"
      ]
     },
     "execution_count": 11,
     "metadata": {},
     "output_type": "execute_result"
    }
   ],
   "source": [
    "goodsNos[:5]"
   ]
  },
  {
   "cell_type": "code",
   "execution_count": 15,
   "metadata": {},
   "outputs": [
    {
     "ename": "SyntaxError",
     "evalue": "invalid syntax (1999935744.py, line 2)",
     "output_type": "error",
     "traceback": [
      "\u001b[1;36m  Cell \u001b[1;32mIn[15], line 2\u001b[1;36m\u001b[0m\n\u001b[1;33m    url = https://www.thehandsome.com/api/goods/1/ko/goods/{SY2E3WJMTE1WM2}/reviews?sortTypeCd=latest&revGbCd=&pageSize=10&pageNo=1\u001b[0m\n\u001b[1;37m               ^\u001b[0m\n\u001b[1;31mSyntaxError\u001b[0m\u001b[1;31m:\u001b[0m invalid syntax\n"
     ]
    }
   ],
   "source": [
    "# url = f'https://www.thehandsome.com/api/goods/1/ko/goods/{goodsNos[0]}/reviews?sortTypeCd=latest&revGbCd=&pageSize=10&pageNo=1'\n",
    "url = 'https://www.thehandsome.com/api/goods/1/ko/goods/SY2E3WJMTE1WM2/reviews?sortTypeCd=latest&revGbCd=&pageSize=10&pageNo=1'"
   ]
  },
  {
   "cell_type": "code",
   "execution_count": 16,
   "metadata": {},
   "outputs": [],
   "source": [
    "response = requests.get(url, headers)"
   ]
  },
  {
   "cell_type": "code",
   "execution_count": 17,
   "metadata": {},
   "outputs": [
    {
     "data": {
      "text/plain": [
       "'{\"timestamp\":\"2024-04-22T00:23:18.313\",\"code\":\"0000\",\"message\":\"\",\"payload\":{\"revAllList\":[{\"revNo\":\"13006462\",\"mbrNo\":\"\",\"loginId\":\"hey*****************\",\"goodsNo\":\"SY2E3WJMTE1WM2\",\"goodsImgPathNm\":\"\",\"stdCtgNo\":\"\",\"ordNo\":\"\",\"ordSeq\":\"\",\"revTypCd\":\"10\",\"revGbCd\":\"20\",\"revWrtDtm\":\"2024.04.21\",\"revCont\":\"편하게 툭 걸치기 너무 좋아요. 소재도 가볍고 사이즈도 넉넉해서 어느 옷에나 매치하기 쉽고 이뻐요\",\"engTrslProcYn\":\"Y\",\"engRevConts\":\"It&#39;s so nice to throw on comfortably. The material is light and the size is generous, so it&#39;s easy to match with any outfit and looks pretty.\",\"revScrVal\":5,\"stfd1Yn\":\"\",\"stfd2Yn\":\"\",\"stfd3Yn\":\"\",\"frstRevYn\":\"\",\"buyMembYn\":\"\",\"revDispStatCd\":\"20\",\"contDispStatCd\":\"20\",\"dispProcDtm\":\"\",\"dispProcmnId\":\"\",\"hlpfulCnt\":\"0\",\"contentCnt\":\"1\",\"contRevGbCd\":\"20\",\"contFilePathNm\":\"/attachment/review/2024/04/21/efda6368-3ccf-4468-95a7-e50cdac9e811_SY2E3WJMTE1WM2.jpeg\",\"myClickedHelpYn\":\"N\",\"transStatCd\":\"10\",\"thumbUrl\":\"/attachment/APP/randering.png\",\"onlOrdYn\":\"Y\",\"shopCd\":\"\",\"shopNm\":\"더한섬닷컴 시스템\",\"goodsClorNm\":\"BLACK\",\"goodsSzNm\":\"82\",\"goodsKoreaSz\":\"\",\"mbrGradeNm\":\"MANIA\",\"brandNm\":\"\",\"goodsNm\":\"백 레터링 드로우스트링 점퍼\",\"myReviewYn\":\"N\",\"totalListCnt\":0,\"revContList\":[{\"goodsNo\":\"\",\"goodsNm\":\"\",\"revNo\":\"13006462\",\"revGbCd\":\"20\",\"cmtSerialNo\":\"1\",\"contFilePathNm\":\"/attachment/review/2024/04/21/efda6368-3ccf-4468-95a7-e50cdac9e811_SY2E3WJMTE1WM2.jpeg\",\"contFileNm\":\"\",\"contentCnt\":\"\",\"newCmtSerialNo\":\"\",\"transStatCd\":\"10\",\"thumbUrl\":\"/attachment/APP/randering.png\",\"orgPathNm\":\"\",\"revDto\":null}],\"revEvltList\":[{\"evltItemNo\":\"10432\",\"evltItemNm\":\"사이즈\",\"evltValNo\":\"003\",\"evltValNm\":\"커요\",\"evltValPrcnt\":\"\",\"mdtyEvltItemYn\":\"\",\"revNo\":\"13006462\"},{\"evltItemNo\":\"10433\",\"evltItemNm\":\"총길이\",\"evltValNo\":\"002\",\"evltValNm\":\"적당해요\",\"evltValPrcnt\":\"\",\"mdtyEvltItemYn\":\"\",\"revNo\":\"13006462\"},{\"evltItemNo\":\"10434\",\"evltItemNm\":\"컬러\",\"evltValNo\":\"002\",\"evltValNm\":\"화면과 같아요\",\"evltValPrcnt\":\"\",\"mdtyEvltItemYn\":\"\",\"revNo\":\"13006462\"}],\"revPrfleList\":[{\"revNo\":\"13006462\",\"mbrPrfleCd\":\"11\",\"mbrPrfleNm\":\"키\",\"mbrPrfleValNo\":\"\",\"mbrPrfleValNm\":\"162cm\",\"ansCont\":\"162\",\"sortSeq\":1,\"stdCtgNo\":\"\"},{\"revNo\":\"13006462\",\"mbrPrfleCd\":\"40\",\"mbrPrfleNm\":\"평소사이즈\",\"mbrPrfleValNo\":\"4002\",\"mbrPrfleValNm\":\"55\",\"ansCont\":\"4002\",\"sortSeq\":2,\"stdCtgNo\":\"\"}],\"revMileageDto\":null,\"revOrderGoodsDto\":null,\"koreanRevYn\":null},{\"revNo\":\"13003443\",\"mbrNo\":\"\",\"loginId\":\"lid******\",\"goodsNo\":\"SY2E3WJMTE1WM2\",\"goodsImgPathNm\":\"\",\"stdCtgNo\":\"\",\"ordNo\":\"\",\"ordSeq\":\"\",\"revTypCd\":\"10\",\"revGbCd\":\"10\",\"revWrtDtm\":\"2024.04.20\",\"revCont\":\"간절기에 여기저기 잘어울리게 입을수있을것같아요 \\\\n바스락 거리는 느낌이 좋네요\",\"engTrslProcYn\":\"Y\",\"engRevConts\":\"I think I can wear it anywhere between seasons. It has a nice rustling feel.\",\"revScrVal\":5,\"stfd1Yn\":\"\",\"stfd2Yn\":\"\",\"stfd3Yn\":\"\",\"frstRevYn\":\"\",\"buyMembYn\":\"\",\"revDispStatCd\":\"20\",\"contDispStatCd\":\"20\",\"dispProcDtm\":\"\",\"dispProcmnId\":\"\",\"hlpfulCnt\":\"0\",\"contentCnt\":\"\",\"contRevGbCd\":\"\",\"contFilePathNm\":\"\",\"myClickedHelpYn\":\"N\",\"transStatCd\":\"\",\"thumbUrl\":\"\",\"onlOrdYn\":\"Y\",\"shopCd\":\"\",\"shopNm\":\"더한섬닷컴 시스템\",\"goodsClorNm\":\"BLACK\",\"goodsSzNm\":\"82\",\"goodsKoreaSz\":\"\",\"mbrGradeNm\":\"FRIEND\",\"brandNm\":\"\",\"goodsNm\":\"백 레터링 드로우스트링 점퍼\",\"myReviewYn\":\"N\",\"totalListCnt\":0,\"revContList\":[],\"revEvltList\":[{\"evltItemNo\":\"10432\",\"evltItemNm\":\"사이즈\",\"evltValNo\":\"002\",\"evltValNm\":\"잘맞아요\",\"evltValPrcnt\":\"\",\"mdtyEvltItemYn\":\"\",\"revNo\":\"13003443\"},{\"evltItemNo\":\"10433\",\"evltItemNm\":\"총길이\",\"evltValNo\":\"002\",\"evltValNm\":\"적당해요\",\"evltValPrcnt\":\"\",\"mdtyEvltItemYn\":\"\",\"revNo\":\"13003443\"},{\"evltItemNo\":\"10434\",\"evltItemNm\":\"컬러\",\"evltValNo\":\"002\",\"evltValNm\":\"화면과 같아요\",\"evltValPrcnt\":\"\",\"mdtyEvltItemYn\":\"\",\"revNo\":\"13003443\"}],\"revPrfleList\":[{\"revNo\":\"13003443\",\"mbrPrfleCd\":\"11\",\"mbrPrfleNm\":\"키\",\"mbrPrfleValNo\":\"\",\"mbrPrfleValNm\":\"172cm\",\"ansCont\":\"172\",\"sortSeq\":1,\"stdCtgNo\":\"\"},{\"revNo\":\"13003443\",\"mbrPrfleCd\":\"40\",\"mbrPrfleNm\":\"평소사이즈\",\"mbrPrfleValNo\":\"4003\",\"mbrPrfleValNm\":\"66\",\"ansCont\":\"4003\",\"sortSeq\":2,\"stdCtgNo\":\"\"}],\"revMileageDto\":null,\"revOrderGoodsDto\":null,\"koreanRevYn\":null},{\"revNo\":\"13002542\",\"mbrNo\":\"\",\"loginId\":\"sso******\",\"goodsNo\":\"SY2E3WJMTE1WM2\",\"goodsImgPathNm\":\"\",\"stdCtgNo\":\"\",\"ordNo\":\"\",\"ordSeq\":\"\",\"revTypCd\":\"10\",\"revGbCd\":\"10\",\"revWrtDtm\":\"2024.04.20\",\"revCont\":\"살까말까 고민진짜 많이했는데\\\\n받아서 입어보니 핏도 이쁘고 \\\\n휘뚜루마뚜루 아무데나 입기좋겠더라구요 \\\\n디쟈인 좋아요\",\"engTrslProcYn\":\"Y\",\"engRevConts\":\"I was really debating whether to buy it or not, but when I received it and tried it on, the fit was pretty and I thought it would be great to wear anywhere. I like the design.\",\"revScrVal\":5,\"stfd1Yn\":\"\",\"stfd2Yn\":\"\",\"stfd3Yn\":\"\",\"frstRevYn\":\"\",\"buyMembYn\":\"\",\"revDispStatCd\":\"20\",\"contDispStatCd\":\"20\",\"dispProcDtm\":\"\",\"dispProcmnId\":\"\",\"hlpfulCnt\":\"0\",\"contentCnt\":\"\",\"contRevGbCd\":\"\",\"contFilePathNm\":\"\",\"myClickedHelpYn\":\"N\",\"transStatCd\":\"\",\"thumbUrl\":\"\",\"onlOrdYn\":\"Y\",\"shopCd\":\"\",\"shopNm\":\"더한섬닷컴 시스템\",\"goodsClorNm\":\"BLACK\",\"goodsSzNm\":\"82\",\"goodsKoreaSz\":\"\",\"mbrGradeNm\":\"MANIA\",\"brandNm\":\"\",\"goodsNm\":\"백 레터링 드로우스트링 점퍼\",\"myReviewYn\":\"N\",\"totalListCnt\":0,\"revContList\":[],\"revEvltList\":[{\"evltItemNo\":\"10432\",\"evltItemNm\":\"사이즈\",\"evltValNo\":\"003\",\"evltValNm\":\"커요\",\"evltValPrcnt\":\"\",\"mdtyEvltItemYn\":\"\",\"revNo\":\"13002542\"},{\"evltItemNo\":\"10433\",\"evltItemNm\":\"총길이\",\"evltValNo\":\"002\",\"evltValNm\":\"적당해요\",\"evltValPrcnt\":\"\",\"mdtyEvltItemYn\":\"\",\"revNo\":\"13002542\"},{\"evltItemNo\":\"10434\",\"evltItemNm\":\"컬러\",\"evltValNo\":\"002\",\"evltValNm\":\"화면과 같아요\",\"evltValPrcnt\":\"\",\"mdtyEvltItemYn\":\"\",\"revNo\":\"13002542\"}],\"revPrfleList\":[{\"revNo\":\"13002542\",\"mbrPrfleCd\":\"11\",\"mbrPrfleNm\":\"키\",\"mbrPrfleValNo\":\"\",\"mbrPrfleValNm\":\"cm\",\"ansCont\":\"\",\"sortSeq\":1,\"stdCtgNo\":\"\"},{\"revNo\":\"13002542\",\"mbrPrfleCd\":\"40\",\"mbrPrfleNm\":\"평소사이즈\",\"mbrPrfleValNo\":\"4003\",\"mbrPrfleValNm\":\"66\",\"ansCont\":\"4003\",\"sortSeq\":2,\"stdCtgNo\":\"\"}],\"revMileageDto\":null,\"revOrderGoodsDto\":null,\"koreanRevYn\":null},{\"revNo\":\"13002322\",\"mbrNo\":\"\",\"loginId\":\"sjh****\",\"goodsNo\":\"SY2E3WJMTE1WM2\",\"goodsImgPathNm\":\"\",\"stdCtgNo\":\"\",\"ordNo\":\"\",\"ordSeq\":\"\",\"revTypCd\":\"10\",\"revGbCd\":\"10\",\"revWrtDtm\":\"2024.04.20\",\"revCont\":\"좋습니다~! 마음에 들어요~~~~\",\"engTrslProcYn\":\"Y\",\"engRevConts\":\"Good~! I like it~~~~\",\"revScrVal\":5,\"stfd1Yn\":\"\",\"stfd2Yn\":\"\",\"stfd3Yn\":\"\",\"frstRevYn\":\"\",\"buyMembYn\":\"\",\"revDispStatCd\":\"20\",\"contDispStatCd\":\"20\",\"dispProcDtm\":\"\",\"dispProcmnId\":\"\",\"hlpfulCnt\":\"0\",\"contentCnt\":\"\",\"contRevGbCd\":\"\",\"contFilePathNm\":\"\",\"myClickedHelpYn\":\"N\",\"transStatCd\":\"\",\"thumbUrl\":\"\",\"onlOrdYn\":\"Y\",\"shopCd\":\"\",\"shopNm\":\"더한섬닷컴 시스템\",\"goodsClorNm\":\"BLACK\",\"goodsSzNm\":\"82\",\"goodsKoreaSz\":\"\",\"mbrGradeNm\":\"FRIEND\",\"brandNm\":\"\",\"goodsNm\":\"백 레터링 드로우스트링 점퍼\",\"myReviewYn\":\"N\",\"totalListCnt\":0,\"revContList\":[],\"revEvltList\":[{\"evltItemNo\":\"10432\",\"evltItemNm\":\"사이즈\",\"evltValNo\":\"003\",\"evltValNm\":\"커요\",\"evltValPrcnt\":\"\",\"mdtyEvltItemYn\":\"\",\"revNo\":\"13002322\"},{\"evltItemNo\":\"10433\",\"evltItemNm\":\"총길이\",\"evltValNo\":\"003\",\"evltValNm\":\"길어요\",\"evltValPrcnt\":\"\",\"mdtyEvltItemYn\":\"\",\"revNo\":\"13002322\"},{\"evltItemNo\":\"10434\",\"evltItemNm\":\"컬러\",\"evltValNo\":\"002\",\"evltValNm\":\"화면과 같아요\",\"evltValPrcnt\":\"\",\"mdtyEvltItemYn\":\"\",\"revNo\":\"13002322\"}],\"revPrfleList\":[{\"revNo\":\"13002322\",\"mbrPrfleCd\":\"11\",\"mbrPrfleNm\":\"키\",\"mbrPrfleValNo\":\"\",\"mbrPrfleValNm\":\"cm\",\"ansCont\":\"\",\"sortSeq\":1,\"stdCtgNo\":\"\"},{\"revNo\":\"13002322\",\"mbrPrfleCd\":\"40\",\"mbrPrfleNm\":\"평소사이즈\",\"mbrPrfleValNo\":\"4002\",\"mbrPrfleValNm\":\"55\",\"ansCont\":\"4002\",\"sortSeq\":2,\"stdCtgNo\":\"\"}],\"revMileageDto\":null,\"revOrderGoodsDto\":null,\"koreanRevYn\":null},{\"revNo\":\"13000493\",\"mbrNo\":\"\",\"loginId\":\"alt*******\",\"goodsNo\":\"SY2E3WJMTE1WM2\",\"goodsImgPathNm\":\"\",\"stdCtgNo\":\"\",\"ordNo\":\"\",\"ordSeq\":\"\",\"revTypCd\":\"10\",\"revGbCd\":\"10\",\"revWrtDtm\":\"2024.04.20\",\"revCont\":\"무지 잘 입고 있슴당 ㅋㅋ말모말모 딱 단점은 브랜드명 거슬림 그나마 스타일이 커버쳐줌.\",\"engTrslProcYn\":\"Y\",\"engRevConts\":\"I&#39;m wearing it really well. The only downside is that the brand name is annoying, but the style makes up for it.\",\"revScrVal\":4,\"stfd1Yn\":\"\",\"stfd2Yn\":\"\",\"stfd3Yn\":\"\",\"frstRevYn\":\"\",\"buyMembYn\":\"\",\"revDispStatCd\":\"20\",\"contDispStatCd\":\"20\",\"dispProcDtm\":\"\",\"dispProcmnId\":\"\",\"hlpfulCnt\":\"0\",\"contentCnt\":\"\",\"contRevGbCd\":\"\",\"contFilePathNm\":\"\",\"myClickedHelpYn\":\"N\",\"transStatCd\":\"\",\"thumbUrl\":\"\",\"onlOrdYn\":\"Y\",\"shopCd\":\"\",\"shopNm\":\"더한섬닷컴 시스템\",\"goodsClorNm\":\"BLACK\",\"goodsSzNm\":\"82\",\"goodsKoreaSz\":\"\",\"mbrGradeNm\":\"FRIEND\",\"brandNm\":\"\",\"goodsNm\":\"백 레터링 드로우스트링 점퍼\",\"myReviewYn\":\"N\",\"totalListCnt\":0,\"revContList\":[],\"revEvltList\":[{\"evltItemNo\":\"10432\",\"evltItemNm\":\"사이즈\",\"evltValNo\":\"003\",\"evltValNm\":\"커요\",\"evltValPrcnt\":\"\",\"mdtyEvltItemYn\":\"\",\"revNo\":\"13000493\"},{\"evltItemNo\":\"10433\",\"evltItemNm\":\"총길이\",\"evltValNo\":\"002\",\"evltValNm\":\"적당해요\",\"evltValPrcnt\":\"\",\"mdtyEvltItemYn\":\"\",\"revNo\":\"13000493\"},{\"evltItemNo\":\"10434\",\"evltItemNm\":\"컬러\",\"evltValNo\":\"002\",\"evltValNm\":\"화면과 같아요\",\"evltValPrcnt\":\"\",\"mdtyEvltItemYn\":\"\",\"revNo\":\"13000493\"}],\"revPrfleList\":[{\"revNo\":\"13000493\",\"mbrPrfleCd\":\"11\",\"mbrPrfleNm\":\"키\",\"mbrPrfleValNo\":\"\",\"mbrPrfleValNm\":\"172cm\",\"ansCont\":\"172\",\"sortSeq\":1,\"stdCtgNo\":\"\"},{\"revNo\":\"13000493\",\"mbrPrfleCd\":\"40\",\"mbrPrfleNm\":\"평소사이즈\",\"mbrPrfleValNo\":\"4001\",\"mbrPrfleValNm\":\"44\",\"ansCont\":\"4001\",\"sortSeq\":2,\"stdCtgNo\":\"\"}],\"revMileageDto\":null,\"revOrderGoodsDto\":null,\"koreanRevYn\":null},{\"revNo\":\"13000037\",\"mbrNo\":\"\",\"loginId\":\"ree****************\",\"goodsNo\":\"SY2E3WJMTE1WM2\",\"goodsImgPathNm\":\"\",\"stdCtgNo\":\"\",\"ordNo\":\"\",\"ordSeq\":\"\",\"revTypCd\":\"10\",\"revGbCd\":\"10\",\"revWrtDtm\":\"2024.04.20\",\"revCont\":\"사이즈는 엄청 큽니다\\\\n엉덩이 가려져서 더 좋아요 가볍고 오염걱정없고 편하게 잘 입을 수 있는 기본템이예요\\\\n\",\"engTrslProcYn\":\"Y\",\"engRevConts\":\"The size is very large, so I like it because it covers my butt. It is a basic item that is light and can be worn comfortably without worrying about contamination.\\\\n\",\"revScrVal\":5,\"stfd1Yn\":\"\",\"stfd2Yn\":\"\",\"stfd3Yn\":\"\",\"frstRevYn\":\"\",\"buyMembYn\":\"\",\"revDispStatCd\":\"20\",\"contDispStatCd\":\"20\",\"dispProcDtm\":\"\",\"dispProcmnId\":\"\",\"hlpfulCnt\":\"0\",\"contentCnt\":\"\",\"contRevGbCd\":\"\",\"contFilePathNm\":\"\",\"myClickedHelpYn\":\"N\",\"transStatCd\":\"\",\"thumbUrl\":\"\",\"onlOrdYn\":\"Y\",\"shopCd\":\"\",\"shopNm\":\"더한섬닷컴 시스템\",\"goodsClorNm\":\"BLACK\",\"goodsSzNm\":\"82\",\"goodsKoreaSz\":\"\",\"mbrGradeNm\":\"FRIEND\",\"brandNm\":\"\",\"goodsNm\":\"백 레터링 드로우스트링 점퍼\",\"myReviewYn\":\"N\",\"totalListCnt\":0,\"revContList\":[],\"revEvltList\":[{\"evltItemNo\":\"10432\",\"evltItemNm\":\"사이즈\",\"evltValNo\":\"003\",\"evltValNm\":\"커요\",\"evltValPrcnt\":\"\",\"mdtyEvltItemYn\":\"\",\"revNo\":\"13000037\"},{\"evltItemNo\":\"10433\",\"evltItemNm\":\"총길이\",\"evltValNo\":\"002\",\"evltValNm\":\"적당해요\",\"evltValPrcnt\":\"\",\"mdtyEvltItemYn\":\"\",\"revNo\":\"13000037\"},{\"evltItemNo\":\"10434\",\"evltItemNm\":\"컬러\",\"evltValNo\":\"002\",\"evltValNm\":\"화면과 같아요\",\"evltValPrcnt\":\"\",\"mdtyEvltItemYn\":\"\",\"revNo\":\"13000037\"}],\"revPrfleList\":[{\"revNo\":\"13000037\",\"mbrPrfleCd\":\"11\",\"mbrPrfleNm\":\"키\",\"mbrPrfleValNo\":\"\",\"mbrPrfleValNm\":\"164cm\",\"ansCont\":\"164\",\"sortSeq\":1,\"stdCtgNo\":\"\"},{\"revNo\":\"13000037\",\"mbrPrfleCd\":\"40\",\"mbrPrfleNm\":\"평소사이즈\",\"mbrPrfleValNo\":\"4004\",\"mbrPrfleValNm\":\"77\",\"ansCont\":\"4004\",\"sortSeq\":2,\"stdCtgNo\":\"\"}],\"revMileageDto\":null,\"revOrderGoodsDto\":null,\"koreanRevYn\":null},{\"revNo\":\"12997343\",\"mbrNo\":\"\",\"loginId\":\"cmj***\",\"goodsNo\":\"SY2E3WJMTE1WM2\",\"goodsImgPathNm\":\"\",\"stdCtgNo\":\"\",\"ordNo\":\"\",\"ordSeq\":\"\",\"revTypCd\":\"10\",\"revGbCd\":\"20\",\"revWrtDtm\":\"2024.04.19\",\"revCont\":\"시스템 즐겨입는 40대아줌마에요^^ 워낙 시스템은 루즈하게나와서 특히 점퍼나 웃도리요... 어쩔땐 나이에 맞지안나싶기도하고 젊어보이기도하는데.. 이번옷도 박시하게 나오긴햇네요.. 아마 매장에가서 구잊햇으면 고민을좀 햇을꺼갘아요.. 젊은언니들은 잘 어울리겟지만 애매한 40대중후반은 좀 애매한 스타일인거같아요.. 밑단 시보리잇어서 좀 조여주고 동네마실나갈때마다 그냥 편하게입어야겟어요.. ^^ 여름에 입기엔 엄청덥겟구요.. 간절기템인거같아요\",\"engTrslProcYn\":\"Y\",\"engRevConts\":\"I&#39;m a woman in her 40s who likes to wear a system ^^ The system is very loose, especially for jumpers and tops... Sometimes I feel like it doesn&#39;t match my age and I look young... This outfit also came out boxy... I&#39;ll probably go to the store If I forgot, I would have worried a bit.. It would look good on younger women, but I think it&#39;s a bit of an ambiguous style for someone in their mid to late 40s.. Since it has a sibori hem, I should tighten it up a bit and just wear it comfortably whenever I go out for a drink in the neighborhood.. ^^ It would be really hot to wear in the summer... I think it&#39;s a seasonal item.\",\"revScrVal\":5,\"stfd1Yn\":\"\",\"stfd2Yn\":\"\",\"stfd3Yn\":\"\",\"frstRevYn\":\"\",\"buyMembYn\":\"\",\"revDispStatCd\":\"20\",\"contDispStatCd\":\"20\",\"dispProcDtm\":\"\",\"dispProcmnId\":\"\",\"hlpfulCnt\":\"1\",\"contentCnt\":\"1\",\"contRevGbCd\":\"20\",\"contFilePathNm\":\"/attachment/review/2024/04/19/215ef31f-e4af-4208-9f94-e05dfee928d0_SY2E3WJMTE1WM2.jpg\",\"myClickedHelpYn\":\"N\",\"transStatCd\":\"10\",\"thumbUrl\":\"/attachment/APP/randering.png\",\"onlOrdYn\":\"Y\",\"shopCd\":\"\",\"shopNm\":\"더한섬닷컴 시스템\",\"goodsClorNm\":\"BLACK\",\"goodsSzNm\":\"82\",\"goodsKoreaSz\":\"\",\"mbrGradeNm\":\"FRIEND\",\"brandNm\":\"\",\"goodsNm\":\"백 레터링 드로우스트링 점퍼\",\"myReviewYn\":\"N\",\"totalListCnt\":0,\"revContList\":[{\"goodsNo\":\"\",\"goodsNm\":\"\",\"revNo\":\"12997343\",\"revGbCd\":\"20\",\"cmtSerialNo\":\"1\",\"contFilePathNm\":\"/attachment/review/2024/04/19/215ef31f-e4af-4208-9f94-e05dfee928d0_SY2E3WJMTE1WM2.jpg\",\"contFileNm\":\"\",\"contentCnt\":\"\",\"newCmtSerialNo\":\"\",\"transStatCd\":\"10\",\"thumbUrl\":\"/attachment/APP/randering.png\",\"orgPathNm\":\"\",\"revDto\":null}],\"revEvltList\":[{\"evltItemNo\":\"10432\",\"evltItemNm\":\"사이즈\",\"evltValNo\":\"003\",\"evltValNm\":\"커요\",\"evltValPrcnt\":\"\",\"mdtyEvltItemYn\":\"\",\"revNo\":\"12997343\"},{\"evltItemNo\":\"10433\",\"evltItemNm\":\"총길이\",\"evltValNo\":\"003\",\"evltValNm\":\"길어요\",\"evltValPrcnt\":\"\",\"mdtyEvltItemYn\":\"\",\"revNo\":\"12997343\"},{\"evltItemNo\":\"10434\",\"evltItemNm\":\"컬러\",\"evltValNo\":\"002\",\"evltValNm\":\"화면과 같아요\",\"evltValPrcnt\":\"\",\"mdtyEvltItemYn\":\"\",\"revNo\":\"12997343\"}],\"revPrfleList\":[{\"revNo\":\"12997343\",\"mbrPrfleCd\":\"11\",\"mbrPrfleNm\":\"키\",\"mbrPrfleValNo\":\"\",\"mbrPrfleValNm\":\"166cm\",\"ansCont\":\"166\",\"sortSeq\":1,\"stdCtgNo\":\"\"},{\"revNo\":\"12997343\",\"mbrPrfleCd\":\"40\",\"mbrPrfleNm\":\"평소사이즈\",\"mbrPrfleValNo\":\"4003\",\"mbrPrfleValNm\":\"66\",\"ansCont\":\"4003\",\"sortSeq\":2,\"stdCtgNo\":\"\"}],\"revMileageDto\":null,\"revOrderGoodsDto\":null,\"koreanRevYn\":null},{\"revNo\":\"12996065\",\"mbrNo\":\"\",\"loginId\":\"jkj*****\",\"goodsNo\":\"SY2E3WJMTE1WM2\",\"goodsImgPathNm\":\"\",\"stdCtgNo\":\"\",\"ordNo\":\"\",\"ordSeq\":\"\",\"revTypCd\":\"10\",\"revGbCd\":\"20\",\"revWrtDtm\":\"2024.04.19\",\"revCont\":\"보자마자 이뻐서 구매했눈데 두께감도 넘 좋구 맘에들어요 \\\\uD83D\\\\uDC96\",\"engTrslProcYn\":\"Y\",\"engRevConts\":\"I bought it because I thought it was pretty as soon as I saw it, but I also like the thickness of it. \\\\uD83D\\\\uDC96\",\"revScrVal\":5,\"stfd1Yn\":\"\",\"stfd2Yn\":\"\",\"stfd3Yn\":\"\",\"frstRevYn\":\"\",\"buyMembYn\":\"\",\"revDispStatCd\":\"20\",\"contDispStatCd\":\"20\",\"dispProcDtm\":\"\",\"dispProcmnId\":\"\",\"hlpfulCnt\":\"0\",\"contentCnt\":\"1\",\"contRevGbCd\":\"20\",\"contFilePathNm\":\"/attachment/review/2024/04/19/181431a2-6cf4-4291-a6ba-b8c531cec142_SY2E3WJMTE1WM2.jpg\",\"myClickedHelpYn\":\"N\",\"transStatCd\":\"10\",\"thumbUrl\":\"/attachment/APP/randering.png\",\"onlOrdYn\":\"Y\",\"shopCd\":\"\",\"shopNm\":\"더한섬닷컴 시스템\",\"goodsClorNm\":\"BLACK\",\"goodsSzNm\":\"82\",\"goodsKoreaSz\":\"\",\"mbrGradeNm\":\"FRIEND\",\"brandNm\":\"\",\"goodsNm\":\"백 레터링 드로우스트링 점퍼\",\"myReviewYn\":\"N\",\"totalListCnt\":0,\"revContList\":[{\"goodsNo\":\"\",\"goodsNm\":\"\",\"revNo\":\"12996065\",\"revGbCd\":\"20\",\"cmtSerialNo\":\"1\",\"contFilePathNm\":\"/attachment/review/2024/04/19/181431a2-6cf4-4291-a6ba-b8c531cec142_SY2E3WJMTE1WM2.jpg\",\"contFileNm\":\"\",\"contentCnt\":\"\",\"newCmtSerialNo\":\"\",\"transStatCd\":\"10\",\"thumbUrl\":\"/attachment/APP/randering.png\",\"orgPathNm\":\"\",\"revDto\":null}],\"revEvltList\":[{\"evltItemNo\":\"10432\",\"evltItemNm\":\"사이즈\",\"evltValNo\":\"003\",\"evltValNm\":\"커요\",\"evltValPrcnt\":\"\",\"mdtyEvltItemYn\":\"\",\"revNo\":\"12996065\"},{\"evltItemNo\":\"10433\",\"evltItemNm\":\"총길이\",\"evltValNo\":\"003\",\"evltValNm\":\"길어요\",\"evltValPrcnt\":\"\",\"mdtyEvltItemYn\":\"\",\"revNo\":\"12996065\"},{\"evltItemNo\":\"10434\",\"evltItemNm\":\"컬러\",\"evltValNo\":\"002\",\"evltValNm\":\"화면과 같아요\",\"evltValPrcnt\":\"\",\"mdtyEvltItemYn\":\"\",\"revNo\":\"12996065\"}],\"revPrfleList\":[{\"revNo\":\"12996065\",\"mbrPrfleCd\":\"11\",\"mbrPrfleNm\":\"키\",\"mbrPrfleValNo\":\"\",\"mbrPrfleValNm\":\"161cm\",\"ansCont\":\"161\",\"sortSeq\":1,\"stdCtgNo\":\"\"},{\"revNo\":\"12996065\",\"mbrPrfleCd\":\"40\",\"mbrPrfleNm\":\"평소사이즈\",\"mbrPrfleValNo\":\"4002\",\"mbrPrfleValNm\":\"55\",\"ansCont\":\"4002\",\"sortSeq\":2,\"stdCtgNo\":\"\"}],\"revMileageDto\":null,\"revOrderGoodsDto\":null,\"koreanRevYn\":null},{\"revNo\":\"12995455\",\"mbrNo\":\"\",\"loginId\":\"lsm****\",\"goodsNo\":\"SY2E3WJMTE1WM2\",\"goodsImgPathNm\":\"\",\"stdCtgNo\":\"\",\"ordNo\":\"\",\"ordSeq\":\"\",\"revTypCd\":\"10\",\"revGbCd\":\"10\",\"revWrtDtm\":\"2024.04.19\",\"revCont\":\"기대했던대로   넘    이뻐요   여기저기   잘어울릴거  같아요  \",\"engTrslProcYn\":\"Y\",\"engRevConts\":\"It&#39;s very pretty, just as I expected. I think it will go well with everything.  \",\"revScrVal\":5,\"stfd1Yn\":\"\",\"stfd2Yn\":\"\",\"stfd3Yn\":\"\",\"frstRevYn\":\"\",\"buyMembYn\":\"\",\"revDispStatCd\":\"20\",\"contDispStatCd\":\"20\",\"dispProcDtm\":\"\",\"dispProcmnId\":\"\",\"hlpfulCnt\":\"0\",\"contentCnt\":\"\",\"contRevGbCd\":\"\",\"contFilePathNm\":\"\",\"myClickedHelpYn\":\"N\",\"transStatCd\":\"\",\"thumbUrl\":\"\",\"onlOrdYn\":\"Y\",\"shopCd\":\"\",\"shopNm\":\"더한섬닷컴 시스템\",\"goodsClorNm\":\"BLACK\",\"goodsSzNm\":\"82\",\"goodsKoreaSz\":\"\",\"mbrGradeNm\":\"FRIEND\",\"brandNm\":\"\",\"goodsNm\":\"백 레터링 드로우스트링 점퍼\",\"myReviewYn\":\"N\",\"totalListCnt\":0,\"revContList\":[],\"revEvltList\":[{\"evltItemNo\":\"10432\",\"evltItemNm\":\"사이즈\",\"evltValNo\":\"002\",\"evltValNm\":\"잘맞아요\",\"evltValPrcnt\":\"\",\"mdtyEvltItemYn\":\"\",\"revNo\":\"12995455\"},{\"evltItemNo\":\"10433\",\"evltItemNm\":\"총길이\",\"evltValNo\":\"003\",\"evltValNm\":\"길어요\",\"evltValPrcnt\":\"\",\"mdtyEvltItemYn\":\"\",\"revNo\":\"12995455\"},{\"evltItemNo\":\"10434\",\"evltItemNm\":\"컬러\",\"evltValNo\":\"002\",\"evltValNm\":\"화면과 같아요\",\"evltValPrcnt\":\"\",\"mdtyEvltItemYn\":\"\",\"revNo\":\"12995455\"}],\"revPrfleList\":[{\"revNo\":\"12995455\",\"mbrPrfleCd\":\"11\",\"mbrPrfleNm\":\"키\",\"mbrPrfleValNo\":\"\",\"mbrPrfleValNm\":\"162cm\",\"ansCont\":\"162\",\"sortSeq\":1,\"stdCtgNo\":\"\"},{\"revNo\":\"12995455\",\"mbrPrfleCd\":\"40\",\"mbrPrfleNm\":\"평소사이즈\",\"mbrPrfleValNo\":\"4002\",\"mbrPrfleValNm\":\"55\",\"ansCont\":\"4002\",\"sortSeq\":2,\"stdCtgNo\":\"\"}],\"revMileageDto\":null,\"revOrderGoodsDto\":null,\"koreanRevYn\":null},{\"revNo\":\"12994495\",\"mbrNo\":\"\",\"loginId\":\"hap******\",\"goodsNo\":\"SY2E3WJMTE1WM2\",\"goodsImgPathNm\":\"\",\"stdCtgNo\":\"\",\"ordNo\":\"\",\"ordSeq\":\"\",\"revTypCd\":\"10\",\"revGbCd\":\"20\",\"revWrtDtm\":\"2024.04.19\",\"revCont\":\"생각보다 광택이 적어요\\\\n마음에 들고 편하게 휘뚜루마뚜루 입기 좋고\\\\n꾸안꾸 스타일 인것같아요 ~\",\"engTrslProcYn\":\"Y\",\"engRevConts\":\"It&#39;s less shiny than I thought, which I like. It&#39;s comfortable to wear, and it seems to have a flattering style.\",\"revScrVal\":5,\"stfd1Yn\":\"\",\"stfd2Yn\":\"\",\"stfd3Yn\":\"\",\"frstRevYn\":\"\",\"buyMembYn\":\"\",\"revDispStatCd\":\"20\",\"contDispStatCd\":\"20\",\"dispProcDtm\":\"\",\"dispProcmnId\":\"\",\"hlpfulCnt\":\"0\",\"contentCnt\":\"2\",\"contRevGbCd\":\"20\",\"contFilePathNm\":\"/attachment/review/2024/04/19/74219d5d-7798-45eb-91a3-de5fe501ada5_SY2E3WJMTE1WM2.jpg\",\"myClickedHelpYn\":\"N\",\"transStatCd\":\"10\",\"thumbUrl\":\"/attachment/APP/randering.png\",\"onlOrdYn\":\"Y\",\"shopCd\":\"\",\"shopNm\":\"더한섬닷컴 시스템\",\"goodsClorNm\":\"BLACK\",\"goodsSzNm\":\"82\",\"goodsKoreaSz\":\"\",\"mbrGradeNm\":\"FRIEND\",\"brandNm\":\"\",\"goodsNm\":\"백 레터링 드로우스트링 점퍼\",\"myReviewYn\":\"N\",\"totalListCnt\":0,\"revContList\":[{\"goodsNo\":\"\",\"goodsNm\":\"\",\"revNo\":\"12994495\",\"revGbCd\":\"20\",\"cmtSerialNo\":\"1\",\"contFilePathNm\":\"/attachment/review/2024/04/19/74219d5d-7798-45eb-91a3-de5fe501ada5_SY2E3WJMTE1WM2.jpg\",\"contFileNm\":\"\",\"contentCnt\":\"\",\"newCmtSerialNo\":\"\",\"transStatCd\":\"10\",\"thumbUrl\":\"/attachment/APP/randering.png\",\"orgPathNm\":\"\",\"revDto\":null},{\"goodsNo\":\"\",\"goodsNm\":\"\",\"revNo\":\"12994495\",\"revGbCd\":\"20\",\"cmtSerialNo\":\"2\",\"contFilePathNm\":\"/attachment/review/2024/04/19/d6dfddc5-0a4b-473f-8695-9a82a694b71a_SY2E3WJMTE1WM2.jpg\",\"contFileNm\":\"\",\"contentCnt\":\"\",\"newCmtSerialNo\":\"\",\"transStatCd\":\"10\",\"thumbUrl\":\"/attachment/APP/randering.png\",\"orgPathNm\":\"\",\"revDto\":null}],\"revEvltList\":[{\"evltItemNo\":\"10432\",\"evltItemNm\":\"사이즈\",\"evltValNo\":\"003\",\"evltValNm\":\"커요\",\"evltValPrcnt\":\"\",\"mdtyEvltItemYn\":\"\",\"revNo\":\"12994495\"},{\"evltItemNo\":\"10433\",\"evltItemNm\":\"총길이\",\"evltValNo\":\"003\",\"evltValNm\":\"길어요\",\"evltValPrcnt\":\"\",\"mdtyEvltItemYn\":\"\",\"revNo\":\"12994495\"},{\"evltItemNo\":\"10434\",\"evltItemNm\":\"컬러\",\"evltValNo\":\"002\",\"evltValNm\":\"화면과 같아요\",\"evltValPrcnt\":\"\",\"mdtyEvltItemYn\":\"\",\"revNo\":\"12994495\"}],\"revPrfleList\":[{\"revNo\":\"12994495\",\"mbrPrfleCd\":\"11\",\"mbrPrfleNm\":\"키\",\"mbrPrfleValNo\":\"\",\"mbrPrfleValNm\":\"166cm\",\"ansCont\":\"166\",\"sortSeq\":1,\"stdCtgNo\":\"\"},{\"revNo\":\"12994495\",\"mbrPrfleCd\":\"40\",\"mbrPrfleNm\":\"평소사이즈\",\"mbrPrfleValNo\":\"4002\",\"mbrPrfleValNm\":\"55\",\"ansCont\":\"4002\",\"sortSeq\":2,\"stdCtgNo\":\"\"}],\"revMileageDto\":null,\"revOrderGoodsDto\":null,\"koreanRevYn\":null}],\"revAllListTotalCnt\":40}}'"
      ]
     },
     "execution_count": 17,
     "metadata": {},
     "output_type": "execute_result"
    }
   ],
   "source": [
    "response.text"
   ]
  },
  {
   "cell_type": "code",
   "execution_count": 18,
   "metadata": {},
   "outputs": [],
   "source": [
    "soup = BeautifulSoup(response.text, 'lxml')"
   ]
  },
  {
   "cell_type": "code",
   "execution_count": 22,
   "metadata": {},
   "outputs": [],
   "source": [
    "reviews = soup.string"
   ]
  },
  {
   "cell_type": "code",
   "execution_count": 27,
   "metadata": {},
   "outputs": [],
   "source": [
    "ten_reviews = json.loads(reviews)['payload']['revAllList']"
   ]
  },
  {
   "cell_type": "code",
   "execution_count": 28,
   "metadata": {},
   "outputs": [
    {
     "data": {
      "text/plain": [
       "'편하게 툭 걸치기 너무 좋아요. 소재도 가볍고 사이즈도 넉넉해서 어느 옷에나 매치하기 쉽고 이뻐요'"
      ]
     },
     "execution_count": 28,
     "metadata": {},
     "output_type": "execute_result"
    }
   ],
   "source": [
    "ten_reviews[0]['revCont']"
   ]
  },
  {
   "cell_type": "code",
   "execution_count": 30,
   "metadata": {},
   "outputs": [
    {
     "data": {
      "text/plain": [
       "'SY2E3WJMTE1WM2'"
      ]
     },
     "execution_count": 30,
     "metadata": {},
     "output_type": "execute_result"
    }
   ],
   "source": [
    "ten_reviews[0]['goodsNo']"
   ]
  },
  {
   "cell_type": "code",
   "execution_count": 37,
   "metadata": {},
   "outputs": [
    {
     "data": {
      "text/plain": [
       "'162cm'"
      ]
     },
     "execution_count": 37,
     "metadata": {},
     "output_type": "execute_result"
    }
   ],
   "source": [
    "# 키\n",
    "ten_reviews[0]['revPrfleList'][0]['mbrPrfleValNm']"
   ]
  },
  {
   "cell_type": "code",
   "execution_count": 38,
   "metadata": {},
   "outputs": [
    {
     "data": {
      "text/plain": [
       "'55'"
      ]
     },
     "execution_count": 38,
     "metadata": {},
     "output_type": "execute_result"
    }
   ],
   "source": [
    "# 평소 사이즈\n",
    "ten_reviews[0]['revPrfleList'][1]['mbrPrfleValNm']"
   ]
  }
 ],
 "metadata": {
  "kernelspec": {
   "display_name": "base",
   "language": "python",
   "name": "python3"
  },
  "language_info": {
   "codemirror_mode": {
    "name": "ipython",
    "version": 3
   },
   "file_extension": ".py",
   "mimetype": "text/x-python",
   "name": "python",
   "nbconvert_exporter": "python",
   "pygments_lexer": "ipython3",
   "version": "3.11.3"
  }
 },
 "nbformat": 4,
 "nbformat_minor": 2
}
