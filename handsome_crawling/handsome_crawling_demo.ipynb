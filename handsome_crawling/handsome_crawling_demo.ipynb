{
 "cells": [
  {
   "cell_type": "code",
   "execution_count": 3,
   "metadata": {},
   "outputs": [],
   "source": [
    "import time\n",
    "from bs4 import BeautifulSoup\n",
    "import pandas as pd\n",
    "import requests\n",
    "from requests.exceptions import Timeout\n",
    "import xml.etree.ElementTree as ET\n",
    "import json"
   ]
  },
  {
   "cell_type": "code",
   "execution_count": 4,
   "metadata": {},
   "outputs": [],
   "source": [
    "headers = {\n",
    "    'User-Agent': 'Mozilla/5.0 (Windows NT 10.0; Win64; x64) AppleWebKit/537.36 (KHTML, like Gecko) Chrome/124.0.0.0 Safari/537.36',\n",
    "    \n",
    "}"
   ]
  },
  {
   "cell_type": "code",
   "execution_count": 25,
   "metadata": {},
   "outputs": [],
   "source": [
    "def get_response(url, headers):\n",
    "\n",
    "    # GET 요청\n",
    "    response = requests.get(url, headers=headers)\n",
    "    soup = BeautifulSoup(response.text, 'lxml')\n",
    "    time.sleep(0.5)\n",
    "\n",
    "    return soup\n"
   ]
  },
  {
   "cell_type": "code",
   "execution_count": 26,
   "metadata": {},
   "outputs": [],
   "source": [
    "url = 'https://www.thehandsome.com/api/display/1/ko/category/categoryGoodsList?dispMediaCd=10&sortGbn=20&pageSize=21&pageNo=1&norOutletGbCd=J&dispCtgNo=980&productListLayout=4&theditedYn=N'"
   ]
  },
  {
   "cell_type": "code",
   "execution_count": 27,
   "metadata": {},
   "outputs": [],
   "source": [
    "response = requests.get(url, headers)"
   ]
  },
  {
   "cell_type": "code",
   "execution_count": 28,
   "metadata": {},
   "outputs": [],
   "source": [
    "soup = BeautifulSoup(response.text, 'lxml')"
   ]
  },
  {
   "cell_type": "code",
   "execution_count": 29,
   "metadata": {},
   "outputs": [],
   "source": [
    "info = soup.string"
   ]
  },
  {
   "cell_type": "code",
   "execution_count": 30,
   "metadata": {},
   "outputs": [],
   "source": [
    "first21 = json.loads(info)['payload']['goodsList']"
   ]
  },
  {
   "cell_type": "code",
   "execution_count": 31,
   "metadata": {},
   "outputs": [
    {
     "data": {
      "text/plain": [
       "{'goodsNo': 'LC2E4WSC267W',\n",
       " 'goodsNm': '튤 레이어드 스커트',\n",
       " 'brandNo': 'BR19',\n",
       " 'brandNm': 'LANVIN COLLECTION',\n",
       " 'lowrBrandNo': '',\n",
       " 'lowrBrandNm': None,\n",
       " 'norPrc': 565000,\n",
       " 'salePrc': 565000,\n",
       " 'dcRate': 0.0,\n",
       " 'dispCtgNo': '986',\n",
       " 'goodsTypCd': '10',\n",
       " 'norPrcUsd': 403.9,\n",
       " 'salePrcUsd': 403.9,\n",
       " 'hndDeliveryYn': 'Y',\n",
       " 'soutYn': 'N',\n",
       " 'flag': '20|30',\n",
       " 'stkrColorCd': '#aeb4ce',\n",
       " 'stkrWrd': None,\n",
       " 'stkrBtmWrd': None,\n",
       " 'goodsRevCnt': 16,\n",
       " 'wishGoodsYn': 'N',\n",
       " 'stkrDispStrDt': '20240419',\n",
       " 'stkrDispEndDt': '20240421',\n",
       " 'stkrDispYn': 'Y',\n",
       " 'goodsDesc': None,\n",
       " 'dispSeq': None,\n",
       " 'adveWrd': None,\n",
       " 'videoYn': 'N',\n",
       " 'videoFilePath': None,\n",
       " 'goodsCompCd': '10',\n",
       " 'dispGoodsContUrl': '/LC/2E/SS/LC2E4WSC267W_BK_W02.jpg',\n",
       " 'colorInfo': [{'goodsNo': 'LC2E4WSC267W',\n",
       "   'optnNo': 'BK',\n",
       "   'repYn': 'Y',\n",
       "   'repItmNo': '001',\n",
       "   'soutYn': 'N',\n",
       "   'colorChipUrl': '/LC/2E/SS/LC2E4WSC267W_BK_C01.jpg',\n",
       "   'dispSeq': 1,\n",
       "   'onlColorCd': 'BLACK',\n",
       "   'optnNm': 'BLACK',\n",
       "   'colorContInfo': [{'dispGoodsContGbCd': '20',\n",
       "     'imgGbCd': 'C01',\n",
       "     'dispGoodsContUrl': '/LC/2E/SS/LC2E4WSC267W_BK_C01.jpg',\n",
       "     'dispSeq': 1},\n",
       "    {'dispGoodsContGbCd': '20',\n",
       "     'imgGbCd': 'P01',\n",
       "     'dispGoodsContUrl': '/LC/2E/SS/LC2E4WSC267W_BK_W01.jpg?rs=684X1032',\n",
       "     'dispSeq': 1},\n",
       "    {'dispGoodsContGbCd': '20',\n",
       "     'imgGbCd': 'P02',\n",
       "     'dispGoodsContUrl': '/LC/2E/SS/LC2E4WSC267W_BK_W02.jpg?rs=684X1032',\n",
       "     'dispSeq': 1},\n",
       "    {'dispGoodsContGbCd': '20',\n",
       "     'imgGbCd': 'P03',\n",
       "     'dispGoodsContUrl': '/LC/2E/SS/LC2E4WSC267W_BK_W03.jpg?rs=684X1032',\n",
       "     'dispSeq': 1},\n",
       "    {'dispGoodsContGbCd': '20',\n",
       "     'imgGbCd': 'P04',\n",
       "     'dispGoodsContUrl': '/LC/2E/SS/LC2E4WSC267W_BK_W04.jpg?rs=684X1032',\n",
       "     'dispSeq': 1},\n",
       "    {'dispGoodsContGbCd': '20',\n",
       "     'imgGbCd': 'P05',\n",
       "     'dispGoodsContUrl': '/LC/2E/SS/LC2E4WSC267W_BK_W05.jpg?rs=684X1032',\n",
       "     'dispSeq': 1},\n",
       "    {'dispGoodsContGbCd': '20',\n",
       "     'imgGbCd': 'P06',\n",
       "     'dispGoodsContUrl': '/LC/2E/SS/LC2E4WSC267W_BK_W06.jpg?rs=684X1032',\n",
       "     'dispSeq': 1},\n",
       "    {'dispGoodsContGbCd': '20',\n",
       "     'imgGbCd': 'P07',\n",
       "     'dispGoodsContUrl': '/LC/2E/SS/LC2E4WSC267W_BK_W07.jpg?rs=684X1032',\n",
       "     'dispSeq': 1},\n",
       "    {'dispGoodsContGbCd': '20',\n",
       "     'imgGbCd': 'S01',\n",
       "     'dispGoodsContUrl': '/LC/2E/SS/LC2E4WSC267W_BK_S01.jpg',\n",
       "     'dispSeq': 1},\n",
       "    {'dispGoodsContGbCd': '20',\n",
       "     'imgGbCd': 'T01',\n",
       "     'dispGoodsContUrl': '/LC/2E/SS/LC2E4WSC267W_BK_T01.jpg',\n",
       "     'dispSeq': 1},\n",
       "    {'dispGoodsContGbCd': '20',\n",
       "     'imgGbCd': 'T02',\n",
       "     'dispGoodsContUrl': '/LC/2E/SS/LC2E4WSC267W_BK_T02.jpg',\n",
       "     'dispSeq': 1},\n",
       "    {'dispGoodsContGbCd': '20',\n",
       "     'imgGbCd': 'W01',\n",
       "     'dispGoodsContUrl': '/LC/2E/SS/LC2E4WSC267W_BK_W01.jpg',\n",
       "     'dispSeq': 1},\n",
       "    {'dispGoodsContGbCd': '20',\n",
       "     'imgGbCd': 'W02',\n",
       "     'dispGoodsContUrl': '/LC/2E/SS/LC2E4WSC267W_BK_W02.jpg',\n",
       "     'dispSeq': 1},\n",
       "    {'dispGoodsContGbCd': '20',\n",
       "     'imgGbCd': 'W03',\n",
       "     'dispGoodsContUrl': '/LC/2E/SS/LC2E4WSC267W_BK_W03.jpg',\n",
       "     'dispSeq': 1},\n",
       "    {'dispGoodsContGbCd': '20',\n",
       "     'imgGbCd': 'W04',\n",
       "     'dispGoodsContUrl': '/LC/2E/SS/LC2E4WSC267W_BK_W04.jpg',\n",
       "     'dispSeq': 1},\n",
       "    {'dispGoodsContGbCd': '20',\n",
       "     'imgGbCd': 'W05',\n",
       "     'dispGoodsContUrl': '/LC/2E/SS/LC2E4WSC267W_BK_W05.jpg',\n",
       "     'dispSeq': 1},\n",
       "    {'dispGoodsContGbCd': '20',\n",
       "     'imgGbCd': 'W06',\n",
       "     'dispGoodsContUrl': '/LC/2E/SS/LC2E4WSC267W_BK_W06.jpg',\n",
       "     'dispSeq': 1},\n",
       "    {'dispGoodsContGbCd': '20',\n",
       "     'imgGbCd': 'W07',\n",
       "     'dispGoodsContUrl': '/LC/2E/SS/LC2E4WSC267W_BK_W07.jpg',\n",
       "     'dispSeq': 1}],\n",
       "   'colorSizeInfo': [{'itmSaleStatCd': '10', 'erpSzNo': '1', 'erpSzCd': '61'},\n",
       "    {'itmSaleStatCd': '10', 'erpSzNo': '2', 'erpSzCd': '64'},\n",
       "    {'itmSaleStatCd': '20', 'erpSzNo': '3', 'erpSzCd': '67'}]}],\n",
       " 'tgtGoodsList': None}"
      ]
     },
     "execution_count": 31,
     "metadata": {},
     "output_type": "execute_result"
    }
   ],
   "source": [
    "first21[0]"
   ]
  },
  {
   "cell_type": "code",
   "execution_count": 32,
   "metadata": {},
   "outputs": [
    {
     "data": {
      "text/plain": [
       "'64'"
      ]
     },
     "execution_count": 32,
     "metadata": {},
     "output_type": "execute_result"
    }
   ],
   "source": [
    "# 상품id, 브랜드, 가격들, 이미지urls, 색상 사이즈(스큐) 정보 알 수 있음. / 상품 설명, 리뷰, 카테고리 추가 수집 필요\n",
    "first21[3]['colorInfo'][0]['colorSizeInfo'][0]['erpSzCd']"
   ]
  },
  {
   "cell_type": "code",
   "execution_count": 10,
   "metadata": {},
   "outputs": [],
   "source": [
    "goodsNos = []\n",
    "for goods in first21:\n",
    "    goodsNos.append(goods['goodsNo'])"
   ]
  },
  {
   "cell_type": "code",
   "execution_count": 11,
   "metadata": {},
   "outputs": [
    {
     "data": {
      "text/plain": [
       "['SY2E3WJMTE1WM2',\n",
       " 'TG2E3KCD049HDG',\n",
       " 'CM2E4KOT531WM1',\n",
       " 'TM2E4KCD261W',\n",
       " 'CM2E3WJC158WP1']"
      ]
     },
     "execution_count": 11,
     "metadata": {},
     "output_type": "execute_result"
    }
   ],
   "source": [
    "goodsNos[:5]"
   ]
  },
  {
   "cell_type": "code",
   "execution_count": 43,
   "metadata": {},
   "outputs": [],
   "source": [
    "# url = f'https://www.thehandsome.com/api/goods/1/ko/goods/{goodsNos[0]}/reviews?sortTypeCd=latest&revGbCd=&pageSize=10&pageNo=1'\n",
    "url = 'https://www.thehandsome.com/api/goods/1/ko/goods/TG2E3KCD049HDG/reviews?sortTypeCd=latest&revGbCd=&pageSize=1000&pageNo=1'"
   ]
  },
  {
   "cell_type": "code",
   "execution_count": 44,
   "metadata": {},
   "outputs": [],
   "source": [
    "response = requests.get(url, headers)"
   ]
  },
  {
   "cell_type": "code",
   "execution_count": 45,
   "metadata": {},
   "outputs": [
    {
     "data": {
      "text/plain": [
       "'{\"timestamp\":\"2024-04-22T18:33:30.701\",\"code\":\"0000\",\"message\":\"\",\"payload\":{\"revAllList\":[{\"revNo\":\"13005303\",\"mbrNo\":\"\",\"loginId\":\"eun***\",\"goodsNo\":\"TG2E3KCD049HDG\",\"goodsImgPathNm\":\"\",\"stdCtgNo\":\"\",\"ordNo\":\"\",\"ordSeq\":\"\",\"revTypCd\":\"10\",\"revGbCd\":\"10\",\"revWrtDtm\":\"2024.04.21\",\"revCont\":\"짧은 기장이지만 하이웨스트 청바지에 입기는 괜찮네요.\\\\n디자인이 맘에 들어 구매했는데 살짝 두께가 있어서 5월 중순 이후에는 더워서 못 입을 듯합니다.\",\"engTrslProcYn\":\"Y\",\"engRevConts\":\"Although the length is short, it is okay to wear with high waist jeans. I liked the design so I bought it, but it&#39;s a bit thick so I don&#39;t think I&#39;ll be able to wear it after mid-May because it&#39;s too hot.\",\"revScrVal\":5,\"stfd1Yn\":\"\",\"stfd2Yn\":\"\",\"stfd3Yn\":\"\",\"frstRevYn\":\"\",\"buyMembYn\":\"\",\"revDispStatCd\":\"20\",\"contDispStatCd\":\"20\",\"dispProcDtm\":\"\",\"dispProcmnId\":\"\",\"hlpfulCnt\":\"0\",\"contentCnt\":\"\",\"contRevGbCd\":\"\",\"contFilePathNm\":\"\",\"myClickedHelpYn\":\"N\",\"transStatCd\":\"\",\"thumbUrl\":\"\",\"onlOrdYn\":\"Y\",\"shopCd\":\"\",\"shopNm\":\"더한섬닷컴 톰그레이\",\"goodsClorNm\":\"DARK NAVY\",\"goodsSzNm\":\"OS\",\"goodsKoreaSz\":\"\",\"mbrGradeNm\":\"FRIEND\",\"brandNm\":\"\",\"goodsNm\":\"다이애그널 버튼 립 가디건\",\"myReviewYn\":\"N\",\"totalListCnt\":0,\"revContList\":[],\"revEvltList\":[{\"evltItemNo\":\"10432\",\"evltItemNm\":\"사이즈\",\"evltValNo\":\"001\",\"evltValNm\":\"작아요\",\"evltValPrcnt\":\"\",\"mdtyEvltItemYn\":\"\",\"revNo\":\"13005303\"},{\"evltItemNo\":\"10433\",\"evltItemNm\":\"총길이\",\"evltValNo\":\"001\",\"evltValNm\":\"짧아요\",\"evltValPrcnt\":\"\",\"mdtyEvltItemYn\":\"\",\"revNo\":\"13005303\"},{\"evltItemNo\":\"10434\",\"evltItemNm\":\"컬러\",\"evltValNo\":\"002\",\"evltValNm\":\"화면과 같아요\",\"evltValPrcnt\":\"\",\"mdtyEvltItemYn\":\"\",\"revNo\":\"13005303\"}],\"revPrfleList\":[{\"revNo\":\"13005303\",\"mbrPrfleCd\":\"11\",\"mbrPrfleNm\":\"키\",\"mbrPrfleValNo\":\"\",\"mbrPrfleValNm\":\"170cm\",\"ansCont\":\"170\",\"sortSeq\":1,\"stdCtgNo\":\"\"},{\"revNo\":\"13005303\",\"mbrPrfleCd\":\"40\",\"mbrPrfleNm\":\"평소사이즈\",\"mbrPrfleValNo\":\"4002\",\"mbrPrfleValNm\":\"55\",\"ansCont\":\"4002\",\"sortSeq\":2,\"stdCtgNo\":\"\"}],\"revMileageDto\":null,\"revOrderGoodsDto\":null,\"koreanRevYn\":null},{\"revNo\":\"13004682\",\"mbrNo\":\"\",\"loginId\":\"lol****************\",\"goodsNo\":\"TG2E3KCD049HDG\",\"goodsImgPathNm\":\"\",\"stdCtgNo\":\"\",\"ordNo\":\"\",\"ordSeq\":\"\",\"revTypCd\":\"10\",\"revGbCd\":\"10\",\"revWrtDtm\":\"2024.04.21\",\"revCont\":\"마니 크롭인데 잘 입어볼게요\",\"engTrslProcYn\":\"Y\",\"engRevConts\":\"It&#39;s a mani crop, so I&#39;ll wear it well.\",\"revScrVal\":5,\"stfd1Yn\":\"\",\"stfd2Yn\":\"\",\"stfd3Yn\":\"\",\"frstRevYn\":\"\",\"buyMembYn\":\"\",\"revDispStatCd\":\"20\",\"contDispStatCd\":\"20\",\"dispProcDtm\":\"\",\"dispProcmnId\":\"\",\"hlpfulCnt\":\"0\",\"contentCnt\":\"\",\"contRevGbCd\":\"\",\"contFilePathNm\":\"\",\"myClickedHelpYn\":\"N\",\"transStatCd\":\"\",\"thumbUrl\":\"\",\"onlOrdYn\":\"Y\",\"shopCd\":\"\",\"shopNm\":\"더한섬닷컴 톰그레이\",\"goodsClorNm\":\"DARK NAVY\",\"goodsSzNm\":\"OS\",\"goodsKoreaSz\":\"\",\"mbrGradeNm\":\"CREW\",\"brandNm\":\"\",\"goodsNm\":\"다이애그널 버튼 립 가디건\",\"myReviewYn\":\"N\",\"totalListCnt\":0,\"revContList\":[],\"revEvltList\":[{\"evltItemNo\":\"10432\",\"evltItemNm\":\"사이즈\",\"evltValNo\":\"002\",\"evltValNm\":\"잘맞아요\",\"evltValPrcnt\":\"\",\"mdtyEvltItemYn\":\"\",\"revNo\":\"13004682\"},{\"evltItemNo\":\"10433\",\"evltItemNm\":\"총길이\",\"evltValNo\":\"001\",\"evltValNm\":\"짧아요\",\"evltValPrcnt\":\"\",\"mdtyEvltItemYn\":\"\",\"revNo\":\"13004682\"},{\"evltItemNo\":\"10434\",\"evltItemNm\":\"컬러\",\"evltValNo\":\"002\",\"evltValNm\":\"화면과 같아요\",\"evltValPrcnt\":\"\",\"mdtyEvltItemYn\":\"\",\"revNo\":\"13004682\"}],\"revPrfleList\":[{\"revNo\":\"13004682\",\"mbrPrfleCd\":\"11\",\"mbrPrfleNm\":\"키\",\"mbrPrfleValNo\":\"\",\"mbrPrfleValNm\":\"165cm\",\"ansCont\":\"165\",\"sortSeq\":1,\"stdCtgNo\":\"\"},{\"revNo\":\"13004682\",\"mbrPrfleCd\":\"40\",\"mbrPrfleNm\":\"평소사이즈\",\"mbrPrfleValNo\":\"4002\",\"mbrPrfleValNm\":\"55\",\"ansCont\":\"4002\",\"sortSeq\":2,\"stdCtgNo\":\"\"}],\"revMileageDto\":null,\"revOrderGoodsDto\":null,\"koreanRevYn\":null},{\"revNo\":\"12963424\",\"mbrNo\":\"\",\"loginId\":\"mei******\",\"goodsNo\":\"TG2E3KCD049HDG\",\"goodsImgPathNm\":\"\",\"stdCtgNo\":\"\",\"ordNo\":\"\",\"ordSeq\":\"\",\"revTypCd\":\"10\",\"revGbCd\":\"20\",\"revWrtDtm\":\"2024.04.13\",\"revCont\":\"너무 너무 이뻐요. 단추 두개 풀르고 하이웨스트 하의 입음 딱이에요. 바지는 더캐시미어 와이드팬츠인데 찰떡이네요. \",\"engTrslProcYn\":\"Y\",\"engRevConts\":\"It&#39;s so, so pretty. It&#39;s perfect to wear with high-waisted bottoms with two buttons undone. The pants are The Cashmere wide pants and they are perfect. \",\"revScrVal\":5,\"stfd1Yn\":\"\",\"stfd2Yn\":\"\",\"stfd3Yn\":\"\",\"frstRevYn\":\"\",\"buyMembYn\":\"\",\"revDispStatCd\":\"20\",\"contDispStatCd\":\"20\",\"dispProcDtm\":\"\",\"dispProcmnId\":\"\",\"hlpfulCnt\":\"1\",\"contentCnt\":\"1\",\"contRevGbCd\":\"20\",\"contFilePathNm\":\"/attachment/review/2024/04/13/fc2b5ef0-be3f-47be-9129-aa7424f4236f_TG2E3KCD049HDG.jpeg\",\"myClickedHelpYn\":\"N\",\"transStatCd\":\"10\",\"thumbUrl\":\"/attachment/APP/randering.png\",\"onlOrdYn\":\"Y\",\"shopCd\":\"\",\"shopNm\":\"더한섬닷컴 톰그레이\",\"goodsClorNm\":\"DARK NAVY\",\"goodsSzNm\":\"OS\",\"goodsKoreaSz\":\"\",\"mbrGradeNm\":\"MANIA\",\"brandNm\":\"\",\"goodsNm\":\"다이애그널 버튼 립 가디건\",\"myReviewYn\":\"N\",\"totalListCnt\":0,\"revContList\":[{\"goodsNo\":\"\",\"goodsNm\":\"\",\"revNo\":\"12963424\",\"revGbCd\":\"20\",\"cmtSerialNo\":\"1\",\"contFilePathNm\":\"/attachment/review/2024/04/13/fc2b5ef0-be3f-47be-9129-aa7424f4236f_TG2E3KCD049HDG.jpeg\",\"contFileNm\":\"\",\"contentCnt\":\"\",\"newCmtSerialNo\":\"\",\"transStatCd\":\"10\",\"thumbUrl\":\"/attachment/APP/randering.png\",\"orgPathNm\":\"\",\"revDto\":null}],\"revEvltList\":[{\"evltItemNo\":\"10432\",\"evltItemNm\":\"사이즈\",\"evltValNo\":\"002\",\"evltValNm\":\"잘맞아요\",\"evltValPrcnt\":\"\",\"mdtyEvltItemYn\":\"\",\"revNo\":\"12963424\"},{\"evltItemNo\":\"10433\",\"evltItemNm\":\"총길이\",\"evltValNo\":\"002\",\"evltValNm\":\"적당해요\",\"evltValPrcnt\":\"\",\"mdtyEvltItemYn\":\"\",\"revNo\":\"12963424\"},{\"evltItemNo\":\"10434\",\"evltItemNm\":\"컬러\",\"evltValNo\":\"002\",\"evltValNm\":\"화면과 같아요\",\"evltValPrcnt\":\"\",\"mdtyEvltItemYn\":\"\",\"revNo\":\"12963424\"}],\"revPrfleList\":[{\"revNo\":\"12963424\",\"mbrPrfleCd\":\"11\",\"mbrPrfleNm\":\"키\",\"mbrPrfleValNo\":\"\",\"mbrPrfleValNm\":\"158cm\",\"ansCont\":\"158\",\"sortSeq\":1,\"stdCtgNo\":\"\"},{\"revNo\":\"12963424\",\"mbrPrfleCd\":\"40\",\"mbrPrfleNm\":\"평소사이즈\",\"mbrPrfleValNo\":\"4002\",\"mbrPrfleValNm\":\"55\",\"ansCont\":\"4002\",\"sortSeq\":2,\"stdCtgNo\":\"\"}],\"revMileageDto\":null,\"revOrderGoodsDto\":null,\"koreanRevYn\":null},{\"revNo\":\"12958952\",\"mbrNo\":\"\",\"loginId\":\"bon***************\",\"goodsNo\":\"TG2E3KCD049HDG\",\"goodsImgPathNm\":\"\",\"stdCtgNo\":\"\",\"ordNo\":\"\",\"ordSeq\":\"\",\"revTypCd\":\"10\",\"revGbCd\":\"10\",\"revWrtDtm\":\"2024.04.12\",\"revCont\":\"무조건 사세요. \\\\n대박 이뻐요~~\",\"engTrslProcYn\":\"Y\",\"engRevConts\":\"Absolutely buy it. It&#39;s so pretty~~\",\"revScrVal\":5,\"stfd1Yn\":\"\",\"stfd2Yn\":\"\",\"stfd3Yn\":\"\",\"frstRevYn\":\"\",\"buyMembYn\":\"\",\"revDispStatCd\":\"20\",\"contDispStatCd\":\"20\",\"dispProcDtm\":\"\",\"dispProcmnId\":\"\",\"hlpfulCnt\":\"0\",\"contentCnt\":\"\",\"contRevGbCd\":\"\",\"contFilePathNm\":\"\",\"myClickedHelpYn\":\"N\",\"transStatCd\":\"\",\"thumbUrl\":\"\",\"onlOrdYn\":\"Y\",\"shopCd\":\"\",\"shopNm\":\"더한섬닷컴 톰그레이\",\"goodsClorNm\":\"DARK NAVY\",\"goodsSzNm\":\"OS\",\"goodsKoreaSz\":\"\",\"mbrGradeNm\":\"CREW\",\"brandNm\":\"\",\"goodsNm\":\"다이애그널 버튼 립 가디건\",\"myReviewYn\":\"N\",\"totalListCnt\":0,\"revContList\":[],\"revEvltList\":[{\"evltItemNo\":\"10432\",\"evltItemNm\":\"사이즈\",\"evltValNo\":\"002\",\"evltValNm\":\"잘맞아요\",\"evltValPrcnt\":\"\",\"mdtyEvltItemYn\":\"\",\"revNo\":\"12958952\"},{\"evltItemNo\":\"10433\",\"evltItemNm\":\"총길이\",\"evltValNo\":\"002\",\"evltValNm\":\"적당해요\",\"evltValPrcnt\":\"\",\"mdtyEvltItemYn\":\"\",\"revNo\":\"12958952\"},{\"evltItemNo\":\"10434\",\"evltItemNm\":\"컬러\",\"evltValNo\":\"002\",\"evltValNm\":\"화면과 같아요\",\"evltValPrcnt\":\"\",\"mdtyEvltItemYn\":\"\",\"revNo\":\"12958952\"}],\"revPrfleList\":[{\"revNo\":\"12958952\",\"mbrPrfleCd\":\"11\",\"mbrPrfleNm\":\"키\",\"mbrPrfleValNo\":\"\",\"mbrPrfleValNm\":\"cm\",\"ansCont\":\"\",\"sortSeq\":1,\"stdCtgNo\":\"\"},{\"revNo\":\"12958952\",\"mbrPrfleCd\":\"40\",\"mbrPrfleNm\":\"평소사이즈\",\"mbrPrfleValNo\":\"4002\",\"mbrPrfleValNm\":\"55\",\"ansCont\":\"4002\",\"sortSeq\":2,\"stdCtgNo\":\"\"}],\"revMileageDto\":null,\"revOrderGoodsDto\":null,\"koreanRevYn\":null}],\"revAllListTotalCnt\":4}}'"
      ]
     },
     "execution_count": 45,
     "metadata": {},
     "output_type": "execute_result"
    }
   ],
   "source": [
    "response.text"
   ]
  },
  {
   "cell_type": "code",
   "execution_count": 46,
   "metadata": {},
   "outputs": [],
   "source": [
    "soup = BeautifulSoup(response.text, 'lxml')"
   ]
  },
  {
   "cell_type": "code",
   "execution_count": 47,
   "metadata": {},
   "outputs": [],
   "source": [
    "reviews = soup.string"
   ]
  },
  {
   "cell_type": "code",
   "execution_count": 48,
   "metadata": {},
   "outputs": [],
   "source": [
    "reviews = json.loads(reviews)['payload']['revAllList']"
   ]
  },
  {
   "cell_type": "code",
   "execution_count": 49,
   "metadata": {},
   "outputs": [
    {
     "data": {
      "text/plain": [
       "4"
      ]
     },
     "execution_count": 49,
     "metadata": {},
     "output_type": "execute_result"
    }
   ],
   "source": [
    "len(reviews)"
   ]
  },
  {
   "cell_type": "code",
   "execution_count": 50,
   "metadata": {},
   "outputs": [
    {
     "data": {
      "text/plain": [
       "'짧은 기장이지만 하이웨스트 청바지에 입기는 괜찮네요.\\n디자인이 맘에 들어 구매했는데 살짝 두께가 있어서 5월 중순 이후에는 더워서 못 입을 듯합니다.'"
      ]
     },
     "execution_count": 50,
     "metadata": {},
     "output_type": "execute_result"
    }
   ],
   "source": [
    "reviews[0]['revCont']"
   ]
  },
  {
   "cell_type": "code",
   "execution_count": 51,
   "metadata": {},
   "outputs": [
    {
     "data": {
      "text/plain": [
       "'TG2E3KCD049HDG'"
      ]
     },
     "execution_count": 51,
     "metadata": {},
     "output_type": "execute_result"
    }
   ],
   "source": [
    "reviews[0]['goodsNo']"
   ]
  },
  {
   "cell_type": "code",
   "execution_count": 23,
   "metadata": {},
   "outputs": [
    {
     "data": {
      "text/plain": [
       "'172cm'"
      ]
     },
     "execution_count": 23,
     "metadata": {},
     "output_type": "execute_result"
    }
   ],
   "source": [
    "# 키\n",
    "reviews[0]['revPrfleList'][0]['mbrPrfleValNm']"
   ]
  },
  {
   "cell_type": "code",
   "execution_count": 56,
   "metadata": {},
   "outputs": [
    {
     "data": {
      "text/plain": [
       "{'revNo': '12958952',\n",
       " 'mbrNo': '',\n",
       " 'loginId': 'bon***************',\n",
       " 'goodsNo': 'TG2E3KCD049HDG',\n",
       " 'goodsImgPathNm': '',\n",
       " 'stdCtgNo': '',\n",
       " 'ordNo': '',\n",
       " 'ordSeq': '',\n",
       " 'revTypCd': '10',\n",
       " 'revGbCd': '10',\n",
       " 'revWrtDtm': '2024.04.12',\n",
       " 'revCont': '무조건 사세요. \\n대박 이뻐요~~',\n",
       " 'engTrslProcYn': 'Y',\n",
       " 'engRevConts': \"Absolutely buy it. It's so pretty~~\",\n",
       " 'revScrVal': 5,\n",
       " 'stfd1Yn': '',\n",
       " 'stfd2Yn': '',\n",
       " 'stfd3Yn': '',\n",
       " 'frstRevYn': '',\n",
       " 'buyMembYn': '',\n",
       " 'revDispStatCd': '20',\n",
       " 'contDispStatCd': '20',\n",
       " 'dispProcDtm': '',\n",
       " 'dispProcmnId': '',\n",
       " 'hlpfulCnt': '0',\n",
       " 'contentCnt': '',\n",
       " 'contRevGbCd': '',\n",
       " 'contFilePathNm': '',\n",
       " 'myClickedHelpYn': 'N',\n",
       " 'transStatCd': '',\n",
       " 'thumbUrl': '',\n",
       " 'onlOrdYn': 'Y',\n",
       " 'shopCd': '',\n",
       " 'shopNm': '더한섬닷컴 톰그레이',\n",
       " 'goodsClorNm': 'DARK NAVY',\n",
       " 'goodsSzNm': 'OS',\n",
       " 'goodsKoreaSz': '',\n",
       " 'mbrGradeNm': 'CREW',\n",
       " 'brandNm': '',\n",
       " 'goodsNm': '다이애그널 버튼 립 가디건',\n",
       " 'myReviewYn': 'N',\n",
       " 'totalListCnt': 0,\n",
       " 'revContList': [],\n",
       " 'revEvltList': [{'evltItemNo': '10432',\n",
       "   'evltItemNm': '사이즈',\n",
       "   'evltValNo': '002',\n",
       "   'evltValNm': '잘맞아요',\n",
       "   'evltValPrcnt': '',\n",
       "   'mdtyEvltItemYn': '',\n",
       "   'revNo': '12958952'},\n",
       "  {'evltItemNo': '10433',\n",
       "   'evltItemNm': '총길이',\n",
       "   'evltValNo': '002',\n",
       "   'evltValNm': '적당해요',\n",
       "   'evltValPrcnt': '',\n",
       "   'mdtyEvltItemYn': '',\n",
       "   'revNo': '12958952'},\n",
       "  {'evltItemNo': '10434',\n",
       "   'evltItemNm': '컬러',\n",
       "   'evltValNo': '002',\n",
       "   'evltValNm': '화면과 같아요',\n",
       "   'evltValPrcnt': '',\n",
       "   'mdtyEvltItemYn': '',\n",
       "   'revNo': '12958952'}],\n",
       " 'revPrfleList': [{'revNo': '12958952',\n",
       "   'mbrPrfleCd': '11',\n",
       "   'mbrPrfleNm': '키',\n",
       "   'mbrPrfleValNo': '',\n",
       "   'mbrPrfleValNm': 'cm',\n",
       "   'ansCont': '',\n",
       "   'sortSeq': 1,\n",
       "   'stdCtgNo': ''},\n",
       "  {'revNo': '12958952',\n",
       "   'mbrPrfleCd': '40',\n",
       "   'mbrPrfleNm': '평소사이즈',\n",
       "   'mbrPrfleValNo': '4002',\n",
       "   'mbrPrfleValNm': '55',\n",
       "   'ansCont': '4002',\n",
       "   'sortSeq': 2,\n",
       "   'stdCtgNo': ''}],\n",
       " 'revMileageDto': None,\n",
       " 'revOrderGoodsDto': None,\n",
       " 'koreanRevYn': None}"
      ]
     },
     "execution_count": 56,
     "metadata": {},
     "output_type": "execute_result"
    }
   ],
   "source": [
    "reviews[3]"
   ]
  },
  {
   "cell_type": "code",
   "execution_count": 55,
   "metadata": {},
   "outputs": [
    {
     "data": {
      "text/plain": [
       "'55'"
      ]
     },
     "execution_count": 55,
     "metadata": {},
     "output_type": "execute_result"
    }
   ],
   "source": [
    "# 평소 사이즈\n",
    "reviews[3]['revPrfleList'][1]['mbrPrfleValNm']"
   ]
  },
  {
   "cell_type": "code",
   "execution_count": 34,
   "metadata": {},
   "outputs": [
    {
     "data": {
      "text/plain": [
       "5"
      ]
     },
     "execution_count": 34,
     "metadata": {},
     "output_type": "execute_result"
    }
   ],
   "source": [
    "# 별 수\n",
    "reviews[0]['revScrVal']"
   ]
  },
  {
   "cell_type": "code",
   "execution_count": 35,
   "metadata": {},
   "outputs": [
    {
     "data": {
      "text/plain": [
       "'2024.04.22'"
      ]
     },
     "execution_count": 35,
     "metadata": {},
     "output_type": "execute_result"
    }
   ],
   "source": [
    "# 리뷰 작성일\n",
    "reviews[0]['revWrtDtm']"
   ]
  },
  {
   "cell_type": "code",
   "execution_count": 36,
   "metadata": {},
   "outputs": [
    {
     "data": {
      "text/plain": [
       "'cyj****'"
      ]
     },
     "execution_count": 36,
     "metadata": {},
     "output_type": "execute_result"
    }
   ],
   "source": [
    "# 유저 아이디\n",
    "reviews[0]['loginId']"
   ]
  },
  {
   "cell_type": "code",
   "execution_count": 37,
   "metadata": {},
   "outputs": [
    {
     "data": {
      "text/plain": [
       "'BLACK'"
      ]
     },
     "execution_count": 37,
     "metadata": {},
     "output_type": "execute_result"
    }
   ],
   "source": [
    "# 구매 색상\n",
    "reviews[0]['goodsClorNm']"
   ]
  },
  {
   "cell_type": "code",
   "execution_count": 38,
   "metadata": {},
   "outputs": [
    {
     "data": {
      "text/plain": [
       "'82'"
      ]
     },
     "execution_count": 38,
     "metadata": {},
     "output_type": "execute_result"
    }
   ],
   "source": [
    "# 구매 사이즈\n",
    "reviews[0]['goodsSzNm']"
   ]
  },
  {
   "cell_type": "code",
   "execution_count": 39,
   "metadata": {},
   "outputs": [
    {
     "data": {
      "text/plain": [
       "'더한섬닷컴 시스템'"
      ]
     },
     "execution_count": 39,
     "metadata": {},
     "output_type": "execute_result"
    }
   ],
   "source": [
    "# 수입처\n",
    "reviews[0]['shopNm']"
   ]
  },
  {
   "cell_type": "code",
   "execution_count": 33,
   "metadata": {},
   "outputs": [
    {
     "data": {
      "text/plain": [
       "{'revNo': '13010132',\n",
       " 'mbrNo': '',\n",
       " 'loginId': 'cyj****',\n",
       " 'goodsNo': 'SY2E3WJMTE1WM2',\n",
       " 'goodsImgPathNm': '',\n",
       " 'stdCtgNo': '',\n",
       " 'ordNo': '',\n",
       " 'ordSeq': '',\n",
       " 'revTypCd': '10',\n",
       " 'revGbCd': '10',\n",
       " 'revWrtDtm': '2024.04.22',\n",
       " 'revCont': '평소 잘 안입는 스타일인데 입어보니 너무 맘에 들어요!\\n힙해보인다 해야하나..? \\n이제 더워져서 잘 못입겠지만 비올때 잘 입었어요',\n",
       " 'engTrslProcYn': 'Y',\n",
       " 'engRevConts': \"It's a style I don't usually wear, but I tried it and I really liked it! Should I say it looks hip..? It's getting hot now so I can't wear it well, but I wore it well when it rained.\",\n",
       " 'revScrVal': 5,\n",
       " 'stfd1Yn': '',\n",
       " 'stfd2Yn': '',\n",
       " 'stfd3Yn': '',\n",
       " 'frstRevYn': '',\n",
       " 'buyMembYn': '',\n",
       " 'revDispStatCd': '20',\n",
       " 'contDispStatCd': '20',\n",
       " 'dispProcDtm': '',\n",
       " 'dispProcmnId': '',\n",
       " 'hlpfulCnt': '0',\n",
       " 'contentCnt': '',\n",
       " 'contRevGbCd': '',\n",
       " 'contFilePathNm': '',\n",
       " 'myClickedHelpYn': 'N',\n",
       " 'transStatCd': '',\n",
       " 'thumbUrl': '',\n",
       " 'onlOrdYn': 'Y',\n",
       " 'shopCd': '',\n",
       " 'shopNm': '더한섬닷컴 시스템',\n",
       " 'goodsClorNm': 'BLACK',\n",
       " 'goodsSzNm': '82',\n",
       " 'goodsKoreaSz': '',\n",
       " 'mbrGradeNm': 'MANIA',\n",
       " 'brandNm': '',\n",
       " 'goodsNm': '백 레터링 드로우스트링 점퍼',\n",
       " 'myReviewYn': 'N',\n",
       " 'totalListCnt': 0,\n",
       " 'revContList': [],\n",
       " 'revEvltList': [{'evltItemNo': '10432',\n",
       "   'evltItemNm': '사이즈',\n",
       "   'evltValNo': '003',\n",
       "   'evltValNm': '커요',\n",
       "   'evltValPrcnt': '',\n",
       "   'mdtyEvltItemYn': '',\n",
       "   'revNo': '13010132'},\n",
       "  {'evltItemNo': '10433',\n",
       "   'evltItemNm': '총길이',\n",
       "   'evltValNo': '003',\n",
       "   'evltValNm': '길어요',\n",
       "   'evltValPrcnt': '',\n",
       "   'mdtyEvltItemYn': '',\n",
       "   'revNo': '13010132'},\n",
       "  {'evltItemNo': '10434',\n",
       "   'evltItemNm': '컬러',\n",
       "   'evltValNo': '002',\n",
       "   'evltValNm': '화면과 같아요',\n",
       "   'evltValPrcnt': '',\n",
       "   'mdtyEvltItemYn': '',\n",
       "   'revNo': '13010132'}],\n",
       " 'revPrfleList': [{'revNo': '13010132',\n",
       "   'mbrPrfleCd': '11',\n",
       "   'mbrPrfleNm': '키',\n",
       "   'mbrPrfleValNo': '',\n",
       "   'mbrPrfleValNm': '172cm',\n",
       "   'ansCont': '172',\n",
       "   'sortSeq': 1,\n",
       "   'stdCtgNo': ''},\n",
       "  {'revNo': '13010132',\n",
       "   'mbrPrfleCd': '40',\n",
       "   'mbrPrfleNm': '평소사이즈',\n",
       "   'mbrPrfleValNo': '4003',\n",
       "   'mbrPrfleValNm': '66',\n",
       "   'ansCont': '4003',\n",
       "   'sortSeq': 2,\n",
       "   'stdCtgNo': ''}],\n",
       " 'revMileageDto': None,\n",
       " 'revOrderGoodsDto': None,\n",
       " 'koreanRevYn': None}"
      ]
     },
     "execution_count": 33,
     "metadata": {},
     "output_type": "execute_result"
    }
   ],
   "source": [
    "reviews[0]"
   ]
  },
  {
   "cell_type": "code",
   "execution_count": 57,
   "metadata": {},
   "outputs": [],
   "source": [
    "url = 'https://www.thehandsome.com/ko/PM/productDetail/SH2E1NPCT04M'"
   ]
  },
  {
   "cell_type": "code",
   "execution_count": 58,
   "metadata": {},
   "outputs": [],
   "source": [
    "soup = get_response(url, headers)"
   ]
  },
  {
   "cell_type": "code",
   "execution_count": 62,
   "metadata": {},
   "outputs": [
    {
     "data": {
      "text/plain": [
       "'자연스럽게 물이 빠진 듯한 워싱 디테일이 시선을 끄는 데님 팬츠로 시스템 옴므만의 유니크한 분위기가 돋보이는 아이템입니다. 밑단까지 여유롭게 떨어지는 와이드 실루엣이 특징이며, 허리 라인 뒷면에 레더 탭을 더해 포인트를 주었습니다. 밑단에 올을 풀어 마감한듯한 프린지 디테일을 더해 섬세하게 완성했으며, 탄탄한 100% 면 소재를 사용해 높은 활용도를 선보입니다.'"
      ]
     },
     "execution_count": 62,
     "metadata": {},
     "output_type": "execute_result"
    }
   ],
   "source": [
    "soup.select('div.prd-desc-box')[0].text"
   ]
  },
  {
   "cell_type": "code",
   "execution_count": 64,
   "metadata": {},
   "outputs": [
    {
     "data": {
      "text/plain": [
       "'WIDE : 허벅지와 밑단 폭이 넓으면서 실루엣이 자연스럽게 떨어지는 라인187cm, 100 사이즈 모델이 82 사이즈 착용'"
      ]
     },
     "execution_count": 64,
     "metadata": {},
     "output_type": "execute_result"
    }
   ],
   "source": [
    "soup.select('p.cmp-font')[0].text"
   ]
  },
  {
   "cell_type": "code",
   "execution_count": 66,
   "metadata": {},
   "outputs": [],
   "source": [
    "extra = soup.select('ul.cmp-list.list-dotType2.bottom6')"
   ]
  },
  {
   "cell_type": "code",
   "execution_count": 67,
   "metadata": {},
   "outputs": [],
   "source": [
    "extra_info = []\n",
    "for info in extra:\n",
    "    extra_info.append(info.text)"
   ]
  },
  {
   "cell_type": "code",
   "execution_count": 68,
   "metadata": {},
   "outputs": [
    {
     "data": {
      "text/plain": [
       "['100% 면 소재', '앞면에 버튼과 지퍼 클로징', '5포켓 디자인', '허리 라인 뒷면에 레더 탭']"
      ]
     },
     "execution_count": 68,
     "metadata": {},
     "output_type": "execute_result"
    }
   ],
   "source": [
    "extra_info"
   ]
  }
 ],
 "metadata": {
  "kernelspec": {
   "display_name": "base",
   "language": "python",
   "name": "python3"
  },
  "language_info": {
   "codemirror_mode": {
    "name": "ipython",
    "version": 3
   },
   "file_extension": ".py",
   "mimetype": "text/x-python",
   "name": "python",
   "nbconvert_exporter": "python",
   "pygments_lexer": "ipython3",
   "version": "3.11.3"
  }
 },
 "nbformat": 4,
 "nbformat_minor": 2
}
