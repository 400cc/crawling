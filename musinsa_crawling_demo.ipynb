{
 "cells": [
  {
   "cell_type": "code",
   "execution_count": 177,
   "metadata": {},
   "outputs": [],
   "source": [
    "from selenium import webdriver\n",
    "from selenium.webdriver.chrome.service import Service\n",
    "import selenium\n",
    "import time\n",
    "from bs4 import BeautifulSoup\n",
    "import pandas as pd\n",
    "from selenium.common.exceptions import StaleElementReferenceException\n",
    "from selenium.webdriver.common.by import By\n"
   ]
  },
  {
   "cell_type": "code",
   "execution_count": 197,
   "metadata": {},
   "outputs": [],
   "source": [
    "# 현재 작업 디렉터리에 있는 chromedriver 파일을 가리킵니다.\n",
    "s = Service(\"D:\\chromedriver.exe\")\n",
    "\n",
    "driver = webdriver.Chrome(service=s)\n",
    "\n",
    "driver.maximize_window()\n",
    "\n",
    "# 접속하기\n",
    "url = 'https://www.musinsa.com/app/?utm_source=google_shopping&utm_medium=sh&utm_campaign=pmax_ongoing&source=GOSHSAP001&utm_source=google_shopping&utm_medium=sh&utm_campaign=pmax_ongoing&source=GOSHSAP001&gad_source=1&gclid=Cj0KCQjw2uiwBhCXARIsACMvIU1UMS64MMDr5AnHmY9HCoA5rr0_lsqU7qfdTBcMfRIqPs1go8c8IJIaAhmFEALw_wcB'\n",
    "\n",
    "# 지정한 웹 페이지 열기\n",
    "driver.get(url)\n",
    "time.sleep(1)\n",
    "\n",
    "soup = BeautifulSoup(driver.page_source, 'html.parser')\n",
    "time.sleep(1)"
   ]
  },
  {
   "cell_type": "code",
   "execution_count": 4,
   "metadata": {},
   "outputs": [],
   "source": [
    "# 대분류 내 확장버튼 (중분류 보기 위함)\n",
    "\n",
    "expanding_button = driver.find_elements('css selector', 'button.sc-8hpehb-2.jmROMB')[1]\n",
    "expanding_button.click()"
   ]
  },
  {
   "cell_type": "code",
   "execution_count": 5,
   "metadata": {},
   "outputs": [],
   "source": [
    "expanding_buttons = soup.select('button.sc-8hpehb-2.jmROMB')\n",
    "# expanding_buttons = expanding_buttons[1:6]\n",
    "# expanding_buttons"
   ]
  },
  {
   "cell_type": "code",
   "execution_count": 6,
   "metadata": {},
   "outputs": [
    {
     "data": {
      "text/plain": [
       "[]"
      ]
     },
     "execution_count": 6,
     "metadata": {},
     "output_type": "execute_result"
    }
   ],
   "source": [
    "expanding_buttons[0].select('li.sc-8hpehb-9.eatmFI')"
   ]
  },
  {
   "cell_type": "code",
   "execution_count": 8,
   "metadata": {},
   "outputs": [
    {
     "data": {
      "text/plain": [
       "218"
      ]
     },
     "execution_count": 8,
     "metadata": {},
     "output_type": "execute_result"
    }
   ],
   "source": [
    "len(driver.find_elements('css selector', 'li.sc-8hpehb-9.eatmFI'))"
   ]
  },
  {
   "cell_type": "code",
   "execution_count": 9,
   "metadata": {},
   "outputs": [
    {
     "data": {
      "text/plain": [
       "23"
      ]
     },
     "execution_count": 9,
     "metadata": {},
     "output_type": "execute_result"
    }
   ],
   "source": [
    "# 대분류\n",
    "main_categories = soup.select('div.sc-nw870h-1.knbIYx > section > div > nav > div[role]' )\n",
    "len(main_categories)"
   ]
  },
  {
   "cell_type": "code",
   "execution_count": 10,
   "metadata": {},
   "outputs": [
    {
     "data": {
      "text/plain": [
       "[<a class=\"sc-8hpehb-10 gUJCm\" href=\"https://www.musinsa.com/categories/item/001\">전체<span> (265,448)</span></a>,\n",
       " <a class=\"sc-8hpehb-10 gUJCm\" href=\"https://www.musinsa.com/categories/item/001006\">니트/스웨터<span> (31,868)</span></a>,\n",
       " <a class=\"sc-8hpehb-10 gUJCm\" href=\"https://www.musinsa.com/categories/item/001004\">후드 티셔츠<span> (26,837)</span></a>,\n",
       " <a class=\"sc-8hpehb-10 gUJCm\" href=\"https://www.musinsa.com/categories/item/001005\">맨투맨/스웨트셔츠<span> (39,941)</span></a>,\n",
       " <a class=\"sc-8hpehb-10 gUJCm\" href=\"https://www.musinsa.com/categories/item/001010\">긴소매 티셔츠<span> (24,364)</span></a>,\n",
       " <a class=\"sc-8hpehb-10 gUJCm\" href=\"https://www.musinsa.com/categories/item/001002\">셔츠/블라우스<span> (30,381)</span></a>,\n",
       " <a class=\"sc-8hpehb-10 gUJCm\" href=\"https://www.musinsa.com/categories/item/001003\">피케/카라 티셔츠<span> (12,720)</span></a>,\n",
       " <a class=\"sc-8hpehb-10 gUJCm\" href=\"https://www.musinsa.com/categories/item/001001\">반소매 티셔츠<span> (82,603)</span></a>,\n",
       " <a class=\"sc-8hpehb-10 gUJCm\" href=\"https://www.musinsa.com/categories/item/001011\">민소매 티셔츠<span> (8,311)</span></a>,\n",
       " <a class=\"sc-8hpehb-10 gUJCm\" href=\"https://www.musinsa.com/categories/item/001013\">스포츠 상의<span> (30,675)</span></a>,\n",
       " <a class=\"sc-8hpehb-10 gUJCm\" href=\"https://www.musinsa.com/categories/item/001008\">기타 상의<span> (7,747)</span></a>]"
      ]
     },
     "execution_count": 10,
     "metadata": {},
     "output_type": "execute_result"
    }
   ],
   "source": [
    "# 중분류 링크\n",
    "middle_categories = main_categories[1].select('li > a[href]')\n",
    "middle_categories"
   ]
  },
  {
   "cell_type": "code",
   "execution_count": 39,
   "metadata": {},
   "outputs": [],
   "source": [
    "# 중분류 내 전체랑 기타는 제외\n",
    "middle_categories = middle_categories[1:-1]"
   ]
  },
  {
   "cell_type": "code",
   "execution_count": 11,
   "metadata": {},
   "outputs": [
    {
     "data": {
      "text/plain": [
       "'https://www.musinsa.com/categories/item/001'"
      ]
     },
     "execution_count": 11,
     "metadata": {},
     "output_type": "execute_result"
    }
   ],
   "source": [
    "middle_categories[0]['href']"
   ]
  },
  {
   "cell_type": "code",
   "execution_count": 12,
   "metadata": {},
   "outputs": [],
   "source": [
    "# 중분류 중 첫번째 카테고리 페이지로 이동\n",
    "driver.get(middle_categories[0]['href'])"
   ]
  },
  {
   "cell_type": "code",
   "execution_count": 212,
   "metadata": {},
   "outputs": [],
   "source": [
    "# 파싱\n",
    "soup = BeautifulSoup(driver.page_source, 'html.parser')"
   ]
  },
  {
   "cell_type": "code",
   "execution_count": 14,
   "metadata": {},
   "outputs": [],
   "source": [
    "# 판매순 토글 클릭\n",
    "driver.find_element('xpath', '//*[@id=\"goods_list\"]/div[2]/div[1]/a[7]/span/i').click()"
   ]
  },
  {
   "cell_type": "code",
   "execution_count": 15,
   "metadata": {},
   "outputs": [],
   "source": [
    "# 1일로 설정\n",
    "driver.find_element('xpath', '//*[@id=\"layerSorting_sale\"]/div/label[1]').click()"
   ]
  },
  {
   "cell_type": "code",
   "execution_count": 16,
   "metadata": {},
   "outputs": [],
   "source": [
    "# 아이템 개수. 상수화\n",
    "items_count = 100"
   ]
  },
  {
   "cell_type": "code",
   "execution_count": 17,
   "metadata": {},
   "outputs": [],
   "source": [
    "# 파싱\n",
    "soup = BeautifulSoup(driver.page_source, 'html.parser')"
   ]
  },
  {
   "cell_type": "code",
   "execution_count": 18,
   "metadata": {},
   "outputs": [
    {
     "data": {
      "text/plain": [
       "90"
      ]
     },
     "execution_count": 18,
     "metadata": {},
     "output_type": "execute_result"
    }
   ],
   "source": [
    "# 한 페이지에 존재하는 상품들 링크 정보 수집. 한 페이지 당 90개 존재.\n",
    "# 100개 수집하려면 다음페이지로도 가야함\n",
    "product_links = soup.select('div.list-box.box > ul > li.li_box > div.li_inner > div.article_info > p.list_info > a[href]')\n",
    "len(product_links)"
   ]
  },
  {
   "cell_type": "code",
   "execution_count": 19,
   "metadata": {},
   "outputs": [
    {
     "name": "stdout",
     "output_type": "stream",
     "text": [
      "//www.musinsa.com/app/goods/3972351\n",
      "//www.musinsa.com/app/goods/3802507\n",
      "//www.musinsa.com/app/goods/3175105\n",
      "//www.musinsa.com/app/goods/3283629\n",
      "//www.musinsa.com/app/goods/3202947\n",
      "//www.musinsa.com/app/goods/3971331\n",
      "//www.musinsa.com/app/goods/2474966\n",
      "//www.musinsa.com/app/goods/3202958\n",
      "//www.musinsa.com/app/goods/3430103\n",
      "//www.musinsa.com/app/goods/3931258\n"
     ]
    }
   ],
   "source": [
    "# 링크 형태 살짝 안맞는거 확인\n",
    "for product_link in product_links[:10]:\n",
    "    print(product_link['href'])\n",
    "    "
   ]
  },
  {
   "cell_type": "code",
   "execution_count": 20,
   "metadata": {},
   "outputs": [],
   "source": [
    "# get 파라미터처럼 형태 바꿔줘서 for문 돌려야 함\n",
    "driver.get(product_links[0]['href'].replace('//', \"https://\"))"
   ]
  },
  {
   "cell_type": "code",
   "execution_count": 215,
   "metadata": {},
   "outputs": [],
   "source": [
    "# 파싱\n",
    "soup = BeautifulSoup(driver.page_source, 'html.parser')"
   ]
  },
  {
   "cell_type": "code",
   "execution_count": 24,
   "metadata": {},
   "outputs": [
    {
     "data": {
      "text/plain": [
       "'SPAO'"
      ]
     },
     "execution_count": 24,
     "metadata": {},
     "output_type": "execute_result"
    }
   ],
   "source": [
    "# 브랜드\n",
    "\n",
    "brand = soup.select('div.product-detail__sc-achptn-6.TehCn > a')[0]['title']\n",
    "brand"
   ]
  },
  {
   "cell_type": "code",
   "execution_count": 25,
   "metadata": {},
   "outputs": [
    {
     "data": {
      "text/plain": [
       "'SPKWE25M05'"
      ]
     },
     "execution_count": 25,
     "metadata": {},
     "output_type": "execute_result"
    }
   ],
   "source": [
    "# 품번\n",
    "product_num = soup.select('span.product-detail__sc-achptn-4.cobjEx')[2].text\n",
    "product_num"
   ]
  },
  {
   "cell_type": "code",
   "execution_count": 26,
   "metadata": {},
   "outputs": [
    {
     "data": {
      "text/plain": [
       "'200 개 이상'"
      ]
     },
     "execution_count": 26,
     "metadata": {},
     "output_type": "execute_result"
    }
   ],
   "source": [
    "# 누적판매(1년)\n",
    "\n",
    "cumulative_sales = soup.select('span.product-detail__sc-achptn-4.cobjEx')[8].text\n",
    "cumulative_sales"
   ]
  },
  {
   "cell_type": "code",
   "execution_count": 27,
   "metadata": {},
   "outputs": [
    {
     "data": {
      "text/plain": [
       "'129'"
      ]
     },
     "execution_count": 27,
     "metadata": {},
     "output_type": "execute_result"
    }
   ],
   "source": [
    "# 좋아요\n",
    "heart = soup.select('span.product-detail__sc-achptn-4.coaOzR')[0].text\n",
    "heart"
   ]
  },
  {
   "cell_type": "code",
   "execution_count": 213,
   "metadata": {},
   "outputs": [
    {
     "data": {
      "text/plain": [
       "'59,000원'"
      ]
     },
     "execution_count": 213,
     "metadata": {},
     "output_type": "execute_result"
    }
   ],
   "source": [
    "# 정가 (무신사 판매가)\n",
    "regular_price = soup.select('span.product-detail__sc-1p1ulhg-7.JZAP')[0].text\n",
    "regular_price"
   ]
  },
  {
   "cell_type": "code",
   "execution_count": 214,
   "metadata": {},
   "outputs": [
    {
     "data": {
      "text/plain": [
       "'41,400원'"
      ]
     },
     "execution_count": 214,
     "metadata": {},
     "output_type": "execute_result"
    }
   ],
   "source": [
    "soup.select('span.product-detail__sc-1p1ulhg-7.kijFAA')[0].text.split('~')[0].strip() "
   ]
  },
  {
   "cell_type": "code",
   "execution_count": 219,
   "metadata": {},
   "outputs": [
    {
     "data": {
      "text/plain": [
       "'18,900원'"
      ]
     },
     "execution_count": 219,
     "metadata": {},
     "output_type": "execute_result"
    }
   ],
   "source": [
    "soup.select('span.product-detail__sc-1p1ulhg-7.jBxBWz')[0].text"
   ]
  },
  {
   "cell_type": "code",
   "execution_count": 30,
   "metadata": {},
   "outputs": [
    {
     "data": {
      "text/plain": [
       "'22,227 ~ 35,910원'"
      ]
     },
     "execution_count": 30,
     "metadata": {},
     "output_type": "execute_result"
    }
   ],
   "source": [
    "# 할인가인데 적절히 split 해서 써야할듯 (무신사 회원가)\n",
    "discount_sales = soup.select('span.product-detail__sc-1p1ulhg-7.kijFAA')[0].text\n",
    "discount_sales"
   ]
  },
  {
   "cell_type": "code",
   "execution_count": 33,
   "metadata": {},
   "outputs": [
    {
     "data": {
      "text/plain": [
       "1"
      ]
     },
     "execution_count": 33,
     "metadata": {},
     "output_type": "execute_result"
    }
   ],
   "source": [
    "len(soup.select('div.product-detail__sc-p62agb-1.brrfxn > img'))"
   ]
  },
  {
   "cell_type": "code",
   "execution_count": 32,
   "metadata": {},
   "outputs": [
    {
     "data": {
      "text/plain": [
       "[<img alt=\"썸네일 2번째\" class=\"product-detail__sc-p62agb-9 cXcZGv\" src=\"https://image.msscdn.net/images/prd_img/20240320/3972351/detail_3972351_17109933624147_60.jpg\"/>,\n",
       " <img alt=\"썸네일 3번째\" class=\"product-detail__sc-p62agb-9 cXcZGv\" src=\"https://image.msscdn.net/images/prd_img/20240320/3972351/detail_3972351_17109933724534_60.jpg\"/>,\n",
       " <img alt=\"썸네일 4번째\" class=\"product-detail__sc-p62agb-9 cXcZGv\" src=\"https://image.msscdn.net/images/prd_img/20240320/3972351/detail_3972351_17109933646933_60.jpg\"/>,\n",
       " <img alt=\"썸네일 5번째\" class=\"product-detail__sc-p62agb-9 cXcZGv\" src=\"https://image.msscdn.net/images/prd_img/20240320/3972351/detail_3972351_17109933709223_60.jpg\"/>,\n",
       " <img alt=\"썸네일 6번째\" class=\"product-detail__sc-p62agb-9 cXcZGv\" src=\"https://image.msscdn.net/images/prd_img/20240320/3972351/detail_3972351_17109933752315_60.jpg\"/>,\n",
       " <img alt=\"썸네일 7번째\" class=\"product-detail__sc-p62agb-9 cXcZGv\" src=\"https://image.msscdn.net/images/prd_img/20240320/3972351/detail_3972351_17109933738759_60.jpg\"/>,\n",
       " <img alt=\"썸네일 8번째\" class=\"product-detail__sc-p62agb-9 cXcZGv\" src=\"https://image.msscdn.net/images/prd_img/20240320/3972351/detail_3972351_17109933680404_60.jpg\"/>]"
      ]
     },
     "execution_count": 32,
     "metadata": {},
     "output_type": "execute_result"
    }
   ],
   "source": [
    "# 이미지 링크\n",
    "img_links = soup.select('ul.product-detail__sc-p62agb-7.deRVDj > li.product-detail__sc-p62agb-8.hFLxgF > img')\n",
    "img_links"
   ]
  },
  {
   "cell_type": "code",
   "execution_count": 83,
   "metadata": {},
   "outputs": [
    {
     "data": {
      "text/plain": [
       "[<li class=\"product-detail__sc-p62agb-8 iqAHsp\"><img alt=\"썸네일 6번째\" class=\"product-detail__sc-p62agb-9 cXcZGv\" src=\"https://image.msscdn.net/images/prd_img/20240117/3802507/detail_3802507_17068529718720_60.jpg\"/></li>]"
      ]
     },
     "execution_count": 83,
     "metadata": {},
     "output_type": "execute_result"
    }
   ],
   "source": [
    "soup.select('li.product-detail__sc-p62agb-8.iqAHsp')"
   ]
  },
  {
   "cell_type": "code",
   "execution_count": 78,
   "metadata": {},
   "outputs": [
    {
     "data": {
      "text/plain": [
       "11"
      ]
     },
     "execution_count": 78,
     "metadata": {},
     "output_type": "execute_result"
    }
   ],
   "source": [
    "len(img_links)"
   ]
  },
  {
   "cell_type": "code",
   "execution_count": 28,
   "metadata": {},
   "outputs": [],
   "source": [
    "# 이미지 파일 저장할 디렉토리\n",
    "\n",
    "import os\n",
    "\n",
    "if \"images\" not in os.listdir():  \n",
    "    os.mkdir(\"images\")"
   ]
  },
  {
   "cell_type": "code",
   "execution_count": 29,
   "metadata": {},
   "outputs": [
    {
     "name": "stdout",
     "output_type": "stream",
     "text": [
      "saved image https://image.msscdn.net/images/goods_img/20240117/3802507/3802507_17068529515138_500.jpg > ./images/TRSKN19BK.png\n"
     ]
    }
   ],
   "source": [
    "# 이미지 저장. 나중에 for문으로 돌릴땐 이미지 이미 있으면 continue 하도록 설정\n",
    "from urllib.request import urlretrieve\n",
    "\n",
    "urlretrieve(img_link, f'./images/{product_num}.png')\n",
    "print(f'saved image {img_link} > ./images/{product_num}.png')"
   ]
  },
  {
   "cell_type": "code",
   "execution_count": 61,
   "metadata": {},
   "outputs": [
    {
     "name": "stdout",
     "output_type": "stream",
     "text": [
      "0% 13% 22% 28% 13% 24% "
     ]
    }
   ],
   "source": [
    "# 나이\n",
    "\n",
    "ages = soup.select('span.product-detail__sc-riuadz-12.cFgaXH')\n",
    "\n",
    "''' \n",
    "0 : ~18세\n",
    "1 : 19~23세\n",
    "2 : 24~28세\n",
    "3 : 29~33세\n",
    "4 : 34~39세\n",
    "5 : 40세~\n",
    "'''\n",
    "\n",
    "for age in ages:\n",
    "    print(age.text, end=' ')"
   ]
  },
  {
   "cell_type": "code",
   "execution_count": 62,
   "metadata": {},
   "outputs": [
    {
     "data": {
      "text/plain": [
       "'13%'"
      ]
     },
     "execution_count": 62,
     "metadata": {},
     "output_type": "execute_result"
    }
   ],
   "source": [
    "# 남성 구매 비율\n",
    "man = soup.select('span.product-detail__sc-18glxph-9.YnCTG')[0].text\n",
    "man"
   ]
  },
  {
   "cell_type": "code",
   "execution_count": 63,
   "metadata": {},
   "outputs": [
    {
     "data": {
      "text/plain": [
       "'87%'"
      ]
     },
     "execution_count": 63,
     "metadata": {},
     "output_type": "execute_result"
    }
   ],
   "source": [
    "# 여성 구매 비율\n",
    "woman = soup.select('span.product-detail__sc-18glxph-9.YnCTG')[1].text\n",
    "woman"
   ]
  },
  {
   "cell_type": "code",
   "execution_count": 64,
   "metadata": {},
   "outputs": [],
   "source": [
    "# # 상품 후기 클릭\n",
    "# driver.find_element('xpath', '//*[@id=\"estimateBox\"]/div[2]/ul/li[2]').click()\n",
    "\n",
    "# # 일반 후기 클릭\n",
    "# driver.find_element('xpath', '//*[@id=\"estimateBox\"]/div[2]/ul/li[3]').click()"
   ]
  },
  {
   "cell_type": "code",
   "execution_count": 70,
   "metadata": {},
   "outputs": [
    {
     "data": {
      "text/plain": [
       "10"
      ]
     },
     "execution_count": 70,
     "metadata": {},
     "output_type": "execute_result"
    }
   ],
   "source": [
    "reviews = soup.select('div.review-list-wrap > div.review-list')\n",
    "len(reviews)"
   ]
  },
  {
   "cell_type": "code",
   "execution_count": 71,
   "metadata": {},
   "outputs": [],
   "source": [
    "# 일단 첫번째 리뷰어 데이터만\n",
    "review = reviews[0]"
   ]
  },
  {
   "cell_type": "code",
   "execution_count": 72,
   "metadata": {},
   "outputs": [
    {
     "data": {
      "text/plain": [
       "'LV.4 톡톡맘'"
      ]
     },
     "execution_count": 72,
     "metadata": {},
     "output_type": "execute_result"
    }
   ],
   "source": [
    "# 한 페이지에 있는 리뷰어의 이름. for문에서 인덱싱만 해주면 됨\n",
    "review.select('div.review-profile > div.review-profile__text-wrap > div > p.review-profile__name')[0].text"
   ]
  },
  {
   "cell_type": "code",
   "execution_count": 74,
   "metadata": {},
   "outputs": [
    {
     "data": {
      "text/plain": [
       "'width: 100%'"
      ]
     },
     "execution_count": 74,
     "metadata": {},
     "output_type": "execute_result"
    }
   ],
   "source": [
    "# 한 페이지에 있는 리뷰어의 별 개수. %에 따라 별 개수 산정\n",
    "review.select('span.review-list__rating__active')[0]['style']"
   ]
  },
  {
   "cell_type": "code",
   "execution_count": 75,
   "metadata": {},
   "outputs": [
    {
     "data": {
      "text/plain": [
       "'1'"
      ]
     },
     "execution_count": 75,
     "metadata": {},
     "output_type": "execute_result"
    }
   ],
   "source": [
    "# 도움돼요 수\n",
    "review.select('label.review-evaluation-button--type3__item.review-evaluation-button--type3__item--button01 > span.review-evaluation-button--type3__count')[0].text"
   ]
  },
  {
   "cell_type": "code",
   "execution_count": 76,
   "metadata": {},
   "outputs": [
    {
     "data": {
      "text/plain": [
       "'3'"
      ]
     },
     "execution_count": 76,
     "metadata": {},
     "output_type": "execute_result"
    }
   ],
   "source": [
    "# 스타일좋아요 수. 스타일 후기에서만 존재\n",
    "review.select('label.review-evaluation-button--type3__item.review-evaluation-button--type3__item--button02 > span.review-evaluation-button--type3__count')[0].text"
   ]
  },
  {
   "cell_type": "code",
   "execution_count": 27,
   "metadata": {},
   "outputs": [
    {
     "data": {
      "text/plain": [
       "''"
      ]
     },
     "execution_count": 27,
     "metadata": {},
     "output_type": "execute_result"
    }
   ],
   "source": [
    "driver.find_elements('css selector', 'a.paging-btn.btn')[8].text"
   ]
  },
  {
   "cell_type": "code",
   "execution_count": 69,
   "metadata": {},
   "outputs": [
    {
     "data": {
      "text/plain": [
       "'2'"
      ]
     },
     "execution_count": 69,
     "metadata": {},
     "output_type": "execute_result"
    }
   ],
   "source": [
    "''' 후기 페이지 넘기기\n",
    "3: 2페이지\n",
    "4: 3페이지\n",
    "5: 4페이지\n",
    "6: 5페이지\n",
    "7: 아예 다음페이지(6)\n",
    "'''\n",
    "driver.find_elements('css selector', 'a.paging-btn.btn')[3:-2][0].text"
   ]
  },
  {
   "cell_type": "code",
   "execution_count": 78,
   "metadata": {},
   "outputs": [
    {
     "data": {
      "text/plain": [
       "'엄청 루즈 하고 막입기 너무 좋아요!! 155/47 기준 xs 도 루즈하게 맞아요'"
      ]
     },
     "execution_count": 78,
     "metadata": {},
     "output_type": "execute_result"
    }
   ],
   "source": [
    "# 댓글 내용\n",
    "review.select('div.review-contents__text')[0].text"
   ]
  },
  {
   "cell_type": "code",
   "execution_count": 158,
   "metadata": {},
   "outputs": [
    {
     "ename": "NameError",
     "evalue": "name 'review' is not defined",
     "output_type": "error",
     "traceback": [
      "\u001b[1;31m---------------------------------------------------------------------------\u001b[0m",
      "\u001b[1;31mNameError\u001b[0m                                 Traceback (most recent call last)",
      "Cell \u001b[1;32mIn[158], line 2\u001b[0m\n\u001b[0;32m      1\u001b[0m \u001b[38;5;66;03m# 메타데이터들은 여기서 또 for문 돌리면 될듯\u001b[39;00m\n\u001b[1;32m----> 2\u001b[0m review\u001b[38;5;241m.\u001b[39mselect(\u001b[38;5;124m'\u001b[39m\u001b[38;5;124mul.review-evaluation--type3__list > li.review-evaluation--type3__item\u001b[39m\u001b[38;5;124m'\u001b[39m)\n",
      "\u001b[1;31mNameError\u001b[0m: name 'review' is not defined"
     ]
    }
   ],
   "source": [
    "# 메타데이터들은 여기서 또 for문 돌리면 될듯\n",
    "review.select('ul.review-evaluation--type3__list > li.review-evaluation--type3__item')"
   ]
  },
  {
   "cell_type": "code",
   "execution_count": 179,
   "metadata": {},
   "outputs": [],
   "source": [
    "soup = BeautifulSoup(driver.page_source, 'html.parser')"
   ]
  },
  {
   "cell_type": "code",
   "execution_count": 125,
   "metadata": {},
   "outputs": [],
   "source": [
    "driver.execute_script(\"window.scrollBy(200, 0)\")"
   ]
  },
  {
   "cell_type": "code",
   "execution_count": 121,
   "metadata": {},
   "outputs": [],
   "source": [
    "driver.find_elements('css selector', 'a.fa.fa-angle-right.paging-btn.btn.next')[0].click()"
   ]
  },
  {
   "cell_type": "code",
   "execution_count": 110,
   "metadata": {},
   "outputs": [
    {
     "data": {
      "text/plain": [
       "3"
      ]
     },
     "execution_count": 110,
     "metadata": {},
     "output_type": "execute_result"
    }
   ],
   "source": [
    "next_buttons = get_next_buttons(driver) \n",
    "len(next_buttons)"
   ]
  },
  {
   "cell_type": "code",
   "execution_count": 181,
   "metadata": {},
   "outputs": [
    {
     "data": {
      "text/plain": [
       "'20'"
      ]
     },
     "execution_count": 181,
     "metadata": {},
     "output_type": "execute_result"
    }
   ],
   "source": [
    "soup.select('div.box_page_msg')[0].text.split()[0]"
   ]
  },
  {
   "cell_type": "code",
   "execution_count": 208,
   "metadata": {},
   "outputs": [],
   "source": [
    "def crawling_each_types(driver):\n",
    "    # 스타일 리뷰부터 크롤링\n",
    "    df_style_reviews = crawling_reviews(driver)\n",
    "    \n",
    "    # 상품 후기 클릭\n",
    "    driver.find_element('xpath', '//*[@id=\"estimateBox\"]/div[2]/ul/li[2]').click()\n",
    "\n",
    "    # 상품 후기 크롤링\n",
    "    df_product_reviews = crawling_reviews(driver)\n",
    "\n",
    "    # 일반 후기 클릭\n",
    "    driver.find_element('xpath', '//*[@id=\"estimateBox\"]/div[2]/ul/li[3]').click()\n",
    "\n",
    "    # 일반 후기 크롤링\n",
    "    df_normal_reviews = crawling_reviews(driver)\n",
    "\n",
    "    return df_style_reviews, df_product_reviews, df_normal_reviews\n",
    "\n",
    "\n",
    "def crawling_reviews(driver):\n",
    "    # 파싱\n",
    "    time.sleep(2)\n",
    "    soup = BeautifulSoup(driver.page_source, 'html.parser')\n",
    "    time.sleep(1)\n",
    "\n",
    "    # 화면 살짝 오른쪽으로\n",
    "    driver.execute_script(\"window.scrollBy(200, 0)\")\n",
    "\n",
    "    # 현재 페이지 리뷰 수집\n",
    "    reviews = soup.select('div.review-list-wrap > div.review-list')\n",
    "\n",
    "    # 다음 버튼 수 수집\n",
    "     \n",
    "    review_list = []\n",
    "    \n",
    "    last_page = soup.select('div.box_page_msg')[0].text.split()[0]\n",
    "    print(last_page)\n",
    "\n",
    "    while True:\n",
    "        # 버튼 눌러줄때마다 최신화 해줘야 함\n",
    "        next_buttons = get_next_buttons(driver)\n",
    "        len_buttons = len(next_buttons)\n",
    "        for i in range(len_buttons):\n",
    "            for review in reviews:\n",
    "                # review_list 에 리뷰 내용 추가\n",
    "                review_list.append(get_one_review(review))\n",
    "            \n",
    "            next_buttons[i].click()\n",
    "            time.sleep(1)\n",
    "\n",
    "            soup = BeautifulSoup(driver.page_source, 'html.parser')\n",
    "            time.sleep(1)\n",
    "\n",
    "            reviews = soup.select('div.review-list-wrap > div.review-list')\n",
    "\n",
    "            next_buttons = get_next_buttons(driver)\n",
    "\n",
    "        # 각 5의 배수 페이지 리뷰 가져오기\n",
    "        for review in reviews:\n",
    "                # review_list 에 리뷰 내용 추가\n",
    "                review_list.append(get_one_review(review))\n",
    "\n",
    "\n",
    "        # 5n번째 페이지에서 5n+1페이지로 넘어갈 때\n",
    "        if len_buttons == 4:\n",
    "            if next_buttons[i].text == last_page:\n",
    "                break\n",
    "            \n",
    "            driver.find_elements('css selector', 'a.fa.fa-angle-right.paging-btn.btn.next')[0].click()\n",
    "            time.sleep(1)\n",
    "            soup = BeautifulSoup(driver.page_source, 'html.parser')\n",
    "            time.sleep(1)\n",
    "            reviews = soup.select('div.review-list-wrap > div.review-list')\n",
    "        else:\n",
    "            break\n",
    "\n",
    "\n",
    "    return pd.DataFrame(review_list)\n",
    "\n",
    "    \n",
    "\n",
    "def get_next_buttons(driver):\n",
    "    next_buttons = driver.find_elements('css selector', 'a.paging-btn.btn')\n",
    "    next_buttons = next_buttons[3:-2]\n",
    "\n",
    "    return next_buttons\n",
    "\n",
    "\n",
    "\n",
    "def get_one_review(review):\n",
    "\n",
    "    # 작성자 이름\n",
    "    name = review.select('div.review-profile > div.review-profile__text-wrap > div > p.review-profile__name')[0].text\n",
    "    \n",
    "    # 별 갯수(퍼센트)\n",
    "    star = review.select('span.review-list__rating__active')[0]['style']\n",
    "\n",
    "    # 도움돼요 수\n",
    "    helpful = review.select('label.review-evaluation-button--type3__item.review-evaluation-button--type3__item--button01 > span.review-evaluation-button--type3__count')[0].text\n",
    "\n",
    "    # 스타일좋아요 수. 스타일 후기에서만 존재\n",
    "    try:\n",
    "        style_good = review.select('label.review-evaluation-button--type3__item.review-evaluation-button--type3__item--button02 > span.review-evaluation-button--type3__count')[0].text\n",
    "    except:\n",
    "        style_good = ''\n",
    "\n",
    "    # 댓글 내용\n",
    "    content = review.select('div.review-contents__text')[0].text\n",
    "\n",
    "    # 메타 데이터\n",
    "    meta = review.select('ul.review-evaluation--type3__list > li.review-evaluation--type3__item')\n",
    "\n",
    "    data = {\n",
    "    'name': name,\n",
    "    'star': star,\n",
    "    'helpful': helpful,\n",
    "    'style_good': style_good,\n",
    "    'content': content,\n",
    "    'meta': meta\n",
    "    }\n",
    "\n",
    "\n",
    "    return data\n",
    "\n",
    "\n"
   ]
  },
  {
   "cell_type": "code",
   "execution_count": 209,
   "metadata": {},
   "outputs": [
    {
     "name": "stdout",
     "output_type": "stream",
     "text": [
      "6\n",
      "7\n",
      "20\n"
     ]
    }
   ],
   "source": [
    "df1, df2, df3 = crawling_each_types(driver)"
   ]
  },
  {
   "cell_type": "code",
   "execution_count": 191,
   "metadata": {},
   "outputs": [],
   "source": [
    "df = crawling_reviews(driver)"
   ]
  },
  {
   "cell_type": "code",
   "execution_count": 210,
   "metadata": {},
   "outputs": [
    {
     "data": {
      "text/plain": [
       "(68, 6)"
      ]
     },
     "execution_count": 210,
     "metadata": {},
     "output_type": "execute_result"
    }
   ],
   "source": [
    "df2.shape"
   ]
  },
  {
   "cell_type": "code",
   "execution_count": null,
   "metadata": {},
   "outputs": [],
   "source": []
  }
 ],
 "metadata": {
  "kernelspec": {
   "display_name": "torch",
   "language": "python",
   "name": "python3"
  },
  "language_info": {
   "codemirror_mode": {
    "name": "ipython",
    "version": 3
   },
   "file_extension": ".py",
   "mimetype": "text/x-python",
   "name": "python",
   "nbconvert_exporter": "python",
   "pygments_lexer": "ipython3",
   "version": "3.11.3"
  }
 },
 "nbformat": 4,
 "nbformat_minor": 2
}
