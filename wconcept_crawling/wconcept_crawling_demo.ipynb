{
 "cells": [
  {
   "cell_type": "code",
   "execution_count": 17,
   "metadata": {},
   "outputs": [],
   "source": [
    "import time\n",
    "from bs4 import BeautifulSoup\n",
    "import pandas as pd\n",
    "import requests\n",
    "import json\n",
    "\n",
    "ITEM_COUNTS = 100"
   ]
  },
  {
   "cell_type": "code",
   "execution_count": 2,
   "metadata": {},
   "outputs": [],
   "source": [
    "# 사용자 에이전트\n",
    "\n",
    "headers = {\n",
    "    'User-Agent': 'Mozilla/5.0 (Windows NT 10.0; Win64; x64) AppleWebKit/537.36 (KHTML, like Gecko) Chrome/124.0.0.0 Safari/537.36',\n",
    "    'Display-Api-Key': 'VWmkUPgs6g2fviPZ5JQFQ3pERP4tIXv/J2jppLqSRBk='\n",
    "}"
   ]
  },
  {
   "cell_type": "code",
   "execution_count": 3,
   "metadata": {},
   "outputs": [],
   "source": [
    "def get_response(url, headers):\n",
    "\n",
    "    # GET 요청\n",
    "    response = requests.get(url, headers=headers)\n",
    "    soup = BeautifulSoup(response.text, 'lxml')\n",
    "    time.sleep(0.5)\n",
    "\n",
    "    return soup\n"
   ]
  },
  {
   "cell_type": "code",
   "execution_count": 4,
   "metadata": {},
   "outputs": [],
   "source": [
    "middle_category_nums = ['10101201', '10101202', '10101203', '10101204', '10101205',\n",
    "                        '10101206', '10101207', '10101208', '10101209', '10101210',\n",
    "                        '10101211', '10101212']"
   ]
  },
  {
   "cell_type": "code",
   "execution_count": 5,
   "metadata": {},
   "outputs": [],
   "source": [
    "url = 'https://api-display.wconcept.co.kr/display/api/v2/best/products'"
   ]
  },
  {
   "cell_type": "code",
   "execution_count": 50,
   "metadata": {},
   "outputs": [],
   "source": [
    "data = {\n",
    "    \"custNo\": \"\",\n",
    "    \"dateType\": \"daily\",\n",
    "    \"domain\": \"WOMEN\",\n",
    "    \"genderType\": \"women\",\n",
    "    \"depth1Code\": \"10101\",\n",
    "    \"depth2Code\": \"10101201\",\n",
    "    \"pageNo\": 1,\n",
    "    \"pageSize\": 100\n",
    "}"
   ]
  },
  {
   "cell_type": "code",
   "execution_count": 51,
   "metadata": {},
   "outputs": [],
   "source": [
    "response = requests.post(url, headers=headers, json=data)"
   ]
  },
  {
   "cell_type": "code",
   "execution_count": 62,
   "metadata": {},
   "outputs": [],
   "source": [
    "soup = BeautifulSoup(response.text, 'lxml')\n",
    "info = soup.string\n",
    "info = json.loads(info)\n",
    "info = info['data']['content']"
   ]
  },
  {
   "cell_type": "code",
   "execution_count": 37,
   "metadata": {},
   "outputs": [],
   "source": [
    "item_cds = []\n",
    "\n",
    "for item in info:\n",
    "    item_cds.append(item['itemCd'])"
   ]
  },
  {
   "cell_type": "code",
   "execution_count": 63,
   "metadata": {},
   "outputs": [
    {
     "data": {
      "text/plain": [
       "['305770545', '302729896', '305720145', '302739441', '305796730']"
      ]
     },
     "execution_count": 63,
     "metadata": {},
     "output_type": "execute_result"
    }
   ],
   "source": [
    "item_cds[:5]"
   ]
  },
  {
   "cell_type": "code",
   "execution_count": 65,
   "metadata": {},
   "outputs": [],
   "source": [
    "url = f'https://www.wconcept.co.kr/Ajax/GetProductsInfo'"
   ]
  },
  {
   "cell_type": "code",
   "execution_count": 72,
   "metadata": {},
   "outputs": [],
   "source": [
    "data = {'itemcds': item_cds[0]}"
   ]
  },
  {
   "cell_type": "code",
   "execution_count": 76,
   "metadata": {},
   "outputs": [],
   "source": [
    "response = requests.post(url, headers=headers, data=data)"
   ]
  },
  {
   "cell_type": "code",
   "execution_count": 79,
   "metadata": {},
   "outputs": [
    {
     "data": {
      "text/plain": [
       "[{'itemCd': '305770545',\n",
       "  'brandCd': '103856',\n",
       "  'mediumName': '여성,여성',\n",
       "  'categoryCd': '7,33',\n",
       "  'categoryDepth1': '001000000,001000000',\n",
       "  'categoryDepth2': '001001000,001013000',\n",
       "  'categoryDepth3': '001001001,001013001',\n",
       "  'categoryDepthname1': '의류,의류',\n",
       "  'categoryDepthname2': '아우터,셔츠',\n",
       "  'categoryDepthname3': '자켓,셔츠',\n",
       "  'brandNameKr': '주르티',\n",
       "  'itemNameFront': '',\n",
       "  'itemNameBack': '',\n",
       "  'recoType': None,\n",
       "  'itemNameSub': '',\n",
       "  'itemName': '로제 트위드 블라우스 블라썸 j1444',\n",
       "  'itemTypeCd': '15',\n",
       "  'itemTypeName': '일반상품',\n",
       "  'keyWords': ['위드', '블라우스', '자켓', '로제', '봄', '스프링', '반팔', '하프'],\n",
       "  'category': [{'mediumCd': 'M33439436',\n",
       "    'mediumName': '여성',\n",
       "    'categoryCd': '7',\n",
       "    'cateogryDetphName': None,\n",
       "    'categoryDepth1': '001000000',\n",
       "    'categoryDepth2': '001001000',\n",
       "    'categoryDepth3': '001001001',\n",
       "    'categoryDepthname1': '의류',\n",
       "    'categoryDepthname2': '아우터',\n",
       "    'categoryDepthname3': '자켓'},\n",
       "   {'mediumCd': 'M33439436',\n",
       "    'mediumName': '여성',\n",
       "    'categoryCd': '33',\n",
       "    'cateogryDetphName': None,\n",
       "    'categoryDepth1': '001000000',\n",
       "    'categoryDepth2': '001013000',\n",
       "    'categoryDepth3': '001013001',\n",
       "    'categoryDepthname1': '의류',\n",
       "    'categoryDepthname2': '셔츠',\n",
       "    'categoryDepthname3': '셔츠'}],\n",
       "  'approveDate': '2024-03-25T05:35:02Z',\n",
       "  'statusCd': '01',\n",
       "  'statusName': '판매중',\n",
       "  'color1': [],\n",
       "  'color2': [],\n",
       "  'imageName': '305770545_RI64763.jpg',\n",
       "  'imageUrlDesktop': '//product-image.wconcept.co.kr/productimg/image/img1/45/305770545_RI64763.jpg?RS=216',\n",
       "  'imageUrlDesktopList': '//product-image.wconcept.co.kr/productimg/image/img1/45/305770545_RI64763.jpg?RS=300',\n",
       "  'imageUrlDesktopLarge': '//product-image.wconcept.co.kr/productimg/image/img1/45/305770545_RI64763.jpg?RS=384',\n",
       "  'imageUrlDesktopOrigin': '//product-image.wconcept.co.kr/productimg/image/img1/45/305770545_RI64763.jpg',\n",
       "  'imageUrlMobile': '//product-image.wconcept.co.kr/productimg/image/img1/45/305770545_RI64763.jpg?RS=300',\n",
       "  'imageUrlMobileList': '//product-image.wconcept.co.kr/productimg/image/img1/45/305770545_RI64763.jpg?RS=300',\n",
       "  'imageUrlNewV2MobileList': '//product-image.wconcept.co.kr/productimg/image/img1/45/305770545_RI64763.jpg',\n",
       "  'imageUrlNewMobileList': '//product-image.wconcept.co.kr/productimg/image/img3/45/305770545_RI64763.jpg',\n",
       "  'margin': 26.0,\n",
       "  'isCouponUse': True,\n",
       "  'isCoupon': False,\n",
       "  'isDelivery': True,\n",
       "  'isSale': True,\n",
       "  'isGift': False,\n",
       "  'isUse': True,\n",
       "  'supplyPrice': 55981.0,\n",
       "  'reviewScore': 4.9286,\n",
       "  'discount_rate': 15.0,\n",
       "  'coupon_rate': 0.0,\n",
       "  'final_discount_rate': 15.0,\n",
       "  'finalDiscountRateDisplay': '15',\n",
       "  'couponPrice': 0.0,\n",
       "  'heartCnt': 5307.0,\n",
       "  'saleQty': 1091.0,\n",
       "  'reviewCnt': 14.0,\n",
       "  'customerPrice': 89000.0,\n",
       "  'customerPriceDisplay': '89,000',\n",
       "  'brandNameEn': 'JOORTI',\n",
       "  'vendorName': '주식회사 제이앤모아',\n",
       "  'vendorcd': '3007883',\n",
       "  'cyberMoneyRate': 1.0,\n",
       "  'saleAmount': 83784600.0,\n",
       "  'cyberMoney': 756.0,\n",
       "  'salePrice': 75650.0,\n",
       "  'salePriceOrigin': 75650.0,\n",
       "  'finalPrice': 75650.0,\n",
       "  'finalPriceDisplay': '75,650',\n",
       "  'wck_weight': '1',\n",
       "  'wdna_dispno': [],\n",
       "  'issue': [],\n",
       "  'draw': None,\n",
       "  'synonym': [],\n",
       "  'isExclusive': True,\n",
       "  'timeSaleCurrentDate': '2024-04-22T23:41:03.8221677+09:00',\n",
       "  'timeSaleStartDate': '1900-01-01T00:00:00',\n",
       "  'timeSaleLimitDate': '9999-12-31T23:59:59',\n",
       "  'itemQty': 0,\n",
       "  'timeSaleStatus': 1,\n",
       "  'eventStartDate': '2024-04-25T10:00:00Z',\n",
       "  'eventEndDate': '2024-05-02T10:00:00Z',\n",
       "  'eventSalePrice': 75650.0,\n",
       "  'now': '2024-04-22T23:41:03.8221689+09:00',\n",
       "  'mediumCd': 'M33439436,M33439436',\n",
       "  'transDate': '',\n",
       "  'transDate2': '',\n",
       "  'transDate3': '',\n",
       "  'isTransText': 'N',\n",
       "  'transText': '',\n",
       "  'isCeleb': False,\n",
       "  'saleTagInfo': [{'name': '스프링세일',\n",
       "    'start_date': '2024-04-22T09:00:00',\n",
       "    'end_date': '2024-05-01T09:59:00',\n",
       "    'update': '2024-04-22T18:16:44'}],\n",
       "  'reserveTag': None,\n",
       "  'saleTags': None,\n",
       "  'saleTag': None,\n",
       "  'infoTags': None,\n",
       "  'displayReserveTag': '',\n",
       "  'displayInfoTags': ['단독'],\n",
       "  'globalSaleTag': '스프링세일',\n",
       "  'addFirstImage': '305770545_add1_FV78547.jpg',\n",
       "  'addFirstImageFullUrl': '//product-image.wconcept.co.kr/productimg/image/img0/45/305770545_add1_FV78547.jpg',\n",
       "  'areaid': 0,\n",
       "  'pageid': 0,\n",
       "  'unitid': 0,\n",
       "  'linkurl': None,\n",
       "  'rnum': 0}]"
      ]
     },
     "execution_count": 79,
     "metadata": {},
     "output_type": "execute_result"
    }
   ],
   "source": [
    "soup = BeautifulSoup(response.text, 'lxml')\n",
    "info = soup.string\n",
    "info = json.loads(info)\n",
    "info"
   ]
  },
  {
   "cell_type": "code",
   "execution_count": 95,
   "metadata": {},
   "outputs": [
    {
     "data": {
      "text/plain": [
       "[{'mediumCd': 'M33439436',\n",
       "  'mediumName': '여성',\n",
       "  'categoryCd': '7',\n",
       "  'cateogryDetphName': None,\n",
       "  'categoryDepth1': '001000000',\n",
       "  'categoryDepth2': '001001000',\n",
       "  'categoryDepth3': '001001001',\n",
       "  'categoryDepthname1': '의류',\n",
       "  'categoryDepthname2': '아우터',\n",
       "  'categoryDepthname3': '자켓'},\n",
       " {'mediumCd': 'M33439436',\n",
       "  'mediumName': '여성',\n",
       "  'categoryCd': '33',\n",
       "  'cateogryDetphName': None,\n",
       "  'categoryDepth1': '001000000',\n",
       "  'categoryDepth2': '001013000',\n",
       "  'categoryDepth3': '001013001',\n",
       "  'categoryDepthname1': '의류',\n",
       "  'categoryDepthname2': '셔츠',\n",
       "  'categoryDepthname3': '셔츠'}]"
      ]
     },
     "execution_count": 95,
     "metadata": {},
     "output_type": "execute_result"
    }
   ],
   "source": [
    "info[0]['category']"
   ]
  },
  {
   "cell_type": "code",
   "execution_count": 96,
   "metadata": {},
   "outputs": [
    {
     "data": {
      "text/plain": [
       "'로제 트위드 블라우스 블라썸 j1444'"
      ]
     },
     "execution_count": 96,
     "metadata": {},
     "output_type": "execute_result"
    }
   ],
   "source": [
    "info[0]['itemName']"
   ]
  },
  {
   "cell_type": "code",
   "execution_count": 83,
   "metadata": {},
   "outputs": [
    {
     "data": {
      "text/plain": [
       "'주르티'"
      ]
     },
     "execution_count": 83,
     "metadata": {},
     "output_type": "execute_result"
    }
   ],
   "source": [
    "info[0]['brandNameKr']"
   ]
  },
  {
   "cell_type": "code",
   "execution_count": 85,
   "metadata": {},
   "outputs": [
    {
     "data": {
      "text/plain": [
       "5307.0"
      ]
     },
     "execution_count": 85,
     "metadata": {},
     "output_type": "execute_result"
    }
   ],
   "source": [
    "info[0]['heartCnt']"
   ]
  },
  {
   "cell_type": "code",
   "execution_count": 86,
   "metadata": {},
   "outputs": [
    {
     "data": {
      "text/plain": [
       "'판매중'"
      ]
     },
     "execution_count": 86,
     "metadata": {},
     "output_type": "execute_result"
    }
   ],
   "source": [
    "info[0]['statusName']"
   ]
  },
  {
   "cell_type": "code",
   "execution_count": 87,
   "metadata": {},
   "outputs": [
    {
     "data": {
      "text/plain": [
       "89000.0"
      ]
     },
     "execution_count": 87,
     "metadata": {},
     "output_type": "execute_result"
    }
   ],
   "source": [
    "info[0]['customerPrice']"
   ]
  },
  {
   "cell_type": "code",
   "execution_count": 88,
   "metadata": {},
   "outputs": [
    {
     "data": {
      "text/plain": [
       "75650.0"
      ]
     },
     "execution_count": 88,
     "metadata": {},
     "output_type": "execute_result"
    }
   ],
   "source": [
    "info[0]['finalPrice']"
   ]
  },
  {
   "cell_type": "code",
   "execution_count": 89,
   "metadata": {},
   "outputs": [
    {
     "data": {
      "text/plain": [
       "[]"
      ]
     },
     "execution_count": 89,
     "metadata": {},
     "output_type": "execute_result"
    }
   ],
   "source": [
    "info[0]['color1']"
   ]
  },
  {
   "cell_type": "code",
   "execution_count": 94,
   "metadata": {},
   "outputs": [
    {
     "data": {
      "text/plain": [
       "[]"
      ]
     },
     "execution_count": 94,
     "metadata": {},
     "output_type": "execute_result"
    }
   ],
   "source": [
    "info[0]['color2']"
   ]
  },
  {
   "cell_type": "code",
   "execution_count": null,
   "metadata": {},
   "outputs": [],
   "source": []
  },
  {
   "cell_type": "code",
   "execution_count": null,
   "metadata": {},
   "outputs": [],
   "source": []
  },
  {
   "cell_type": "code",
   "execution_count": 97,
   "metadata": {},
   "outputs": [],
   "source": [
    "url = 'https://www.wconcept.co.kr/Ajax/ProductReViewList'"
   ]
  },
  {
   "cell_type": "code",
   "execution_count": 144,
   "metadata": {},
   "outputs": [],
   "source": [
    "data = {'itemcd': '305770545',\n",
    "    'pageIndex': 3,\n",
    "    'order': 1,\n",
    "    'IsPrdCombinOpt': 'N',\n",
    "    'mediumcd': 'M33439436',\n",
    "    'categorycd': 7,\n",
    "    'itemtypecd': 15\n",
    "    }"
   ]
  },
  {
   "cell_type": "code",
   "execution_count": 145,
   "metadata": {},
   "outputs": [],
   "source": [
    "response = requests.post(url, headers=headers, data=data)"
   ]
  },
  {
   "cell_type": "code",
   "execution_count": 146,
   "metadata": {},
   "outputs": [],
   "source": [
    "soup = BeautifulSoup(response.text, 'html.parser')"
   ]
  },
  {
   "cell_type": "code",
   "execution_count": 154,
   "metadata": {},
   "outputs": [
    {
     "data": {
      "text/plain": [
       "\n",
       "<table class=\"pdt_review_table tbl_review\">\n",
       "<colgroup>\n",
       "<col style=\"width: 160px;\"/>\n",
       "<col style=\"width: auto;\"/>\n",
       "</colgroup>\n",
       "<tbody>\n",
       "<tr>\n",
       "<td>\n",
       "<div class=\"pdt_review_align_wrap\">\n",
       "<div class=\"pdt_review_valign\">\n",
       "<div class=\"star-grade\">\n",
       "<strong style=\"width:100%\"></strong>\n",
       "</div>\n",
       "</div>\n",
       "</div>\n",
       "</td>\n",
       "<td>\n",
       "<div class=\"pdt_review_info\">\n",
       "<div class=\"product_review_info_left\">\n",
       "<div class=\"pdt_review_option\">\n",
       "<p>\n",
       "<span>구매옵션 : FREE</span>\n",
       "</p>\n",
       "</div>\n",
       "</div>\n",
       "<p class=\"product_review_info_right\">\n",
       "<em>wc********</em>\n",
       "<span>2024.04.09</span>\n",
       "</p>\n",
       "</div>\n",
       "<ul class=\"product_review_evaluation\">\n",
       "<li>\n",
       "<div>\n",
       "<strong>사이즈</strong>\n",
       "<em>적당함</em>\n",
       "</div>\n",
       "</li>\n",
       "<li>\n",
       "<div>\n",
       "<strong>색상</strong>\n",
       "<em>비슷함</em>\n",
       "</div>\n",
       "</li>\n",
       "<li>\n",
       "<div>\n",
       "<strong>소재</strong>\n",
       "<em>비슷함</em>\n",
       "</div>\n",
       "</li>\n",
       "</ul>\n",
       "<ul class=\"pdt_review_photo\">\n",
       "<li class=\"open-layer open-pop_photoDetail\" onclick=\"WCK_COMMON_VIEWPRODUCT_RENEWAL_FN.ReviewDetail('10125983','305770545','M33439436','7','15','N',this, 'detail');\">\n",
       "<img onerror=\"this.src='//static.wconcept.co.kr/mobile/images/common/onerror_img.png'\" src=\"https://media.wconcept.co.kr/review/305770545/305770545_1712658652692.jpeg?RS=300\"/>\n",
       "</li>\n",
       "</ul>\n",
       "<div class=\"pdt_review_detail\">\n",
       "<p class=\"pdt_review_text\">\n",
       "                                        색감이 여리여리해서 예쁩니다! 단독으로 입어도, 안에 이너 입고 입어도 예쁠 것 같아용\n",
       "                                    </p>\n",
       "</div>\n",
       "<div class=\"product_review_reaction\">\n",
       "<div class=\"btn_report_item\">\n",
       "<button class=\"link_txt open-layer open-pop_review_report\" data-bestyn=\"N\" data-custno=\"9425666\" data-idxnum=\"10125983\" data-itemcd=\"305770545\" type=\"button\"><span>신고</span></button>\n",
       "<button class=\"link_txt btn_review_hide\" data-bestyn=\"N\" data-categorycd=\"7\" data-custno=\"9425666\" data-idxnum=\"10125983\" data-itemcd=\"305770545\" data-mediumcd=\"M33439436\" data-paging=\"3\" type=\"button\"><span>숨김</span></button>\n",
       "</div>\n",
       "<button class=\"like btn_review_recommend\" data-idxnum=\"10125983\" data-itemcd=\"305770545\" type=\"button\"><span>3</span></button>\n",
       "</div>\n",
       "</td>\n",
       "</tr>\n",
       "<tr>\n",
       "<td>\n",
       "<div class=\"pdt_review_align_wrap\">\n",
       "<div class=\"pdt_review_valign\">\n",
       "<div class=\"star-grade\">\n",
       "<strong style=\"width:100%\"></strong>\n",
       "</div>\n",
       "</div>\n",
       "</div>\n",
       "</td>\n",
       "<td>\n",
       "<div class=\"pdt_review_info\">\n",
       "<div class=\"product_review_info_left\">\n",
       "<div class=\"pdt_review_option\">\n",
       "<p>\n",
       "<span>구매옵션 : FREE</span>\n",
       "</p>\n",
       "</div>\n",
       "</div>\n",
       "<p class=\"product_review_info_right\">\n",
       "<em>su********</em>\n",
       "<span>2024.04.09</span>\n",
       "</p>\n",
       "</div>\n",
       "<ul class=\"product_review_evaluation\">\n",
       "<li>\n",
       "<div>\n",
       "<strong>사이즈</strong>\n",
       "<em>적당함</em>\n",
       "</div>\n",
       "</li>\n",
       "<li>\n",
       "<div>\n",
       "<strong>색상</strong>\n",
       "<em>비슷함</em>\n",
       "</div>\n",
       "</li>\n",
       "<li>\n",
       "<div>\n",
       "<strong>소재</strong>\n",
       "<em>비슷함</em>\n",
       "</div>\n",
       "</li>\n",
       "</ul>\n",
       "<div class=\"pdt_review_detail\">\n",
       "<p class=\"pdt_review_text\">\n",
       "                                        화사하면서 톤 다운된 핑크라 예뻐요\n",
       "                                    </p>\n",
       "</div>\n",
       "<div class=\"product_review_reaction\">\n",
       "<div class=\"btn_report_item\">\n",
       "<button class=\"link_txt open-layer open-pop_review_report\" data-bestyn=\"N\" data-custno=\"7904913\" data-idxnum=\"10122315\" data-itemcd=\"305770545\" type=\"button\"><span>신고</span></button>\n",
       "<button class=\"link_txt btn_review_hide\" data-bestyn=\"N\" data-categorycd=\"7\" data-custno=\"7904913\" data-idxnum=\"10122315\" data-itemcd=\"305770545\" data-mediumcd=\"M33439436\" data-paging=\"3\" type=\"button\"><span>숨김</span></button>\n",
       "</div>\n",
       "<button class=\"like btn_review_recommend\" data-idxnum=\"10122315\" data-itemcd=\"305770545\" type=\"button\"><span>0</span></button>\n",
       "</div>\n",
       "</td>\n",
       "</tr>\n",
       "<tr>\n",
       "<td>\n",
       "<div class=\"pdt_review_align_wrap\">\n",
       "<div class=\"pdt_review_valign\">\n",
       "<div class=\"star-grade\">\n",
       "<strong style=\"width:100%\"></strong>\n",
       "</div>\n",
       "</div>\n",
       "</div>\n",
       "</td>\n",
       "<td>\n",
       "<div class=\"pdt_review_info\">\n",
       "<div class=\"product_review_info_left\">\n",
       "<div class=\"pdt_review_option\">\n",
       "<p>\n",
       "<span>구매옵션 : FREE</span>\n",
       "</p>\n",
       "</div>\n",
       "</div>\n",
       "<p class=\"product_review_info_right\">\n",
       "<em>Ml********</em>\n",
       "<span>2024.03.30</span>\n",
       "</p>\n",
       "</div>\n",
       "<ul class=\"product_review_evaluation\">\n",
       "<li>\n",
       "<div>\n",
       "<strong>사이즈</strong>\n",
       "<em>적당함</em>\n",
       "</div>\n",
       "</li>\n",
       "<li>\n",
       "<div>\n",
       "<strong>색상</strong>\n",
       "<em>같음</em>\n",
       "</div>\n",
       "</li>\n",
       "<li>\n",
       "<div>\n",
       "<strong>소재</strong>\n",
       "<em>같음</em>\n",
       "</div>\n",
       "</li>\n",
       "</ul>\n",
       "<ul class=\"pdt_review_photo\">\n",
       "<li class=\"open-layer open-pop_photoDetail\" onclick=\"WCK_COMMON_VIEWPRODUCT_RENEWAL_FN.ReviewDetail('10081118','305770545','M33439436','7','15','N',this, 'detail');\">\n",
       "<img onerror=\"this.src='//static.wconcept.co.kr/mobile/images/common/onerror_img.png'\" src=\"https://media.wconcept.co.kr/review/305770545/305770545_1711762431422.jpeg?RS=300\"/>\n",
       "</li>\n",
       "</ul>\n",
       "<div class=\"pdt_review_detail\">\n",
       "<p class=\"pdt_review_text\">\n",
       "                                        탄탄한 소재로 블라우스와 자켓사이? 느낌이에요.<br/>소재, 색감이 고급스럽고 가격도 좋아서 완전 만족해요 ! <br/>코디 너무 이뻐서 비슷하게 입어봤는데 넘 이뻐요.. :)\n",
       "                                    </p>\n",
       "</div>\n",
       "<div class=\"product_review_reaction\">\n",
       "<div class=\"btn_report_item\">\n",
       "<button class=\"link_txt open-layer open-pop_review_report\" data-bestyn=\"N\" data-custno=\"4173785\" data-idxnum=\"10081118\" data-itemcd=\"305770545\" type=\"button\"><span>신고</span></button>\n",
       "<button class=\"link_txt btn_review_hide\" data-bestyn=\"N\" data-categorycd=\"7\" data-custno=\"4173785\" data-idxnum=\"10081118\" data-itemcd=\"305770545\" data-mediumcd=\"M33439436\" data-paging=\"3\" type=\"button\"><span>숨김</span></button>\n",
       "</div>\n",
       "<button class=\"like btn_review_recommend\" data-idxnum=\"10081118\" data-itemcd=\"305770545\" type=\"button\"><span>22</span></button>\n",
       "</div>\n",
       "</td>\n",
       "</tr>\n",
       "</tbody>\n",
       "</table>\n",
       "<ul class=\"pagination mb60\">\n",
       "<li class=\"first\"><a href=\"javascript:WCK_COMMON_VIEWPRODUCT_RENEWAL_FN.reviewList('1', '305770545', 'M33439436', 7, '1','15');\" title=\"처음\">first</a></li>\n",
       "<li class=\"prev\"><a href=\"javascript:;\" style=\"cursor:default\">prev</a></li>\n",
       "<li><a href=\"javascript:WCK_COMMON_VIEWPRODUCT_RENEWAL_FN.reviewList('1', '305770545', 'M33439436', 7, '1','15');\" style=\"margin: 0 5px 0 5px;\" title=\"1\">1</a></li>\n",
       "<li><a href=\"javascript:WCK_COMMON_VIEWPRODUCT_RENEWAL_FN.reviewList('2', '305770545', 'M33439436', 7, '1','15');\" style=\"margin: 0 5px 0 5px;\" title=\"2\">2</a></li>\n",
       "<li class=\"active\"><a href=\"javascript:;\" style=\"cursor:default; margin: 0 5px 0 5px;\" title=\"3\">3</a></li>\n",
       "<li class=\"next\"><a href=\"javascript:;\" style=\"cursor: default\">next</a></li>\n",
       "<li class=\"last\"><a href=\"javascript:;\" style=\"cursor:default\" title=\"마지막\">last</a></li>\n",
       "</ul>"
      ]
     },
     "execution_count": 154,
     "metadata": {},
     "output_type": "execute_result"
    }
   ],
   "source": [
    "soup"
   ]
  },
  {
   "cell_type": "code",
   "execution_count": 150,
   "metadata": {},
   "outputs": [
    {
     "data": {
      "text/plain": [
       "3"
      ]
     },
     "execution_count": 150,
     "metadata": {},
     "output_type": "execute_result"
    }
   ],
   "source": [
    "len(soup.select('p.pdt_review_text'))"
   ]
  },
  {
   "cell_type": "code",
   "execution_count": 155,
   "metadata": {},
   "outputs": [
    {
     "data": {
      "text/plain": [
       "[<div class=\"pdt_review_option\">\n",
       " <p>\n",
       " <span>구매옵션 : FREE</span>\n",
       " </p>\n",
       " </div>,\n",
       " <div class=\"pdt_review_option\">\n",
       " <p>\n",
       " <span>구매옵션 : FREE</span>\n",
       " </p>\n",
       " </div>,\n",
       " <div class=\"pdt_review_option\">\n",
       " <p>\n",
       " <span>구매옵션 : FREE</span>\n",
       " </p>\n",
       " </div>]"
      ]
     },
     "execution_count": 155,
     "metadata": {},
     "output_type": "execute_result"
    }
   ],
   "source": [
    "soup.select('div.pdt_review_option')"
   ]
  },
  {
   "cell_type": "code",
   "execution_count": 165,
   "metadata": {},
   "outputs": [
    {
     "data": {
      "text/plain": [
       "[<strong>사이즈</strong>,\n",
       " <strong>색상</strong>,\n",
       " <strong>소재</strong>,\n",
       " <strong>사이즈</strong>,\n",
       " <strong>색상</strong>,\n",
       " <strong>소재</strong>,\n",
       " <strong>사이즈</strong>,\n",
       " <strong>색상</strong>,\n",
       " <strong>소재</strong>]"
      ]
     },
     "execution_count": 165,
     "metadata": {},
     "output_type": "execute_result"
    }
   ],
   "source": [
    "soup.select('ul.product_review_evaluation > li > div > strong')"
   ]
  },
  {
   "cell_type": "code",
   "execution_count": 170,
   "metadata": {},
   "outputs": [
    {
     "data": {
      "text/plain": [
       "'wc********'"
      ]
     },
     "execution_count": 170,
     "metadata": {},
     "output_type": "execute_result"
    }
   ],
   "source": [
    "soup.select('p.product_review_info_right > em')[0].text"
   ]
  },
  {
   "cell_type": "code",
   "execution_count": 173,
   "metadata": {},
   "outputs": [
    {
     "data": {
      "text/plain": [
       "'2024.04.09'"
      ]
     },
     "execution_count": 173,
     "metadata": {},
     "output_type": "execute_result"
    }
   ],
   "source": [
    "soup.select('p.product_review_info_right > span')[0].text"
   ]
  },
  {
   "cell_type": "code",
   "execution_count": 176,
   "metadata": {},
   "outputs": [
    {
     "data": {
      "text/plain": [
       "'색감이 여리여리해서 예쁩니다! 단독으로 입어도, 안에 이너 입고 입어도 예쁠 것 같아용'"
      ]
     },
     "execution_count": 176,
     "metadata": {},
     "output_type": "execute_result"
    }
   ],
   "source": [
    "soup.select('p.pdt_review_text')[0].text.strip()"
   ]
  },
  {
   "cell_type": "code",
   "execution_count": 184,
   "metadata": {},
   "outputs": [
    {
     "data": {
      "text/plain": [
       "<strong style=\"width:100%\"></strong>"
      ]
     },
     "execution_count": 184,
     "metadata": {},
     "output_type": "execute_result"
    }
   ],
   "source": [
    "soup.select('div.star-grade > strong[style]')[0]"
   ]
  },
  {
   "cell_type": "code",
   "execution_count": null,
   "metadata": {},
   "outputs": [],
   "source": []
  }
 ],
 "metadata": {
  "kernelspec": {
   "display_name": "base",
   "language": "python",
   "name": "python3"
  },
  "language_info": {
   "codemirror_mode": {
    "name": "ipython",
    "version": 3
   },
   "file_extension": ".py",
   "mimetype": "text/x-python",
   "name": "python",
   "nbconvert_exporter": "python",
   "pygments_lexer": "ipython3",
   "version": "3.11.3"
  }
 },
 "nbformat": 4,
 "nbformat_minor": 2
}
