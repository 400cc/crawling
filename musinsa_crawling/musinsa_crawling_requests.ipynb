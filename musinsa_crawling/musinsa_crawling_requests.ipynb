{
 "cells": [
  {
   "cell_type": "code",
   "execution_count": 1,
   "metadata": {},
   "outputs": [],
   "source": [
    "import time\n",
    "from bs4 import BeautifulSoup\n",
    "import pandas as pd\n",
    "import requests\n",
    "import json\n",
    "import re\n",
    "from requests.exceptions import Timeout"
   ]
  },
  {
   "cell_type": "code",
   "execution_count": 2,
   "metadata": {},
   "outputs": [],
   "source": [
    "ITEMS_COUNT = 100"
   ]
  },
  {
   "cell_type": "code",
   "execution_count": 3,
   "metadata": {},
   "outputs": [],
   "source": [
    "middle_category_nums = ['001006', '001004', '001005', '001010', '001002', '001003',\n",
    "                        '001001', '001011', '001013', '001008', '002022', '002001',\n",
    "                        '002002', '002025', '002017', '002003', '002020', '002019',\n",
    "                        '002023', '002018', '002004', '002008', '002007', '002024',\n",
    "                        '002009', '002013', '002012', '002016', '002021', '002014',\n",
    "                        '002006', '002015', '003002', '003007', '003008', '003004',\n",
    "                        '003009', '003005', '003010', '003011', '003006', '002006',\n",
    "                        '002007', '002008', '022001', '022002', '022003']"
   ]
  },
  {
   "cell_type": "code",
   "execution_count": 4,
   "metadata": {},
   "outputs": [
    {
     "data": {
      "text/plain": [
       "47"
      ]
     },
     "execution_count": 4,
     "metadata": {},
     "output_type": "execute_result"
    }
   ],
   "source": [
    "len(middle_category_nums)"
   ]
  },
  {
   "cell_type": "code",
   "execution_count": 5,
   "metadata": {},
   "outputs": [],
   "source": [
    "# 사용자 에이전트\n",
    "headers = {\n",
    "    'User-Agent': 'Mozilla/5.0 (Windows NT 10.0; Win64; x64) AppleWebKit/537.36 (KHTML, like Gecko) Chrome/123.0.0.0 Safari/537.36',\n",
    "}\n",
    "\n",
    "timeout_settings = (60, 60)"
   ]
  },
  {
   "cell_type": "code",
   "execution_count": 6,
   "metadata": {},
   "outputs": [],
   "source": [
    "def get_response(url, headers):\n",
    "\n",
    "    # GET 요청\n",
    "    response = requests.get(url, headers=headers, timeout=timeout_settings)\n",
    "    soup = BeautifulSoup(response.text, 'lxml')\n",
    "    time.sleep(0.5)\n",
    "\n",
    "    return soup\n"
   ]
  },
  {
   "cell_type": "code",
   "execution_count": 7,
   "metadata": {},
   "outputs": [],
   "source": [
    "def get_items(num):\n",
    "    \n",
    "    url = f'https://www.musinsa.com/categories/item/{num}?d_cat_cd={num}&brand=&list_kind=small&sort=sale_high&sub_sort=1d&page=1&display_cnt=90&exclusive_yn=&sale_goods=&timesale_yn=&ex_soldout=&plusDeliveryYn=&kids=&color=&price1=&price2=&shoeSizeOption=&tags=&campaign_id=&includeKeywords=&measure='\n",
    "    \n",
    "    product_links = []\n",
    "    flag = 0\n",
    "    page = 1\n",
    "    while flag == 0:\n",
    "        \n",
    "        soup = get_response(url, headers)\n",
    "\n",
    "        products = soup.select('a.img-block')\n",
    "        \n",
    "        for product in products:\n",
    "            product_links.append(product['href'].replace('//', 'https://'))\n",
    "            if len(product_links) == ITEMS_COUNT:\n",
    "                flag = 1\n",
    "                break\n",
    "\n",
    "        page += 1\n",
    "        url = f'https://www.musinsa.com/categories/item/{num}?d_cat_cd={num}&brand=&list_kind=small&sort=sale_high&sub_sort=1d&page={page}&display_cnt=90&exclusive_yn=&sale_goods=&timesale_yn=&ex_soldout=&plusDeliveryYn=&kids=&color=&price1=&price2=&shoeSizeOption=&tags=&campaign_id=&includeKeywords=&measure='\n",
    "\n",
    "    return product_links\n",
    "        \n"
   ]
  },
  {
   "cell_type": "code",
   "execution_count": 8,
   "metadata": {},
   "outputs": [],
   "source": [
    "def get_item_info(item_url):\n",
    "    soup = get_response(item_url, headers)\n",
    "    info = soup.find_all('script', {'type':'text/javascript'})[15]\n",
    "    info = info.string\n",
    "\n",
    "    pattern = re.compile(r'window\\.__MSS__\\.product\\.state = ({.*?});\\s*$', re.DOTALL)\n",
    "    match = pattern.search(info)\n",
    "    info = match.group(1)\n",
    "    \n",
    "    return json.loads(info)"
   ]
  },
  {
   "cell_type": "code",
   "execution_count": 9,
   "metadata": {},
   "outputs": [],
   "source": [
    "def extract_favorite_num(goodsNo):\n",
    "    url = 'https://like.musinsa.com/like/api/v2/liketypes/goods/counts'\n",
    "    data = {\"relationIds\":[goodsNo.str]}\n",
    "    response = requests.post(url, json=data)\n",
    "    soup = BeautifulSoup(response.text, 'lxml')\n",
    "    info = soup.string\n",
    "    favorites = json.loads(info)['data']['contents']['items'][0]['count']\n",
    "\n",
    "    return favorites\n",
    "\n",
    "    "
   ]
  },
  {
   "cell_type": "code",
   "execution_count": 10,
   "metadata": {},
   "outputs": [],
   "source": [
    "def extract_needs_info(item_info):\n",
    "    # 무신사 상품번호\n",
    "    goodsNo = item_info['goodsNo']\n",
    "\n",
    "    # 브랜드 명명\n",
    "    brand = item_info['brand']\n",
    "\n",
    "    # 품번\n",
    "    styleNo = item_info['styleNo']\n",
    "\n",
    "    # 좋아요 수\n",
    "    favorites = extract_favorite_num(goodsNo)\n",
    "\n",
    "    # 무신사 판매가\n",
    "    originPrice = item_info['goodsPrice']['originPrice']\n",
    "\n",
    "    # 무신사 회원가\n",
    "    memberPrice = item_info['goodsPrice']['minPrice']\n",
    "\n",
    "    # 상품 이미지 : 리스트에 str로 저장. 필요하면 수정\n",
    "    image_urls = []\n",
    "    image_urls.append(item_info['thumbnailImageUrl'])\n",
    "    goodsImages = item_info['goodsImages']\n",
    "    for goodsImage in goodsImages:\n",
    "        image_urls.append(goodsImage['imageUrl'])\n",
    "\n",
    "    url = f'https://goods-detail.musinsa.com/goods/{goodsNo}/stat'\n",
    "    response = requests.get(url, headers=headers, timeout=timeout_settings)\n",
    "    add_data = response.json()\n",
    "    \n",
    "    # 누적 판매\n",
    "    try:\n",
    "        cumulative_sales = add_data['data']['purchase']['total']\n",
    "    except:\n",
    "        cumulative_sales = None\n",
    "\n",
    "    # 나이\n",
    "    try:\n",
    "        ages = add_data['data']['purchase']['rates']\n",
    "        ages = {key: f\"{value}%\" for key, value in ages.items()}\n",
    "    except:\n",
    "        ages = None\n",
    "\n",
    "    # 성비\n",
    "    try:\n",
    "        male = int(add_data['data']['purchase']['male'])\n",
    "        female = int(add_data['data']['purchase']['female'])\n",
    "        total_count = male + female\n",
    "        male_percentage = round((male / total_count) * 100, -1)\n",
    "        female_percentage = round((female / total_count) * 100, -1)\n",
    "        male_percentage = f\"{male_percentage}%\"\n",
    "        female_percentage = f\"{female_percentage}%\"\n",
    "    except:\n",
    "        male_percentage = None\n",
    "        female_percentage = None\n",
    "\n",
    "    # 좋아요 수\n",
    "\n",
    "\n",
    "    # 대분류\n",
    "    categoryDepth1Title = item_info['category']['categoryDepth1Title']\n",
    "\n",
    "    # 중분류\n",
    "    categoryDepth2Title = item_info['category']['categoryDepth2Title']\n",
    "\n",
    "    data = {\n",
    "        'goodsNo': goodsNo,\n",
    "        'brand': brand,\n",
    "        'styleNo': styleNo,\n",
    "        'favorites': favorites,\n",
    "        'originPrice': originPrice,\n",
    "        'memberPrice': memberPrice,\n",
    "        'categoryDepth1Title': categoryDepth1Title,\n",
    "        'categoryDepth2Title': categoryDepth2Title,\n",
    "        'goodsImages': image_urls,\n",
    "        'cumulative_sales': cumulative_sales,\n",
    "        'ages': ages,\n",
    "        'male_percentage': male_percentage,\n",
    "        'female_percentage': female_percentage\n",
    "    }\n",
    "\n",
    "    return data\n",
    "\n",
    "\n"
   ]
  },
  {
   "cell_type": "code",
   "execution_count": 11,
   "metadata": {},
   "outputs": [],
   "source": [
    "def main():\n",
    "    all_product_links = []\n",
    "    for middle_category_num in middle_category_nums:\n",
    "        product_links = get_items(middle_category_num)\n",
    "        all_product_links += product_links\n",
    "        print(len(all_product_links), all_product_links[-1])\n",
    "    \n",
    "    items_list = []\n",
    "\n",
    "    for item_url in all_product_links:\n",
    "        item_info = get_item_info(item_url)\n",
    "        needs_info = extract_needs_info(item_info)\n",
    "        items_list.append(needs_info)\n",
    "        print(needs_info)\n",
    "    \n",
    "    df = pd.DataFrame(items_list)\n",
    "    print(df)\n",
    "        "
   ]
  },
  {
   "cell_type": "code",
   "execution_count": 12,
   "metadata": {},
   "outputs": [
    {
     "ename": "KeyboardInterrupt",
     "evalue": "",
     "output_type": "error",
     "traceback": [
      "\u001b[1;31m---------------------------------------------------------------------------\u001b[0m",
      "\u001b[1;31mKeyboardInterrupt\u001b[0m                         Traceback (most recent call last)",
      "Cell \u001b[1;32mIn[12], line 2\u001b[0m\n\u001b[0;32m      1\u001b[0m \u001b[38;5;28;01mif\u001b[39;00m \u001b[38;5;18m__name__\u001b[39m \u001b[38;5;241m==\u001b[39m \u001b[38;5;124m\"\u001b[39m\u001b[38;5;124m__main__\u001b[39m\u001b[38;5;124m\"\u001b[39m:\n\u001b[1;32m----> 2\u001b[0m     main()\n",
      "Cell \u001b[1;32mIn[11], line 4\u001b[0m, in \u001b[0;36mmain\u001b[1;34m()\u001b[0m\n\u001b[0;32m      2\u001b[0m all_product_links \u001b[38;5;241m=\u001b[39m []\n\u001b[0;32m      3\u001b[0m \u001b[38;5;28;01mfor\u001b[39;00m middle_category_num \u001b[38;5;129;01min\u001b[39;00m middle_category_nums:\n\u001b[1;32m----> 4\u001b[0m     product_links \u001b[38;5;241m=\u001b[39m get_items(middle_category_num)\n\u001b[0;32m      5\u001b[0m     all_product_links \u001b[38;5;241m+\u001b[39m\u001b[38;5;241m=\u001b[39m product_links\n\u001b[0;32m      6\u001b[0m     \u001b[38;5;28mprint\u001b[39m(\u001b[38;5;28mlen\u001b[39m(all_product_links), all_product_links[\u001b[38;5;241m-\u001b[39m\u001b[38;5;241m1\u001b[39m])\n",
      "Cell \u001b[1;32mIn[7], line 10\u001b[0m, in \u001b[0;36mget_items\u001b[1;34m(num)\u001b[0m\n\u001b[0;32m      7\u001b[0m page \u001b[38;5;241m=\u001b[39m \u001b[38;5;241m1\u001b[39m\n\u001b[0;32m      8\u001b[0m \u001b[38;5;28;01mwhile\u001b[39;00m flag \u001b[38;5;241m==\u001b[39m \u001b[38;5;241m0\u001b[39m:\n\u001b[1;32m---> 10\u001b[0m     soup \u001b[38;5;241m=\u001b[39m get_response(url, headers)\n\u001b[0;32m     12\u001b[0m     products \u001b[38;5;241m=\u001b[39m soup\u001b[38;5;241m.\u001b[39mselect(\u001b[38;5;124m'\u001b[39m\u001b[38;5;124ma.img-block\u001b[39m\u001b[38;5;124m'\u001b[39m)\n\u001b[0;32m     14\u001b[0m     \u001b[38;5;28;01mfor\u001b[39;00m product \u001b[38;5;129;01min\u001b[39;00m products:\n",
      "Cell \u001b[1;32mIn[6], line 6\u001b[0m, in \u001b[0;36mget_response\u001b[1;34m(url, headers)\u001b[0m\n\u001b[0;32m      4\u001b[0m response \u001b[38;5;241m=\u001b[39m requests\u001b[38;5;241m.\u001b[39mget(url, headers\u001b[38;5;241m=\u001b[39mheaders, timeout\u001b[38;5;241m=\u001b[39mtimeout_settings)\n\u001b[0;32m      5\u001b[0m soup \u001b[38;5;241m=\u001b[39m BeautifulSoup(response\u001b[38;5;241m.\u001b[39mtext, \u001b[38;5;124m'\u001b[39m\u001b[38;5;124mlxml\u001b[39m\u001b[38;5;124m'\u001b[39m)\n\u001b[1;32m----> 6\u001b[0m time\u001b[38;5;241m.\u001b[39msleep(\u001b[38;5;241m0.5\u001b[39m)\n\u001b[0;32m      8\u001b[0m \u001b[38;5;28;01mreturn\u001b[39;00m soup\n",
      "\u001b[1;31mKeyboardInterrupt\u001b[0m: "
     ]
    }
   ],
   "source": [
    "if __name__ == \"__main__\":\n",
    "    main()"
   ]
  },
  {
   "cell_type": "code",
   "execution_count": null,
   "metadata": {},
   "outputs": [],
   "source": []
  },
  {
   "cell_type": "code",
   "execution_count": null,
   "metadata": {},
   "outputs": [],
   "source": []
  }
 ],
 "metadata": {
  "kernelspec": {
   "display_name": "base",
   "language": "python",
   "name": "python3"
  },
  "language_info": {
   "codemirror_mode": {
    "name": "ipython",
    "version": 3
   },
   "file_extension": ".py",
   "mimetype": "text/x-python",
   "name": "python",
   "nbconvert_exporter": "python",
   "pygments_lexer": "ipython3",
   "version": "3.11.3"
  }
 },
 "nbformat": 4,
 "nbformat_minor": 2
}
