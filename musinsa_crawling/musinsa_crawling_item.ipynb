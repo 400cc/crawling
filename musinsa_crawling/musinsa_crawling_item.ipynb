{
 "cells": [
  {
   "cell_type": "code",
   "execution_count": 1,
   "metadata": {},
   "outputs": [],
   "source": [
    "import time\n",
    "from bs4 import BeautifulSoup\n",
    "import pandas as pd\n",
    "import requests\n",
    "import json\n",
    "import re\n",
    "import sys"
   ]
  },
  {
   "cell_type": "code",
   "execution_count": 2,
   "metadata": {},
   "outputs": [],
   "source": [
    "ITEMS_COUNT = 100"
   ]
  },
  {
   "cell_type": "code",
   "execution_count": 3,
   "metadata": {},
   "outputs": [],
   "source": [
    "middle_category_nums = ['001006', '001004', '001005', '001010', '001002', '001003',\n",
    "                        '001001', '001011', '001013', '001008', '002022', '002001',\n",
    "                        '002002', '002025', '002017', '002003', '002020', '002019',\n",
    "                        '002023', '002018', '002004', '002008', '002007', '002024',\n",
    "                        '002009', '002013', '002012', '002016', '002021', '002014',\n",
    "                        '002006', '002015', '003002', '003007', '003008', '003004',\n",
    "                        '003009', '003005', '003010', '003011', '003006', '002006',\n",
    "                        '002007', '002008', '022001', '022002', '022003']"
   ]
  },
  {
   "cell_type": "code",
   "execution_count": 4,
   "metadata": {},
   "outputs": [
    {
     "data": {
      "text/plain": [
       "47"
      ]
     },
     "execution_count": 4,
     "metadata": {},
     "output_type": "execute_result"
    }
   ],
   "source": [
    "len(middle_category_nums)"
   ]
  },
  {
   "cell_type": "code",
   "execution_count": 5,
   "metadata": {},
   "outputs": [],
   "source": [
    "# 사용자 에이전트\n",
    "headers = {\n",
    "    'User-Agent': 'Mozilla/5.0 (Windows NT 10.0; Win64; x64) AppleWebKit/537.36 (KHTML, like Gecko) Chrome/123.0.0.0 Safari/537.36',\n",
    "}\n",
    "\n",
    "timeout_settings = (60, 60)"
   ]
  },
  {
   "cell_type": "code",
   "execution_count": 6,
   "metadata": {},
   "outputs": [],
   "source": [
    "def get_response(url, headers):\n",
    "\n",
    "    # GET 요청\n",
    "    response = requests.get(url, headers=headers, timeout=timeout_settings)\n",
    "    soup = BeautifulSoup(response.text, 'lxml')\n",
    "    time.sleep(0.5)\n",
    "\n",
    "    return soup\n"
   ]
  },
  {
   "cell_type": "code",
   "execution_count": 18,
   "metadata": {},
   "outputs": [],
   "source": [
    "# def get_items(num):\n",
    "    \n",
    "#     url = f'https://www.musinsa.com/categories/item/{num}?d_cat_cd={num}&brand=&list_kind=small&sort=sale_high&sub_sort=1d&page=1&display_cnt=90&exclusive_yn=&sale_goods=&timesale_yn=&ex_soldout=&plusDeliveryYn=&kids=&color=&price1=&price2=&shoeSizeOption=&tags=&campaign_id=&includeKeywords=&measure='\n",
    "    \n",
    "#     product_links = []\n",
    "#     flag = 0\n",
    "#     page = 1\n",
    "#     ranking = 1\n",
    "#     soup = get_response(url, headers)\n",
    "#     total_page = int(soup.select('span.totalPagingNum')[0].text)\n",
    "#     while flag == 0:\n",
    "        \n",
    "#         soup = get_response(url, headers)\n",
    "\n",
    "#         products = soup.select('a.img-block')\n",
    "        \n",
    "#         for product in products:\n",
    "#             product_links.append([product['href'].replace('//', 'https://'), ranking])\n",
    "            \n",
    "#             if len(product_links) == ITEMS_COUNT:\n",
    "#                 flag = 1\n",
    "#                 break\n",
    "\n",
    "#             ranking += 1\n",
    "\n",
    "#         page += 1\n",
    "        \n",
    "#         if page > total_page:\n",
    "#             break\n",
    "\n",
    "#         url = f'https://www.musinsa.com/categories/item/{num}?d_cat_cd={num}&brand=&list_kind=small&sort=sale_high&sub_sort=1d&page={page}&display_cnt=90&exclusive_yn=&sale_goods=&timesale_yn=&ex_soldout=&plusDeliveryYn=&kids=&color=&price1=&price2=&shoeSizeOption=&tags=&campaign_id=&includeKeywords=&measure='\n",
    "\n",
    "#     for item in product_links:\n",
    "#         item.append(ranking)\n",
    "\n",
    "#     return product_links\n"
   ]
  },
  {
   "cell_type": "code",
   "execution_count": 32,
   "metadata": {},
   "outputs": [],
   "source": [
    "import numpy as np\n",
    "\n",
    "def get_items(num):\n",
    "    \n",
    "    url = f'https://www.musinsa.com/categories/item/{num}?d_cat_cd={num}&brand=&list_kind=small&sort=sale_high&sub_sort=1d&page=1&display_cnt=90&exclusive_yn=&sale_goods=&timesale_yn=&ex_soldout=&plusDeliveryYn=&kids=&color=&price1=&price2=&shoeSizeOption=&tags=&campaign_id=&includeKeywords=&measure='\n",
    "    \n",
    "    product_links = []\n",
    "    flag = 0\n",
    "    page = 1\n",
    "    ranking = 1\n",
    "    soup = get_response(url, headers)\n",
    "    total_page = int(soup.select('span.totalPagingNum')[0].text)\n",
    "    while flag == 0:\n",
    "        \n",
    "        soup = get_response(url, headers)\n",
    "\n",
    "        products = soup.select('a.img-block')\n",
    "        \n",
    "        for product in products:\n",
    "            product_links.append(product['href'].replace('//', 'https://'))  # URL만 추가\n",
    "            \n",
    "            if len(product_links) == ITEMS_COUNT:\n",
    "                flag = 1\n",
    "                break\n",
    "\n",
    "            ranking += 1\n",
    "\n",
    "        page += 1\n",
    "        \n",
    "        if page > total_page:\n",
    "            break\n",
    "\n",
    "        url = f'https://www.musinsa.com/categories/item/{num}?d_cat_cd={num}&brand=&list_kind=small&sort=sale_high&sub_sort=1d&page={page}&display_cnt=90&exclusive_yn=&sale_goods=&timesale_yn=&ex_soldout=&plusDeliveryYn=&kids=&color=&price1=&price2=&shoeSizeOption=&tags=&campaign_id=&includeKeywords=&measure='\n",
    "\n",
    "    # 넘파이 배열로 변환\n",
    "    product_links = np.array(product_links)\n",
    "\n",
    "    # 랭킹과 전체 아이템 개수를 각각 배열로 생성\n",
    "    rankings = np.arange(1, len(product_links) + 1)\n",
    "    total_items_count = np.full(len(product_links), len(product_links))\n",
    "\n",
    "    # 넘파이 배열을 세로로 합치기\n",
    "    product_links = np.column_stack((product_links, rankings, total_items_count))\n",
    "\n",
    "    return product_links.tolist()  # 다시 리스트로 변환하여 반환\n"
   ]
  },
  {
   "cell_type": "code",
   "execution_count": 8,
   "metadata": {},
   "outputs": [],
   "source": [
    "def get_item_info(item_url):\n",
    "    soup = get_response(item_url, headers)\n",
    "    try:\n",
    "        info = soup.find_all('script', {'type':'text/javascript'})[15]\n",
    "    except:\n",
    "        return\n",
    "    info = info.string\n",
    "\n",
    "    pattern = re.compile(r'window\\.__MSS__\\.product\\.state = ({.*?});\\s*$', re.DOTALL)\n",
    "    match = pattern.search(info)\n",
    "    info = match.group(1)\n",
    "    \n",
    "    return json.loads(info)"
   ]
  },
  {
   "cell_type": "code",
   "execution_count": 9,
   "metadata": {},
   "outputs": [],
   "source": [
    "def extract_favorite_num(goodsNo):\n",
    "    url = 'https://like.musinsa.com/like/api/v2/liketypes/goods/counts'\n",
    "    data = {\"relationIds\":[str(goodsNo)]}\n",
    "    response = requests.post(url, json=data)\n",
    "    soup = BeautifulSoup(response.text, 'lxml')\n",
    "    info = soup.string\n",
    "    favorites = json.loads(info)['data']['contents']['items'][0]['count']\n",
    "\n",
    "    return favorites\n",
    "\n",
    "    "
   ]
  },
  {
   "cell_type": "code",
   "execution_count": 10,
   "metadata": {},
   "outputs": [],
   "source": [
    "def extract_needs_info(item_info):\n",
    "    # 무신사 상품번호\n",
    "    goodsNo = item_info['goodsNo']\n",
    "\n",
    "    # 브랜드 명명\n",
    "    brand = item_info['brand']\n",
    "\n",
    "    # 품번\n",
    "    styleNo = item_info['styleNo']\n",
    "\n",
    "    # 좋아요 수\n",
    "    favorites = extract_favorite_num(goodsNo)\n",
    "\n",
    "    # 무신사 판매가\n",
    "    originPrice = item_info['goodsPrice']['originPrice']\n",
    "\n",
    "    # 무신사 회원가\n",
    "    memberPrice = item_info['goodsPrice']['minPrice']\n",
    "\n",
    "    # 상품 이미지 : 리스트에 str로 저장. 필요하면 수정\n",
    "    image_urls = []\n",
    "    image_urls.append(item_info['thumbnailImageUrl'])\n",
    "    goodsImages = item_info['goodsImages']\n",
    "    for goodsImage in goodsImages:\n",
    "        image_urls.append(goodsImage['imageUrl'])\n",
    "\n",
    "    url = f'https://goods-detail.musinsa.com/goods/{goodsNo}/stat'\n",
    "    response = requests.get(url, headers=headers, timeout=timeout_settings)\n",
    "    add_data = response.json()\n",
    "    \n",
    "    # 누적 판매\n",
    "    try:\n",
    "        cumulative_sales = add_data['data']['purchase']['total']\n",
    "    except:\n",
    "        cumulative_sales = None\n",
    "\n",
    "    # 나이\n",
    "    try:\n",
    "        ages = add_data['data']['purchase']['rates']\n",
    "        ages = {key: f\"{value}%\" for key, value in ages.items()}\n",
    "    except:\n",
    "        ages = None\n",
    "\n",
    "    # 성비\n",
    "    try:\n",
    "        male = int(add_data['data']['purchase']['male'])\n",
    "        female = int(add_data['data']['purchase']['female'])\n",
    "        total_count = male + female\n",
    "        male_percentage = int(round((male / total_count) * 100, -1))\n",
    "        female_percentage = int(round((female / total_count) * 100, -1))\n",
    "        male_percentage = f\"{male_percentage}%\"\n",
    "        female_percentage = f\"{female_percentage}%\"\n",
    "    except:\n",
    "        male_percentage = None\n",
    "        female_percentage = None\n",
    "\n",
    "    # 대분류\n",
    "    categoryDepth1Title = item_info['category']['categoryDepth1Title']\n",
    "\n",
    "    # 중분류\n",
    "    categoryDepth2Title = item_info['category']['categoryDepth2Title']\n",
    "\n",
    "\n",
    "    data = {\n",
    "        'goodsNo': goodsNo,\n",
    "        'brand': brand,\n",
    "        'styleNo': styleNo,\n",
    "        'favorites': favorites,\n",
    "        'originPrice': originPrice,\n",
    "        'memberPrice': memberPrice,\n",
    "        'categoryDepth1Title': categoryDepth1Title,\n",
    "        'categoryDepth2Title': categoryDepth2Title,\n",
    "        'goodsImages': image_urls,\n",
    "        'cumulative_sales': cumulative_sales,\n",
    "        'ages': ages,\n",
    "        'male_percentage': male_percentage,\n",
    "        'female_percentage': female_percentage,   \n",
    "    }\n",
    "\n",
    "    return data\n",
    "\n",
    "\n"
   ]
  },
  {
   "cell_type": "code",
   "execution_count": 11,
   "metadata": {},
   "outputs": [],
   "source": [
    "def get_rank_score(ranking, item_count):\n",
    "    rank_score = 1 - (ranking - 1 / item_count - 1)\n",
    "\n",
    "    return rank_score"
   ]
  },
  {
   "cell_type": "code",
   "execution_count": 31,
   "metadata": {},
   "outputs": [
    {
     "data": {
      "text/plain": [
       "0.98989898989899"
      ]
     },
     "execution_count": 31,
     "metadata": {},
     "output_type": "execute_result"
    }
   ],
   "source": [
    "1 - 1 / 99"
   ]
  },
  {
   "cell_type": "code",
   "execution_count": 33,
   "metadata": {},
   "outputs": [
    {
     "name": "stdout",
     "output_type": "stream",
     "text": [
      "100 ['https://www.musinsa.com/app/goods/3171896', '100', '100']\n",
      "200 ['https://www.musinsa.com/app/goods/3919591', '100', '100']\n",
      "300 ['https://www.musinsa.com/app/goods/3800198', '100', '100']\n",
      "400 ['https://www.musinsa.com/app/goods/3238682', '100', '100']\n"
     ]
    }
   ],
   "source": [
    "all_product_links = []\n",
    "\n",
    "for middle_category_num in middle_category_nums[:4]:\n",
    "    product_links = get_items(middle_category_num)\n",
    "    all_product_links += product_links\n",
    "    print(len(all_product_links), product_links[-1])"
   ]
  },
  {
   "cell_type": "code",
   "execution_count": 25,
   "metadata": {},
   "outputs": [],
   "source": [
    "def main():\n",
    "    all_product_links = []\n",
    "    \n",
    "    for middle_category_num in middle_category_nums[:4]:\n",
    "        product_links = get_items(middle_category_num)\n",
    "        all_product_links += product_links\n",
    "        print(len(all_product_links), product_links[-1])\n",
    "    \n",
    "    items_list = []\n",
    "\n",
    "    for item_url in all_product_links:\n",
    "        item_info = get_item_info(item_url[0])\n",
    "        \n",
    "        if item_info is None: # get_item_info로 해당 상품 정보 못 가져왔을 때. \n",
    "            continue          # 필요에 맞게 수정 필요.\n",
    "\n",
    "        needs_info = extract_needs_info(item_info)\n",
    "        needs_info['rank_score'] = get_rank_score(int(item_url[1]) , int(item_url[2]))\n",
    "        items_list.append(needs_info)\n",
    "        print(needs_info)\n",
    "    \n",
    "    df = pd.DataFrame(items_list)\n",
    "    print(df)\n",
    "    print(sys.getsizeof(items_list))\n",
    "        "
   ]
  },
  {
   "cell_type": "code",
   "execution_count": 26,
   "metadata": {},
   "outputs": [
    {
     "name": "stdout",
     "output_type": "stream",
     "text": [
      "100 ['https://www.musinsa.com/app/goods/3171896', 100, 100]\n",
      "200 ['https://www.musinsa.com/app/goods/3919591', 100, 100]\n",
      "300 ['https://www.musinsa.com/app/goods/3800198', 100, 100]\n",
      "400 ['https://www.musinsa.com/app/goods/3238682', 100, 100]\n",
      "{'goodsNo': 4078476, 'brand': 'unionblue', 'styleNo': 'UNION-KN07GP', 'favorites': 1178, 'originPrice': 79000, 'memberPrice': 61711, 'categoryDepth1Title': '상의', 'categoryDepth2Title': '니트/스웨터', 'goodsImages': ['/images/goods_img/20240423/4078476/4078476_17140488430798_500.jpg'], 'cumulative_sales': 549, 'ages': {'AGE_UNDER_18': '0%', 'AGE_19_TO_23': '4%', 'AGE_24_TO_28': '41%', 'AGE_29_TO_33': '36%', 'AGE_34_TO_39': '15%', 'AGE_OVER_40': '4%'}, 'male_percentage': '100%', 'female_percentage': '0%', 'rank_score': 1.01}\n",
      "{'goodsNo': 4078380, 'brand': 'unionblue', 'styleNo': 'UNION-KN07BK', 'favorites': 550, 'originPrice': 79000, 'memberPrice': 61711, 'categoryDepth1Title': '상의', 'categoryDepth2Title': '니트/스웨터', 'goodsImages': ['/images/goods_img/20240423/4078380/4078380_17140488855775_500.jpg'], 'cumulative_sales': 291, 'ages': {'AGE_UNDER_18': '0%', 'AGE_19_TO_23': '5%', 'AGE_24_TO_28': '46%', 'AGE_29_TO_33': '36%', 'AGE_34_TO_39': '9%', 'AGE_OVER_40': '4%'}, 'male_percentage': '100%', 'female_percentage': '0%', 'rank_score': 0.010000000000000009}\n",
      "{'goodsNo': 4078467, 'brand': 'unionblue', 'styleNo': 'UNION-KN07MU', 'favorites': 658, 'originPrice': 79000, 'memberPrice': 61711, 'categoryDepth1Title': '상의', 'categoryDepth2Title': '니트/스웨터', 'goodsImages': ['/images/goods_img/20240423/4078467/4078467_17140536755436_500.jpg'], 'cumulative_sales': 267, 'ages': {'AGE_UNDER_18': '0%', 'AGE_19_TO_23': '5%', 'AGE_24_TO_28': '37%', 'AGE_29_TO_33': '36%', 'AGE_34_TO_39': '16%', 'AGE_OVER_40': '6%'}, 'male_percentage': '100%', 'female_percentage': '0%', 'rank_score': -0.9900000000000002}\n",
      "{'goodsNo': 4078445, 'brand': 'unionblue', 'styleNo': 'UNION-KN07INA', 'favorites': 501, 'originPrice': 79000, 'memberPrice': 61711, 'categoryDepth1Title': '상의', 'categoryDepth2Title': '니트/스웨터', 'goodsImages': ['/images/goods_img/20240423/4078445/4078445_17140515695039_500.jpg'], 'cumulative_sales': 205, 'ages': {'AGE_UNDER_18': '0%', 'AGE_19_TO_23': '6%', 'AGE_24_TO_28': '38%', 'AGE_29_TO_33': '37%', 'AGE_34_TO_39': '14%', 'AGE_OVER_40': '5%'}, 'male_percentage': '100%', 'female_percentage': '0%', 'rank_score': -1.9900000000000002}\n",
      "{'goodsNo': 2474966, 'brand': 'xtonz', 'styleNo': 'xtk016BK', 'favorites': 16051, 'originPrice': 49000, 'memberPrice': 42292, 'categoryDepth1Title': '상의', 'categoryDepth2Title': '니트/스웨터', 'goodsImages': ['/images/goods_img/20220407/2474966/2474966_1_500.jpg', '/images/prd_img/20220407/2474966/detail_2474966_1_500.jpg', '/images/prd_img/20220407/2474966/detail_2474966_2_500.jpg', '/images/prd_img/20220407/2474966/detail_2474966_3_500.jpg', '/images/prd_img/20220407/2474966/detail_2474966_4_500.jpg'], 'cumulative_sales': 5902, 'ages': {'AGE_UNDER_18': '8%', 'AGE_19_TO_23': '33%', 'AGE_24_TO_28': '31%', 'AGE_29_TO_33': '15%', 'AGE_34_TO_39': '4%', 'AGE_OVER_40': '9%'}, 'male_percentage': '90%', 'female_percentage': '10%', 'rank_score': -2.99}\n",
      "{'goodsNo': 3143788, 'brand': 'kiimuir', 'styleNo': 'KBCU3KS001', 'favorites': 6444, 'originPrice': 39000, 'memberPrice': 30303, 'categoryDepth1Title': '상의', 'categoryDepth2Title': '니트/스웨터', 'goodsImages': ['/images/goods_img/20230313/3143788/3143788_17114205213367_500.jpg'], 'cumulative_sales': 5397, 'ages': {'AGE_UNDER_18': '3%', 'AGE_19_TO_23': '18%', 'AGE_24_TO_28': '29%', 'AGE_29_TO_33': '25%', 'AGE_34_TO_39': '13%', 'AGE_OVER_40': '12%'}, 'male_percentage': '80%', 'female_percentage': '20%', 'rank_score': -3.99}\n",
      "{'goodsNo': 4071027, 'brand': 'lafudgestore', 'styleNo': 'LA 2789478', 'favorites': 474, 'originPrice': 78000, 'memberPrice': 38329, 'categoryDepth1Title': '상의', 'categoryDepth2Title': '니트/스웨터', 'goodsImages': ['/images/goods_img/20240419/4071027/4071027_17140930789203_500.jpg'], 'cumulative_sales': 76, 'ages': {'AGE_UNDER_18': '3%', 'AGE_19_TO_23': '16%', 'AGE_24_TO_28': '39%', 'AGE_29_TO_33': '37%', 'AGE_34_TO_39': '4%', 'AGE_OVER_40': '1%'}, 'male_percentage': '100%', 'female_percentage': '0%', 'rank_score': -4.99}\n",
      "{'goodsNo': 3325429, 'brand': 'avan', 'styleNo': '23SS09-10', 'favorites': 11697, 'originPrice': 44000, 'memberPrice': 30327, 'categoryDepth1Title': '상의', 'categoryDepth2Title': '니트/스웨터', 'goodsImages': ['/images/goods_img/20230525/3325429/3325429_17138403474171_500.jpg', '/images/prd_img/20230525/3325429/detail_3325429_16861150575290_500.jpg', '/images/prd_img/20230525/3325429/detail_3325429_16861150607638_500.jpg', '/images/prd_img/20230525/3325429/detail_3325429_16861150637549_500.jpg', '/images/prd_img/20230525/3325429/detail_3325429_17138403357416_500.jpg', '/images/prd_img/20230525/3325429/detail_3325429_17138403381826_500.jpg', '/images/prd_img/20230525/3325429/detail_3325429_17138403364571_500.jpg', '/images/prd_img/20230525/3325429/detail_3325429_17138403371271_500.jpg', '/images/prd_img/20230525/3325429/detail_3325429_17138403350667_500.jpg'], 'cumulative_sales': 1837, 'ages': {'AGE_UNDER_18': '2%', 'AGE_19_TO_23': '19%', 'AGE_24_TO_28': '35%', 'AGE_29_TO_33': '22%', 'AGE_34_TO_39': '8%', 'AGE_OVER_40': '14%'}, 'male_percentage': '0%', 'female_percentage': '100%', 'rank_score': -5.99}\n",
      "{'goodsNo': 2030178, 'brand': 'xtonz', 'styleNo': 'xtk', 'favorites': 16244, 'originPrice': 49000, 'memberPrice': 42292, 'categoryDepth1Title': '상의', 'categoryDepth2Title': '니트/스웨터', 'goodsImages': ['/images/goods_img/20210715/2030178/2030178_1_500.jpg', '/images/prd_img/20210715/2030178/detail_2030178_1_500.jpg', '/images/prd_img/20210715/2030178/detail_2030178_2_500.jpg', '/images/prd_img/20210715/2030178/detail_2030178_3_500.jpg', '/images/prd_img/20210715/2030178/detail_2030178_4_500.jpg'], 'cumulative_sales': 4476, 'ages': {'AGE_UNDER_18': '5%', 'AGE_19_TO_23': '26%', 'AGE_24_TO_28': '34%', 'AGE_29_TO_33': '22%', 'AGE_34_TO_39': '6%', 'AGE_OVER_40': '7%'}, 'male_percentage': '90%', 'female_percentage': '10%', 'rank_score': -6.99}\n",
      "{'goodsNo': 1942725, 'brand': 'xtonz', 'styleNo': 'xtk016kh', 'favorites': 9622, 'originPrice': 49000, 'memberPrice': 42292, 'categoryDepth1Title': '상의', 'categoryDepth2Title': '니트/스웨터', 'goodsImages': ['/images/goods_img/20210510/1942725/1942725_1_500.jpg', '/images/prd_img/20210510/1942725/detail_1942725_1_500.jpg', '/images/prd_img/20210510/1942725/detail_1942725_2_500.jpg', '/images/prd_img/20210510/1942725/detail_1942725_3_500.jpg'], 'cumulative_sales': 2484, 'ages': {'AGE_UNDER_18': '3%', 'AGE_19_TO_23': '26%', 'AGE_24_TO_28': '36%', 'AGE_29_TO_33': '23%', 'AGE_34_TO_39': '6%', 'AGE_OVER_40': '6%'}, 'male_percentage': '90%', 'female_percentage': '10%', 'rank_score': -7.99}\n",
      "{'goodsNo': 3338980, 'brand': 'hardcorehappiness', 'styleNo': '23SS2_04', 'favorites': 13353, 'originPrice': 55000, 'memberPrice': 19250, 'categoryDepth1Title': '상의', 'categoryDepth2Title': '니트/스웨터', 'goodsImages': ['/images/goods_img/20230601/3338980/3338980_16855983564149_500.jpg', '/images/prd_img/20230601/3338980/detail_3338980_16855983835395_500.jpg', '/images/prd_img/20230601/3338980/detail_3338980_16855983723685_500.jpg', '/images/prd_img/20230601/3338980/detail_3338980_16855983733333_500.jpg', '/images/prd_img/20230601/3338980/detail_3338980_16855983744313_500.jpg', '/images/prd_img/20230601/3338980/detail_3338980_16855983757026_500.jpg', '/images/prd_img/20230601/3338980/detail_3338980_16855983773106_500.jpg'], 'cumulative_sales': 3601, 'ages': {'AGE_UNDER_18': '1%', 'AGE_19_TO_23': '18%', 'AGE_24_TO_28': '43%', 'AGE_29_TO_33': '24%', 'AGE_34_TO_39': '6%', 'AGE_OVER_40': '8%'}, 'male_percentage': '0%', 'female_percentage': '100%', 'rank_score': -8.99}\n",
      "{'goodsNo': 4078451, 'brand': 'unionblue', 'styleNo': 'UNION-KN07IV', 'favorites': 114, 'originPrice': 79000, 'memberPrice': 61711, 'categoryDepth1Title': '상의', 'categoryDepth2Title': '니트/스웨터', 'goodsImages': ['/images/goods_img/20240423/4078451/4078451_17140524518168_500.jpg'], 'cumulative_sales': 40, 'ages': {'AGE_UNDER_18': '0%', 'AGE_19_TO_23': '2%', 'AGE_24_TO_28': '28%', 'AGE_29_TO_33': '40%', 'AGE_34_TO_39': '25%', 'AGE_OVER_40': '5%'}, 'male_percentage': '100%', 'female_percentage': '0%', 'rank_score': -9.99}\n",
      "{'goodsNo': 3202529, 'brand': 'costumeoclock', 'styleNo': 'COOSKT045KT046KT060KT061KT062KT063', 'favorites': 7988, 'originPrice': 94000, 'memberPrice': 38493, 'categoryDepth1Title': '상의', 'categoryDepth2Title': '니트/스웨터', 'goodsImages': ['/images/goods_img/20230403/3202529/3202529_17129065117327_500.jpg', '/images/prd_img/20230403/3202529/detail_3202529_17129068787265_500.jpg', '/images/prd_img/20230403/3202529/detail_3202529_17129068798099_500.jpg', '/images/prd_img/20230403/3202529/detail_3202529_17129068809215_500.jpg', '/images/prd_img/20230403/3202529/detail_3202529_17129068819162_500.jpg', '/images/prd_img/20230403/3202529/detail_3202529_17129068828316_500.jpg', '/images/prd_img/20230403/3202529/detail_3202529_17129068836824_500.jpg', '/images/prd_img/20230403/3202529/detail_3202529_17129068846607_500.jpg', '/images/prd_img/20230403/3202529/detail_3202529_17129068855741_500.jpg', '/images/prd_img/20230403/3202529/detail_3202529_17129068864543_500.jpg', '/images/prd_img/20230403/3202529/detail_3202529_17129068874508_500.jpg', '/images/prd_img/20230403/3202529/detail_3202529_17129068883575_500.jpg', '/images/prd_img/20230403/3202529/detail_3202529_17129068893508_500.jpg', '/images/prd_img/20230403/3202529/detail_3202529_17129068912105_500.jpg'], 'cumulative_sales': 4240, 'ages': {'AGE_UNDER_18': '4%', 'AGE_19_TO_23': '17%', 'AGE_24_TO_28': '32%', 'AGE_29_TO_33': '27%', 'AGE_34_TO_39': '12%', 'AGE_OVER_40': '8%'}, 'male_percentage': '90%', 'female_percentage': '10%', 'rank_score': -10.99}\n",
      "{'goodsNo': 3240418, 'brand': 'excontainer', 'styleNo': 'E3S-RNHK06 NAVY', 'favorites': 2568, 'originPrice': 47000, 'memberPrice': 32441, 'categoryDepth1Title': '상의', 'categoryDepth2Title': '니트/스웨터', 'goodsImages': ['/images/goods_img/20230417/3240418/3240418_16911102017509_500.jpg', '/images/prd_img/20230417/3240418/detail_3240418_17128851886140_500.jpg', '/images/prd_img/20230417/3240418/detail_3240418_17128851894169_500.jpg', '/images/prd_img/20230417/3240418/detail_3240418_17128851901693_500.jpg', '/images/prd_img/20230417/3240418/detail_3240418_17128851909982_500.jpg', '/images/prd_img/20230417/3240418/detail_3240418_17128851919125_500.jpg'], 'cumulative_sales': 1262, 'ages': {'AGE_UNDER_18': '4%', 'AGE_19_TO_23': '23%', 'AGE_24_TO_28': '39%', 'AGE_29_TO_33': '25%', 'AGE_34_TO_39': '5%', 'AGE_OVER_40': '4%'}, 'male_percentage': '90%', 'female_percentage': '10%', 'rank_score': -11.99}\n",
      "{'goodsNo': 3136442, 'brand': 'lmood', 'styleNo': 'L3AN0010', 'favorites': 3771, 'originPrice': 98000, 'memberPrice': 44100, 'categoryDepth1Title': '상의', 'categoryDepth2Title': '니트/스웨터', 'goodsImages': ['/images/goods_img/20230309/3136442/3136442_16793920189099_500.jpg', '/images/prd_img/20230309/3136442/detail_3136442_16793916865301_500.jpg', '/images/prd_img/20230309/3136442/detail_3136442_16793916906653_500.jpg', '/images/prd_img/20230309/3136442/detail_3136442_16793916949872_500.jpg', '/images/prd_img/20230309/3136442/detail_3136442_16793916986661_500.jpg', '/images/prd_img/20230309/3136442/detail_3136442_16793917028955_500.jpg', '/images/prd_img/20230309/3136442/detail_3136442_16793917064865_500.jpg'], 'cumulative_sales': 1786, 'ages': {'AGE_UNDER_18': '1%', 'AGE_19_TO_23': '14%', 'AGE_24_TO_28': '40%', 'AGE_29_TO_33': '30%', 'AGE_34_TO_39': '9%', 'AGE_OVER_40': '6%'}, 'male_percentage': '90%', 'female_percentage': '10%', 'rank_score': -12.99}\n",
      "{'goodsNo': 3143446, 'brand': 'kiimuir', 'styleNo': 'KBDUUKS005', 'favorites': 6249, 'originPrice': 49000, 'memberPrice': 38083, 'categoryDepth1Title': '상의', 'categoryDepth2Title': '니트/스웨터', 'goodsImages': ['/images/goods_img/20230313/3143446/3143446_17110884358026_500.jpg'], 'cumulative_sales': 3063, 'ages': {'AGE_UNDER_18': '4%', 'AGE_19_TO_23': '22%', 'AGE_24_TO_28': '31%', 'AGE_29_TO_33': '22%', 'AGE_34_TO_39': '11%', 'AGE_OVER_40': '10%'}, 'male_percentage': '90%', 'female_percentage': '10%', 'rank_score': -13.99}\n",
      "{'goodsNo': 4016925, 'brand': 'ashour', 'styleNo': 'A24SS-TOP03-NV', 'favorites': 237, 'originPrice': 62000, 'memberPrice': 51280, 'categoryDepth1Title': '상의', 'categoryDepth2Title': '니트/스웨터', 'goodsImages': ['/images/goods_img/20240402/4016925/4016925_17135033864066_500.jpg', '/images/prd_img/20240402/4016925/detail_4016925_17135034815379_500.jpg', '/images/prd_img/20240402/4016925/detail_4016925_17135034825378_500.jpg', '/images/prd_img/20240402/4016925/detail_4016925_17135034837470_500.jpg', '/images/prd_img/20240402/4016925/detail_4016925_17135034848311_500.jpg', '/images/prd_img/20240402/4016925/detail_4016925_17135034860168_500.jpg'], 'cumulative_sales': 87, 'ages': {'AGE_UNDER_18': '0%', 'AGE_19_TO_23': '13%', 'AGE_24_TO_28': '29%', 'AGE_29_TO_33': '37%', 'AGE_34_TO_39': '15%', 'AGE_OVER_40': '6%'}, 'male_percentage': '100%', 'female_percentage': '0%', 'rank_score': -14.989999999999998}\n",
      "{'goodsNo': 3971331, 'brand': 'toffee', 'styleNo': 'T3S-CCHCKT34', 'favorites': 681, 'originPrice': 118000, 'memberPrice': 69000, 'categoryDepth1Title': '상의', 'categoryDepth2Title': '니트/스웨터', 'goodsImages': ['/images/goods_img/20240320/3971331/3971331_17110046500709_500.jpg', '/images/prd_img/20240320/3971331/detail_3971331_17110046702499_500.jpg', '/images/prd_img/20240320/3971331/detail_3971331_17110046734222_500.jpg', '/images/prd_img/20240320/3971331/detail_3971331_17110046694332_500.jpg', '/images/prd_img/20240320/3971331/detail_3971331_17110046710519_500.jpg', '/images/prd_img/20240320/3971331/detail_3971331_17110046742984_500.jpg', '/images/prd_img/20240320/3971331/detail_3971331_17110046718375_500.jpg', '/images/prd_img/20240320/3971331/detail_3971331_17110046726907_500.jpg', '/images/prd_img/20240320/3971331/detail_3971331_17110046890204_500.jpg', '/images/prd_img/20240320/3971331/detail_3971331_17110046900528_500.jpg', '/images/prd_img/20240320/3971331/detail_3971331_17110046910652_500.jpg'], 'cumulative_sales': 277, 'ages': {'AGE_UNDER_18': '3%', 'AGE_19_TO_23': '22%', 'AGE_24_TO_28': '35%', 'AGE_29_TO_33': '18%', 'AGE_34_TO_39': '10%', 'AGE_OVER_40': '12%'}, 'male_percentage': '90%', 'female_percentage': '10%', 'rank_score': -15.989999999999998}\n",
      "{'goodsNo': 3839680, 'brand': 'noirer', 'styleNo': 'N24SKN07-BK', 'favorites': 861, 'originPrice': 85000, 'memberPrice': 59173, 'categoryDepth1Title': '상의', 'categoryDepth2Title': '니트/스웨터', 'goodsImages': ['/images/goods_img/20240201/3839680/3839680_17080596032236_500.jpg', '/images/prd_img/20240201/3839680/detail_3839680_17085711720024_500.jpg', '/images/prd_img/20240201/3839680/detail_3839680_17085711725889_500.jpg', '/images/prd_img/20240201/3839680/detail_3839680_17085711731599_500.jpg', '/images/prd_img/20240201/3839680/detail_3839680_17085711739831_500.jpg', '/images/prd_img/20240201/3839680/detail_3839680_17085711749563_500.jpg'], 'cumulative_sales': 189, 'ages': {'AGE_UNDER_18': '1%', 'AGE_19_TO_23': '16%', 'AGE_24_TO_28': '38%', 'AGE_29_TO_33': '25%', 'AGE_34_TO_39': '12%', 'AGE_OVER_40': '8%'}, 'male_percentage': '90%', 'female_percentage': '10%', 'rank_score': -16.99}\n",
      "{'goodsNo': 2423042, 'brand': 'knitted', 'styleNo': 'K21SSUK05BK', 'favorites': 4240, 'originPrice': 49000, 'memberPrice': 32105, 'categoryDepth1Title': '상의', 'categoryDepth2Title': '니트/스웨터', 'goodsImages': ['/images/goods_img/20220316/2423042/2423042_16932675907156_500.jpg', '/images/prd_img/20220316/2423042/detail_2423042_9_500.jpg', '/images/prd_img/20220316/2423042/detail_2423042_10_500.jpg', '/images/prd_img/20220316/2423042/detail_2423042_11_500.jpg', '/images/prd_img/20220316/2423042/detail_2423042_6_500.jpg', '/images/prd_img/20220316/2423042/detail_2423042_7_500.jpg', '/images/prd_img/20220316/2423042/detail_2423042_8_500.jpg', '/images/prd_img/20220316/2423042/detail_2423042_16877547956850_500.jpg', '/images/prd_img/20220316/2423042/detail_2423042_1_500.jpg', '/images/prd_img/20220316/2423042/detail_2423042_2_500.jpg', '/images/prd_img/20220316/2423042/detail_2423042_3_500.jpg', '/images/prd_img/20220316/2423042/detail_2423042_4_500.jpg', '/images/prd_img/20220316/2423042/detail_2423042_5_500.jpg'], 'cumulative_sales': 1462, 'ages': {'AGE_UNDER_18': '1%', 'AGE_19_TO_23': '14%', 'AGE_24_TO_28': '37%', 'AGE_29_TO_33': '32%', 'AGE_34_TO_39': '10%', 'AGE_OVER_40': '6%'}, 'male_percentage': '90%', 'female_percentage': '10%', 'rank_score': -17.99}\n",
      "{'goodsNo': 4076649, 'brand': 'lemard', 'styleNo': 'LM24SM042', 'favorites': 151, 'originPrice': 77000, 'memberPrice': 53292, 'categoryDepth1Title': '상의', 'categoryDepth2Title': '니트/스웨터', 'goodsImages': ['/images/goods_img/20240423/4076649/4076649_17138439680693_500.jpg', '/images/prd_img/20240423/4076649/detail_4076649_17138439693103_500.jpg', '/images/prd_img/20240423/4076649/detail_4076649_17138439696587_500.jpg', '/images/prd_img/20240423/4076649/detail_4076649_17138439700939_500.jpg', '/images/prd_img/20240423/4076649/detail_4076649_17138439705346_500.jpg', '/images/prd_img/20240423/4076649/detail_4076649_17138439710188_500.jpg', '/images/prd_img/20240423/4076649/detail_4076649_17138439715048_500.jpg'], 'cumulative_sales': 27, 'ages': {'AGE_UNDER_18': '0%', 'AGE_19_TO_23': '11%', 'AGE_24_TO_28': '56%', 'AGE_29_TO_33': '22%', 'AGE_34_TO_39': '11%', 'AGE_OVER_40': '0%'}, 'male_percentage': '100%', 'female_percentage': '0%', 'rank_score': -18.99}\n",
      "{'goodsNo': 4016944, 'brand': 'ashour', 'styleNo': 'A24SS-TOP03-EC', 'favorites': 251, 'originPrice': 62000, 'memberPrice': 51280, 'categoryDepth1Title': '상의', 'categoryDepth2Title': '니트/스웨터', 'goodsImages': ['/images/goods_img/20240402/4016944/4016944_17135035307159_500.jpg', '/images/prd_img/20240402/4016944/detail_4016944_17135035426483_500.jpg', '/images/prd_img/20240402/4016944/detail_4016944_17135035437517_500.jpg', '/images/prd_img/20240402/4016944/detail_4016944_17135035449257_500.jpg', '/images/prd_img/20240402/4016944/detail_4016944_17135035460718_500.jpg', '/images/prd_img/20240402/4016944/detail_4016944_17135035469868_500.jpg'], 'cumulative_sales': 80, 'ages': {'AGE_UNDER_18': '1%', 'AGE_19_TO_23': '10%', 'AGE_24_TO_28': '32%', 'AGE_29_TO_33': '36%', 'AGE_34_TO_39': '12%', 'AGE_OVER_40': '9%'}, 'male_percentage': '100%', 'female_percentage': '0%', 'rank_score': -19.99}\n",
      "{'goodsNo': 2623765, 'brand': 'guernseywoollens', 'styleNo': 'gwtr6001-nv', 'favorites': 1023, 'originPrice': 98000, 'memberPrice': 90062, 'categoryDepth1Title': '상의', 'categoryDepth2Title': '니트/스웨터', 'goodsImages': ['/images/goods_img/20220620/2623765/2623765_17144465135192_500.jpg', '/images/prd_img/20220620/2623765/detail_2623765_17144465164496_500.jpg', '/images/prd_img/20220620/2623765/detail_2623765_17144465173951_500.jpg', '/images/prd_img/20220620/2623765/detail_2623765_17144465185495_500.jpg', '/images/prd_img/20220620/2623765/detail_2623765_17144465196511_500.jpg', '/images/prd_img/20220620/2623765/detail_2623765_17144465208618_500.jpg', '/images/prd_img/20220620/2623765/detail_2623765_17144465221878_500.jpg', '/images/prd_img/20220620/2623765/detail_2623765_17144465234820_500.jpg'], 'cumulative_sales': 705, 'ages': {'AGE_UNDER_18': '0%', 'AGE_19_TO_23': '7%', 'AGE_24_TO_28': '30%', 'AGE_29_TO_33': '38%', 'AGE_34_TO_39': '19%', 'AGE_OVER_40': '6%'}, 'male_percentage': '100%', 'female_percentage': '0%', 'rank_score': -20.99}\n",
      "{'goodsNo': 4076639, 'brand': 'lemard', 'styleNo': 'LM24SM038', 'favorites': 117, 'originPrice': 48000, 'memberPrice': 33221, 'categoryDepth1Title': '상의', 'categoryDepth2Title': '니트/스웨터', 'goodsImages': ['/images/goods_img/20240423/4076639/4076639_17138438864988_500.jpg', '/images/prd_img/20240423/4076639/detail_4076639_17138438877179_500.jpg', '/images/prd_img/20240423/4076639/detail_4076639_17138438880120_500.jpg', '/images/prd_img/20240423/4076639/detail_4076639_17138438884055_500.jpg', '/images/prd_img/20240423/4076639/detail_4076639_17138438888924_500.jpg', '/images/prd_img/20240423/4076639/detail_4076639_17138438894261_500.jpg'], 'cumulative_sales': 20, 'ages': {'AGE_UNDER_18': '0%', 'AGE_19_TO_23': '40%', 'AGE_24_TO_28': '30%', 'AGE_29_TO_33': '25%', 'AGE_34_TO_39': '0%', 'AGE_OVER_40': '5%'}, 'male_percentage': '80%', 'female_percentage': '20%', 'rank_score': -21.99}\n",
      "{'goodsNo': 3324515, 'brand': 'avan', 'styleNo': '23SS09-04', 'favorites': 15404, 'originPrice': 44000, 'memberPrice': 30327, 'categoryDepth1Title': '상의', 'categoryDepth2Title': '니트/스웨터', 'goodsImages': ['/images/goods_img/20230525/3324515/3324515_16871324889867_500.jpg', '/images/prd_img/20230525/3324515/detail_3324515_16861138331181_500.jpg', '/images/prd_img/20230525/3324515/detail_3324515_16861138368092_500.jpg', '/images/prd_img/20230525/3324515/detail_3324515_16861138398882_500.jpg', '/images/prd_img/20230525/3324515/detail_3324515_16861138438799_500.jpg'], 'cumulative_sales': 2132, 'ages': {'AGE_UNDER_18': '3%', 'AGE_19_TO_23': '26%', 'AGE_24_TO_28': '38%', 'AGE_29_TO_33': '16%', 'AGE_34_TO_39': '6%', 'AGE_OVER_40': '11%'}, 'male_percentage': '0%', 'female_percentage': '100%', 'rank_score': -22.99}\n",
      "{'goodsNo': 3268537, 'brand': 'blackmoment', 'styleNo': '23SK39', 'favorites': 3885, 'originPrice': 59000, 'memberPrice': 35381, 'categoryDepth1Title': '상의', 'categoryDepth2Title': '니트/스웨터', 'goodsImages': ['/images/goods_img/20230428/3268537/3268537_16836787680194_500.jpg', '/images/prd_img/20230428/3268537/detail_3268537_16826581180964_500.jpg', '/images/prd_img/20230428/3268537/detail_3268537_16826581168545_500.jpg', '/images/prd_img/20230428/3268537/detail_3268537_16826581154399_500.jpg', '/images/prd_img/20230428/3268537/detail_3268537_16826581194914_500.jpg', '/images/prd_img/20230428/3268537/detail_3268537_16826581211176_500.jpg', '/images/prd_img/20230428/3268537/detail_3268537_16826581227791_500.jpg', '/images/prd_img/20230428/3268537/detail_3268537_16826581254568_500.jpg'], 'cumulative_sales': 1482, 'ages': {'AGE_UNDER_18': '4%', 'AGE_19_TO_23': '24%', 'AGE_24_TO_28': '31%', 'AGE_29_TO_33': '24%', 'AGE_34_TO_39': '9%', 'AGE_OVER_40': '8%'}, 'male_percentage': '80%', 'female_percentage': '20%', 'rank_score': -23.99}\n",
      "{'goodsNo': 3175105, 'brand': 'edition', 'styleNo': 'NND2ET1994', 'favorites': 799, 'originPrice': 99000, 'memberPrice': 18900, 'categoryDepth1Title': '상의', 'categoryDepth2Title': '니트/스웨터', 'goodsImages': ['/images/goods_img/20230323/3175105/3175105_16795555556281_500.jpg', '/images/prd_img/20230323/3175105/detail_3175105_16795555728317_500.jpg', '/images/prd_img/20230323/3175105/detail_3175105_16795555733542_500.jpg', '/images/prd_img/20230323/3175105/detail_3175105_16795555738217_500.jpg', '/images/prd_img/20230323/3175105/detail_3175105_16795555743106_500.jpg'], 'cumulative_sales': 480, 'ages': {'AGE_UNDER_18': '8%', 'AGE_19_TO_23': '16%', 'AGE_24_TO_28': '25%', 'AGE_29_TO_33': '20%', 'AGE_34_TO_39': '14%', 'AGE_OVER_40': '17%'}, 'male_percentage': '90%', 'female_percentage': '10%', 'rank_score': -24.99}\n",
      "{'goodsNo': 2623779, 'brand': 'guernseywoollens', 'styleNo': 'gwtr6000-nv', 'favorites': 1728, 'originPrice': 98000, 'memberPrice': 90062, 'categoryDepth1Title': '상의', 'categoryDepth2Title': '니트/스웨터', 'goodsImages': ['/images/goods_img/20220620/2623779/2623779_17144466514823_500.jpg', '/images/prd_img/20220620/2623779/detail_2623779_17144466544383_500.jpg', '/images/prd_img/20220620/2623779/detail_2623779_17144466553537_500.jpg', '/images/prd_img/20220620/2623779/detail_2623779_17144466563201_500.jpg', '/images/prd_img/20220620/2623779/detail_2623779_17144466573090_500.jpg', '/images/prd_img/20220620/2623779/detail_2623779_17144466585896_500.jpg', '/images/prd_img/20220620/2623779/detail_2623779_17144466596118_500.jpg', '/images/prd_img/20220620/2623779/detail_2623779_17144466607257_500.jpg'], 'cumulative_sales': 1365, 'ages': {'AGE_UNDER_18': '0%', 'AGE_19_TO_23': '8%', 'AGE_24_TO_28': '33%', 'AGE_29_TO_33': '35%', 'AGE_34_TO_39': '16%', 'AGE_OVER_40': '8%'}, 'male_percentage': '90%', 'female_percentage': '10%', 'rank_score': -25.99}\n",
      "{'goodsNo': 3975685, 'brand': 'ledept', 'styleNo': 'L24W204,5', 'favorites': 79, 'originPrice': 118000, 'memberPrice': 45031, 'categoryDepth1Title': '상의', 'categoryDepth2Title': '니트/스웨터', 'goodsImages': ['/images/goods_img/20240321/3975685/3975685_17115958558787_500.jpg', '/images/prd_img/20240321/3975685/detail_3975685_17109992212361_500.jpg', '/images/prd_img/20240321/3975685/detail_3975685_17109992506756_500.jpg', '/images/prd_img/20240321/3975685/detail_3975685_17109992536820_500.jpg', '/images/prd_img/20240321/3975685/detail_3975685_17109992527031_500.jpg', '/images/prd_img/20240321/3975685/detail_3975685_17109992554482_500.jpg', '/images/prd_img/20240321/3975685/detail_3975685_17109992517450_500.jpg', '/images/prd_img/20240321/3975685/detail_3975685_17109992546189_500.jpg'], 'cumulative_sales': 28, 'ages': {'AGE_UNDER_18': '0%', 'AGE_19_TO_23': '4%', 'AGE_24_TO_28': '14%', 'AGE_29_TO_33': '25%', 'AGE_34_TO_39': '46%', 'AGE_OVER_40': '11%'}, 'male_percentage': '90%', 'female_percentage': '10%', 'rank_score': -26.99}\n",
      "{'goodsNo': 3862964, 'brand': 'ilcorso', 'styleNo': 'IESW4E501XX', 'favorites': 637, 'originPrice': 39000, 'memberPrice': 33565, 'categoryDepth1Title': '상의', 'categoryDepth2Title': '니트/스웨터', 'goodsImages': ['/images/goods_img/20240213/3862964/3862964_17090097107515_500.jpg', '/images/prd_img/20240213/3862964/detail_3862964_17090097151192_500.jpg', '/images/prd_img/20240213/3862964/detail_3862964_17090097161672_500.jpg', '/images/prd_img/20240213/3862964/detail_3862964_17090097171697_500.jpg', '/images/prd_img/20240213/3862964/detail_3862964_17090097182753_500.jpg'], 'cumulative_sales': 340, 'ages': {'AGE_UNDER_18': '0%', 'AGE_19_TO_23': '6%', 'AGE_24_TO_28': '14%', 'AGE_29_TO_33': '35%', 'AGE_34_TO_39': '33%', 'AGE_OVER_40': '12%'}, 'male_percentage': '90%', 'female_percentage': '10%', 'rank_score': -27.99}\n",
      "{'goodsNo': 3202958, 'brand': 'toffee', 'styleNo': 'T3S-CCHCKT34IV', 'favorites': 3834, 'originPrice': 59000, 'memberPrice': 35841, 'categoryDepth1Title': '상의', 'categoryDepth2Title': '니트/스웨터', 'goodsImages': ['/images/goods_img/20230403/3202958/3202958_17113415493837_500.jpg', '/images/prd_img/20230403/3202958/detail_3202958_17113415351572_500.jpg', '/images/prd_img/20230403/3202958/detail_3202958_17113415368915_500.jpg', '/images/prd_img/20230403/3202958/detail_3202958_17113415378916_500.jpg', '/images/prd_img/20230403/3202958/detail_3202958_17113415387680_500.jpg'], 'cumulative_sales': 2382, 'ages': {'AGE_UNDER_18': '8%', 'AGE_19_TO_23': '31%', 'AGE_24_TO_28': '30%', 'AGE_29_TO_33': '17%', 'AGE_34_TO_39': '5%', 'AGE_OVER_40': '9%'}, 'male_percentage': '90%', 'female_percentage': '10%', 'rank_score': -28.99}\n",
      "{'goodsNo': 3859184, 'brand': 'costumeoclock', 'styleNo': 'COOSKT060', 'favorites': 244, 'originPrice': 49000, 'memberPrice': 26900, 'categoryDepth1Title': '상의', 'categoryDepth2Title': '니트/스웨터', 'goodsImages': ['/images/goods_img/20240208/3859184/3859184_17129010629436_500.jpg', '/images/prd_img/20240208/3859184/detail_3859184_17129010822811_500.jpg', '/images/prd_img/20240208/3859184/detail_3859184_17129010831601_500.jpg', '/images/prd_img/20240208/3859184/detail_3859184_17129010841453_500.jpg', '/images/prd_img/20240208/3859184/detail_3859184_17129010851119_500.jpg', '/images/prd_img/20240208/3859184/detail_3859184_17129010860958_500.jpg', '/images/prd_img/20240208/3859184/detail_3859184_17129010870082_500.jpg', '/images/prd_img/20240208/3859184/detail_3859184_17129010880160_500.jpg', '/images/prd_img/20240208/3859184/detail_3859184_17129010889811_500.jpg', '/images/prd_img/20240208/3859184/detail_3859184_17129010900013_500.jpg', '/images/prd_img/20240208/3859184/detail_3859184_17129010910235_500.jpg'], 'cumulative_sales': 119, 'ages': {'AGE_UNDER_18': '1%', 'AGE_19_TO_23': '20%', 'AGE_24_TO_28': '31%', 'AGE_29_TO_33': '31%', 'AGE_34_TO_39': '10%', 'AGE_OVER_40': '7%'}, 'male_percentage': '100%', 'female_percentage': '0%', 'rank_score': -29.99}\n",
      "{'goodsNo': 3323759, 'brand': 'avan', 'styleNo': '23SS09-02', 'favorites': 5954, 'originPrice': 44000, 'memberPrice': 30327, 'categoryDepth1Title': '상의', 'categoryDepth2Title': '니트/스웨터', 'goodsImages': ['/images/goods_img/20230525/3323759/3323759_17138401592118_500.jpg', '/images/prd_img/20230525/3323759/detail_3323759_16861134982398_500.jpg', '/images/prd_img/20230525/3323759/detail_3323759_16861135016458_500.jpg', '/images/prd_img/20230525/3323759/detail_3323759_16861135050365_500.jpg', '/images/prd_img/20230525/3323759/detail_3323759_17138401662512_500.jpg', '/images/prd_img/20230525/3323759/detail_3323759_17138401681113_500.jpg', '/images/prd_img/20230525/3323759/detail_3323759_17138401668168_500.jpg', '/images/prd_img/20230525/3323759/detail_3323759_17138401674574_500.jpg', '/images/prd_img/20230525/3323759/detail_3323759_17138401656325_500.jpg'], 'cumulative_sales': 1311, 'ages': {'AGE_UNDER_18': '2%', 'AGE_19_TO_23': '25%', 'AGE_24_TO_28': '39%', 'AGE_29_TO_33': '19%', 'AGE_34_TO_39': '6%', 'AGE_OVER_40': '9%'}, 'male_percentage': '0%', 'female_percentage': '100%', 'rank_score': -30.990000000000002}\n",
      "{'goodsNo': 3225782, 'brand': 'amesworldwide', 'styleNo': 'AM2DMFK602ABK', 'favorites': 14291, 'originPrice': 49000, 'memberPrice': 36025, 'categoryDepth1Title': '상의', 'categoryDepth2Title': '니트/스웨터', 'goodsImages': ['/images/goods_img/20230411/3225782/3225782_17137522186137_500.jpg', '/images/prd_img/20230411/3225782/detail_3225782_17138332028777_500.png', '/images/prd_img/20230411/3225782/detail_3225782_17138332039654_500.png', '/images/prd_img/20230411/3225782/detail_3225782_17137522422658_500.jpg'], 'cumulative_sales': 2887, 'ages': {'AGE_UNDER_18': '2%', 'AGE_19_TO_23': '21%', 'AGE_24_TO_28': '47%', 'AGE_29_TO_33': '19%', 'AGE_34_TO_39': '5%', 'AGE_OVER_40': '6%'}, 'male_percentage': '0%', 'female_percentage': '100%', 'rank_score': -31.990000000000002}\n",
      "{'goodsNo': 3176118, 'brand': 'frei', 'styleNo': '24SFIKN01', 'favorites': 12602, 'originPrice': 69000, 'memberPrice': 50729, 'categoryDepth1Title': '상의', 'categoryDepth2Title': '니트/스웨터', 'goodsImages': ['/images/goods_img/20230323/3176118/3176118_17073564966165_500.jpg', '/images/prd_img/20230323/3176118/detail_3176118_17073565107206_500.jpg', '/images/prd_img/20230323/3176118/detail_3176118_17073565137156_500.jpg', '/images/prd_img/20230323/3176118/detail_3176118_16795799252689_500.jpg', '/images/prd_img/20230323/3176118/detail_3176118_17109321594023_500.jpg'], 'cumulative_sales': 2262, 'ages': {'AGE_UNDER_18': '3%', 'AGE_19_TO_23': '24%', 'AGE_24_TO_28': '34%', 'AGE_29_TO_33': '22%', 'AGE_34_TO_39': '8%', 'AGE_OVER_40': '9%'}, 'male_percentage': '40%', 'female_percentage': '60%', 'rank_score': -32.99}\n",
      "{'goodsNo': 3980798, 'brand': 'giordano', 'styleNo': '354511', 'favorites': 1714, 'originPrice': 39800, 'memberPrice': 36576, 'categoryDepth1Title': '상의', 'categoryDepth2Title': '니트/스웨터', 'goodsImages': ['/images/goods_img/20240322/3980798/3980798_17113304389538_500.jpg', '/images/prd_img/20240322/3980798/detail_3980798_17113304798115_500.jpg', '/images/prd_img/20240322/3980798/detail_3980798_17113305033353_500.jpg', '/images/prd_img/20240322/3980798/detail_3980798_17113305138632_500.jpg', '/images/prd_img/20240322/3980798/detail_3980798_17113310897123_500.jpg', '/images/prd_img/20240322/3980798/detail_3980798_17113311030911_500.jpg', '/images/prd_img/20240322/3980798/detail_3980798_17113311141295_500.jpg', '/images/prd_img/20240322/3980798/detail_3980798_17113311240747_500.jpg', '/images/prd_img/20240322/3980798/detail_3980798_17113311836538_500.jpg', '/images/prd_img/20240322/3980798/detail_3980798_17113312011350_500.jpg', '/images/prd_img/20240322/3980798/detail_3980798_17113312640571_500.jpg'], 'cumulative_sales': 291, 'ages': {'AGE_UNDER_18': '2%', 'AGE_19_TO_23': '14%', 'AGE_24_TO_28': '33%', 'AGE_29_TO_33': '22%', 'AGE_34_TO_39': '12%', 'AGE_OVER_40': '17%'}, 'male_percentage': '10%', 'female_percentage': '90%', 'rank_score': -33.99}\n",
      "{'goodsNo': 3931272, 'brand': 'theknitcompany', 'styleNo': 'TMKT562420NY', 'favorites': 491, 'originPrice': 67000, 'memberPrice': 40868, 'categoryDepth1Title': '상의', 'categoryDepth2Title': '니트/스웨터', 'goodsImages': ['/images/goods_img/20240307/3931272/3931272_17097924044549_500.jpg'], 'cumulative_sales': 364, 'ages': {'AGE_UNDER_18': '1%', 'AGE_19_TO_23': '8%', 'AGE_24_TO_28': '29%', 'AGE_29_TO_33': '28%', 'AGE_34_TO_39': '15%', 'AGE_OVER_40': '19%'}, 'male_percentage': '90%', 'female_percentage': '10%', 'rank_score': -34.99}\n",
      "{'goodsNo': 3225784, 'brand': 'amesworldwide', 'styleNo': 'AM2DMFK602AIV', 'favorites': 11367, 'originPrice': 49000, 'memberPrice': 36025, 'categoryDepth1Title': '상의', 'categoryDepth2Title': '니트/스웨터', 'goodsImages': ['/images/goods_img/20230411/3225784/3225784_16820533879227_500.jpg', '/images/prd_img/20230411/3225784/detail_3225784_16823191109747_500.jpg'], 'cumulative_sales': 1592, 'ages': {'AGE_UNDER_18': '2%', 'AGE_19_TO_23': '30%', 'AGE_24_TO_28': '43%', 'AGE_29_TO_33': '16%', 'AGE_34_TO_39': '4%', 'AGE_OVER_40': '5%'}, 'male_percentage': '0%', 'female_percentage': '100%', 'rank_score': -35.99}\n",
      "{'goodsNo': 1942699, 'brand': 'xtonz', 'styleNo': 'xtk016bi', 'favorites': 4337, 'originPrice': 49000, 'memberPrice': 42292, 'categoryDepth1Title': '상의', 'categoryDepth2Title': '니트/스웨터', 'goodsImages': ['/images/goods_img/20210510/1942699/1942699_1_500.jpg', '/images/prd_img/20210510/1942699/detail_1942699_1_500.jpg', '/images/prd_img/20210510/1942699/detail_1942699_2_500.jpg', '/images/prd_img/20210510/1942699/detail_1942699_3_500.jpg'], 'cumulative_sales': 1390, 'ages': {'AGE_UNDER_18': '2%', 'AGE_19_TO_23': '21%', 'AGE_24_TO_28': '34%', 'AGE_29_TO_33': '28%', 'AGE_34_TO_39': '9%', 'AGE_OVER_40': '6%'}, 'male_percentage': '90%', 'female_percentage': '10%', 'rank_score': -36.99}\n",
      "{'goodsNo': 3254011, 'brand': 'costumeoclock', 'styleNo': 'COOSKT009KT010', 'favorites': 2537, 'originPrice': 118000, 'memberPrice': 48321, 'categoryDepth1Title': '상의', 'categoryDepth2Title': '니트/스웨터', 'goodsImages': ['/images/goods_img/20230422/3254011/3254011_17121424237673_500.jpg', '/images/prd_img/20230422/3254011/detail_3254011_17121424377286_500.jpg', '/images/prd_img/20230422/3254011/detail_3254011_17121424854890_500.jpg', '/images/prd_img/20230422/3254011/detail_3254011_17121424886505_500.jpg', '/images/prd_img/20230422/3254011/detail_3254011_17121424926891_500.jpg', '/images/prd_img/20230422/3254011/detail_3254011_17121424960007_500.jpg', '/images/prd_img/20230422/3254011/detail_3254011_17121425015434_500.jpg', '/images/prd_img/20230422/3254011/detail_3254011_17121425045118_500.jpg', '/images/prd_img/20230422/3254011/detail_3254011_17121425074688_500.jpg', '/images/prd_img/20230422/3254011/detail_3254011_17121425120319_500.jpg', '/images/prd_img/20230422/3254011/detail_3254011_17121425169694_500.jpg', '/images/prd_img/20230422/3254011/detail_3254011_17121425212540_500.jpg', '/images/prd_img/20230422/3254011/detail_3254011_17121425249502_500.jpg', '/images/prd_img/20230422/3254011/detail_3254011_17121425292039_500.jpg', '/images/prd_img/20230422/3254011/detail_3254011_17121425336025_500.jpg', '/images/prd_img/20230422/3254011/detail_3254011_17121425369457_500.jpg', '/images/prd_img/20230422/3254011/detail_3254011_17121425403447_500.jpg', '/images/prd_img/20230422/3254011/detail_3254011_17121425444231_500.jpg', '/images/prd_img/20230422/3254011/detail_3254011_17121425476862_500.jpg', '/images/prd_img/20230422/3254011/detail_3254011_17121425511876_500.jpg', '/images/prd_img/20230422/3254011/detail_3254011_17121425547841_500.jpg'], 'cumulative_sales': 2498, 'ages': {'AGE_UNDER_18': '1%', 'AGE_19_TO_23': '10%', 'AGE_24_TO_28': '24%', 'AGE_29_TO_33': '31%', 'AGE_34_TO_39': '18%', 'AGE_OVER_40': '16%'}, 'male_percentage': '90%', 'female_percentage': '10%', 'rank_score': -37.99}\n",
      "{'goodsNo': 4060516, 'brand': 'trillion', 'styleNo': 'TRSKN28BK', 'favorites': 173, 'originPrice': 49800, 'memberPrice': 24860, 'categoryDepth1Title': '상의', 'categoryDepth2Title': '니트/스웨터', 'goodsImages': ['/images/goods_img/20240416/4060516/4060516_17134364981985_500.jpg', '/images/prd_img/20240416/4060516/detail_4060516_17134365090820_500.jpg', '/images/prd_img/20240416/4060516/detail_4060516_17134365098934_500.jpg', '/images/prd_img/20240416/4060516/detail_4060516_17134365107400_500.jpg', '/images/prd_img/20240416/4060516/detail_4060516_17134365114234_500.jpg', '/images/prd_img/20240416/4060516/detail_4060516_17134365123186_500.jpg', '/images/prd_img/20240416/4060516/detail_4060516_17134365132404_500.jpg', '/images/prd_img/20240416/4060516/detail_4060516_17134365143549_500.jpg', '/images/prd_img/20240416/4060516/detail_4060516_17134365153761_500.jpg', '/images/prd_img/20240416/4060516/detail_4060516_17134365164756_500.jpg'], 'cumulative_sales': 42, 'ages': {'AGE_UNDER_18': '2%', 'AGE_19_TO_23': '29%', 'AGE_24_TO_28': '31%', 'AGE_29_TO_33': '14%', 'AGE_34_TO_39': '12%', 'AGE_OVER_40': '12%'}, 'male_percentage': '80%', 'female_percentage': '20%', 'rank_score': -38.99}\n",
      "{'goodsNo': 3971745, 'brand': 'toffee', 'styleNo': 'T4S-CCRNHKN312', 'favorites': 524, 'originPrice': 118000, 'memberPrice': 54221, 'categoryDepth1Title': '상의', 'categoryDepth2Title': '니트/스웨터', 'goodsImages': ['/images/goods_img/20240320/3971745/3971745_17110061983253_500.jpg', '/images/prd_img/20240320/3971745/detail_3971745_17110062211254_500.jpg', '/images/prd_img/20240320/3971745/detail_3971745_17110062220802_500.jpg', '/images/prd_img/20240320/3971745/detail_3971745_17110062197138_500.jpg', '/images/prd_img/20240320/3971745/detail_3971745_17110062204411_500.jpg', '/images/prd_img/20240320/3971745/detail_3971745_17110062188849_500.jpg', '/images/prd_img/20240320/3971745/detail_3971745_17110062366917_500.jpg', '/images/prd_img/20240320/3971745/detail_3971745_17110062375236_500.jpg', '/images/prd_img/20240320/3971745/detail_3971745_17110062385560_500.jpg'], 'cumulative_sales': 132, 'ages': {'AGE_UNDER_18': '10%', 'AGE_19_TO_23': '20%', 'AGE_24_TO_28': '27%', 'AGE_29_TO_33': '24%', 'AGE_34_TO_39': '8%', 'AGE_OVER_40': '11%'}, 'male_percentage': '90%', 'female_percentage': '10%', 'rank_score': -39.99}\n",
      "{'goodsNo': 3963300, 'brand': 'intempomood', 'styleNo': '5007166887', 'favorites': 785, 'originPrice': 70000, 'memberPrice': 43064, 'categoryDepth1Title': '상의', 'categoryDepth2Title': '니트/스웨터', 'goodsImages': ['/images/goods_img/20240318/3963300/3963300_17107516223965_500.jpg', '/images/prd_img/20240318/3963300/detail_3963300_17109094255941_500.jpg', '/images/prd_img/20240318/3963300/detail_3963300_17109094290827_500.jpg', '/images/prd_img/20240318/3963300/detail_3963300_17107516368753_500.jpg', '/images/prd_img/20240318/3963300/detail_3963300_17107516380172_500.jpg', '/images/prd_img/20240318/3963300/detail_3963300_17107516389396_500.jpg', '/images/prd_img/20240318/3963300/detail_3963300_17107516399546_500.jpg', '/images/prd_img/20240318/3963300/detail_3963300_17107516410094_500.jpg', '/images/prd_img/20240318/3963300/detail_3963300_17107516417777_500.jpg', '/images/prd_img/20240318/3963300/detail_3963300_17109094802637_500.jpg', '/images/prd_img/20240318/3963300/detail_3963300_17109094310748_500.jpg'], 'cumulative_sales': 208, 'ages': {'AGE_UNDER_18': '2%', 'AGE_19_TO_23': '34%', 'AGE_24_TO_28': '45%', 'AGE_29_TO_33': '15%', 'AGE_34_TO_39': '2%', 'AGE_OVER_40': '2%'}, 'male_percentage': '100%', 'female_percentage': '0%', 'rank_score': -40.99}\n",
      "{'goodsNo': 3948574, 'brand': 'pandorafit', 'styleNo': 'PF41BSW027', 'favorites': 3271, 'originPrice': 39000, 'memberPrice': 31941, 'categoryDepth1Title': '상의', 'categoryDepth2Title': '니트/스웨터', 'goodsImages': ['/images/goods_img/20240313/3948574/3948574_17103139826497_500.jpg', '/images/prd_img/20240313/3948574/detail_3948574_17103139860144_500.jpg', '/images/prd_img/20240313/3948574/detail_3948574_17103139866606_500.jpg', '/images/prd_img/20240313/3948574/detail_3948574_17103139874104_500.jpg', '/images/prd_img/20240313/3948574/detail_3948574_17103139880413_500.jpg'], 'cumulative_sales': 355, 'ages': {'AGE_UNDER_18': '0%', 'AGE_19_TO_23': '8%', 'AGE_24_TO_28': '28%', 'AGE_29_TO_33': '31%', 'AGE_34_TO_39': '19%', 'AGE_OVER_40': '14%'}, 'male_percentage': '10%', 'female_percentage': '90%', 'rank_score': -41.99}\n",
      "{'goodsNo': 3910630, 'brand': 'toffee', 'styleNo': 'T4S-FHKN310', 'favorites': 284, 'originPrice': 98000, 'memberPrice': 45031, 'categoryDepth1Title': '상의', 'categoryDepth2Title': '니트/스웨터', 'goodsImages': ['/images/goods_img/20240228/3910630/3910630_17097043660721_500.jpg', '/images/prd_img/20240228/3910630/detail_3910630_17097040190203_500.jpg', '/images/prd_img/20240228/3910630/detail_3910630_17097040122421_500.jpg', '/images/prd_img/20240228/3910630/detail_3910630_17097040114108_500.jpg', '/images/prd_img/20240228/3910630/detail_3910630_17097040180599_500.jpg', '/images/prd_img/20240228/3910630/detail_3910630_17097040130205_500.jpg', '/images/prd_img/20240228/3910630/detail_3910630_17097040141151_500.jpg', '/images/prd_img/20240228/3910630/detail_3910630_17097040150297_500.jpg', '/images/prd_img/20240228/3910630/detail_3910630_17097040160557_500.jpg', '/images/prd_img/20240228/3910630/detail_3910630_17097040169463_500.jpg'], 'cumulative_sales': 148, 'ages': {'AGE_UNDER_18': '0%', 'AGE_19_TO_23': '11%', 'AGE_24_TO_28': '38%', 'AGE_29_TO_33': '35%', 'AGE_34_TO_39': '9%', 'AGE_OVER_40': '7%'}, 'male_percentage': '100%', 'female_percentage': '0%', 'rank_score': -42.99}\n",
      "{'goodsNo': 4076669, 'brand': 'lemard', 'styleNo': 'LM24SM050', 'favorites': 73, 'originPrice': 82000, 'memberPrice': 56752, 'categoryDepth1Title': '상의', 'categoryDepth2Title': '니트/스웨터', 'goodsImages': ['/images/goods_img/20240423/4076669/4076669_17138441051595_500.jpg', '/images/prd_img/20240423/4076669/detail_4076669_17138441064202_500.jpg', '/images/prd_img/20240423/4076669/detail_4076669_17138441067956_500.jpg', '/images/prd_img/20240423/4076669/detail_4076669_17138441073804_500.jpg', '/images/prd_img/20240423/4076669/detail_4076669_17138441079553_500.jpg', '/images/prd_img/20240423/4076669/detail_4076669_17138441085202_500.jpg', '/images/prd_img/20240423/4076669/detail_4076669_17138441090041_500.jpg'], 'cumulative_sales': None, 'ages': None, 'male_percentage': None, 'female_percentage': None, 'rank_score': -43.99}\n",
      "{'goodsNo': 4076641, 'brand': 'lemard', 'styleNo': 'LM24SM040', 'favorites': 97, 'originPrice': 48000, 'memberPrice': 33221, 'categoryDepth1Title': '상의', 'categoryDepth2Title': '니트/스웨터', 'goodsImages': ['/images/goods_img/20240423/4076641/4076641_17138438953813_500.jpg', '/images/prd_img/20240423/4076641/detail_4076641_17138438965697_500.jpg', '/images/prd_img/20240423/4076641/detail_4076641_17138438969134_500.jpg', '/images/prd_img/20240423/4076641/detail_4076641_17138438975190_500.jpg', '/images/prd_img/20240423/4076641/detail_4076641_17138438980312_500.jpg', '/images/prd_img/20240423/4076641/detail_4076641_17138438985688_500.jpg'], 'cumulative_sales': None, 'ages': None, 'male_percentage': None, 'female_percentage': None, 'rank_score': -44.99}\n",
      "{'goodsNo': 4076640, 'brand': 'lemard', 'styleNo': 'LM24SM039', 'favorites': 82, 'originPrice': 48000, 'memberPrice': 33221, 'categoryDepth1Title': '상의', 'categoryDepth2Title': '니트/스웨터', 'goodsImages': ['/images/goods_img/20240423/4076640/4076640_17138438907474_500.jpg', '/images/prd_img/20240423/4076640/detail_4076640_17138438919063_500.jpg', '/images/prd_img/20240423/4076640/detail_4076640_17138438922625_500.jpg', '/images/prd_img/20240423/4076640/detail_4076640_17138438928345_500.jpg', '/images/prd_img/20240423/4076640/detail_4076640_17138438933778_500.jpg', '/images/prd_img/20240423/4076640/detail_4076640_17138438939243_500.jpg'], 'cumulative_sales': None, 'ages': None, 'male_percentage': None, 'female_percentage': None, 'rank_score': -45.99}\n",
      "{'goodsNo': 3971294, 'brand': 'toffee', 'styleNo': 'T4S-CCRNHKN312', 'favorites': 338, 'originPrice': 59000, 'memberPrice': 32533, 'categoryDepth1Title': '상의', 'categoryDepth2Title': '니트/스웨터', 'goodsImages': ['/images/goods_img/20240320/3971294/3971294_17109875087649_500.jpg', '/images/prd_img/20240320/3971294/detail_3971294_17109875163391_500.jpg', '/images/prd_img/20240320/3971294/detail_3971294_17109875171850_500.jpg', '/images/prd_img/20240320/3971294/detail_3971294_17109875179713_500.jpg', '/images/prd_img/20240320/3971294/detail_3971294_17109875187803_500.jpg'], 'cumulative_sales': 81, 'ages': {'AGE_UNDER_18': '9%', 'AGE_19_TO_23': '27%', 'AGE_24_TO_28': '28%', 'AGE_29_TO_33': '19%', 'AGE_34_TO_39': '6%', 'AGE_OVER_40': '11%'}, 'male_percentage': '90%', 'female_percentage': '10%', 'rank_score': -46.99}\n",
      "{'goodsNo': 3439096, 'brand': 'excontainer', 'styleNo': 'E3S-RNHK BLACK', 'favorites': 365, 'originPrice': 47000, 'memberPrice': 32441, 'categoryDepth1Title': '상의', 'categoryDepth2Title': '니트/스웨터', 'goodsImages': ['/images/goods_img/20230801/3439096/3439096_16908791189752_500.jpg', '/images/prd_img/20230801/3439096/detail_3439096_17128851454143_500.jpg', '/images/prd_img/20230801/3439096/detail_3439096_17128851464321_500.jpg', '/images/prd_img/20230801/3439096/detail_3439096_17128851473611_500.jpg', '/images/prd_img/20230801/3439096/detail_3439096_17128851483458_500.jpg', '/images/prd_img/20230801/3439096/detail_3439096_17128851494060_500.jpg'], 'cumulative_sales': 328, 'ages': {'AGE_UNDER_18': '1%', 'AGE_19_TO_23': '20%', 'AGE_24_TO_28': '40%', 'AGE_29_TO_33': '29%', 'AGE_34_TO_39': '7%', 'AGE_OVER_40': '3%'}, 'male_percentage': '90%', 'female_percentage': '10%', 'rank_score': -47.99}\n",
      "{'goodsNo': 3253703, 'brand': 'intempomood', 'styleNo': '5004355932', 'favorites': 5563, 'originPrice': 70000, 'memberPrice': 43064, 'categoryDepth1Title': '상의', 'categoryDepth2Title': '니트/스웨터', 'goodsImages': ['/images/goods_img/20230421/3253703/3253703_17115135669611_500.jpg', '/images/prd_img/20230421/3253703/detail_3253703_17115135781078_500.jpg', '/images/prd_img/20230421/3253703/detail_3253703_16830014602530_500.jpg', '/images/prd_img/20230421/3253703/detail_3253703_16830127222657_500.jpg', '/images/prd_img/20230421/3253703/detail_3253703_17115129474179_500.jpg', '/images/prd_img/20230421/3253703/detail_3253703_17115135792028_500.jpg', '/images/prd_img/20230421/3253703/detail_3253703_17115129356635_500.jpg'], 'cumulative_sales': 2089, 'ages': {'AGE_UNDER_18': '1%', 'AGE_19_TO_23': '21%', 'AGE_24_TO_28': '35%', 'AGE_29_TO_33': '22%', 'AGE_34_TO_39': '12%', 'AGE_OVER_40': '9%'}, 'male_percentage': '90%', 'female_percentage': '10%', 'rank_score': -48.99}\n",
      "{'goodsNo': 3202947, 'brand': 'toffee', 'styleNo': 'T3S-CCHCKT34BK', 'favorites': 7274, 'originPrice': 59000, 'memberPrice': 39000, 'categoryDepth1Title': '상의', 'categoryDepth2Title': '니트/스웨터', 'goodsImages': ['/images/goods_img/20230403/3202947/3202947_17113412651066_500.jpg', '/images/prd_img/20230403/3202947/detail_3202947_17113412949361_500.jpg', '/images/prd_img/20230403/3202947/detail_3202947_17113412959563_500.jpg', '/images/prd_img/20230403/3202947/detail_3202947_17113412967161_500.jpg', '/images/prd_img/20230403/3202947/detail_3202947_17113412975340_500.jpg'], 'cumulative_sales': 3837, 'ages': {'AGE_UNDER_18': '11%', 'AGE_19_TO_23': '35%', 'AGE_24_TO_28': '27%', 'AGE_29_TO_33': '14%', 'AGE_34_TO_39': '3%', 'AGE_OVER_40': '10%'}, 'male_percentage': '90%', 'female_percentage': '10%', 'rank_score': -49.99}\n",
      "{'goodsNo': 2381749, 'brand': 'satur', 'styleNo': 'SA22SSMK11CR', 'favorites': 9757, 'originPrice': 129000, 'memberPrice': 82986, 'categoryDepth1Title': '상의', 'categoryDepth2Title': '니트/스웨터', 'goodsImages': ['/images/goods_img/20220223/2381749/2381749_16875016400415_500.jpg'], 'cumulative_sales': 2068, 'ages': {'AGE_UNDER_18': '1%', 'AGE_19_TO_23': '19%', 'AGE_24_TO_28': '32%', 'AGE_29_TO_33': '24%', 'AGE_34_TO_39': '13%', 'AGE_OVER_40': '11%'}, 'male_percentage': '90%', 'female_percentage': '10%', 'rank_score': -50.99}\n",
      "{'goodsNo': 4060525, 'brand': 'trillion', 'styleNo': 'TRSKN24KH', 'favorites': 518, 'originPrice': 52000, 'memberPrice': 24608, 'categoryDepth1Title': '상의', 'categoryDepth2Title': '니트/스웨터', 'goodsImages': ['/images/goods_img/20240416/4060525/4060525_17134313995271_500.jpg', '/images/prd_img/20240416/4060525/detail_4060525_17134308474897_500.jpg', '/images/prd_img/20240416/4060525/detail_4060525_17134308484737_500.jpg', '/images/prd_img/20240416/4060525/detail_4060525_17134308492158_500.jpg', '/images/prd_img/20240416/4060525/detail_4060525_17134308501440_500.jpg', '/images/prd_img/20240416/4060525/detail_4060525_17134308509961_500.jpg', '/images/prd_img/20240416/4060525/detail_4060525_17134308517746_500.jpg', '/images/prd_img/20240416/4060525/detail_4060525_17134308527002_500.jpg', '/images/prd_img/20240416/4060525/detail_4060525_17134308538859_500.jpg', '/images/prd_img/20240416/4060525/detail_4060525_17134308547318_500.jpg', '/images/prd_img/20240416/4060525/detail_4060525_17134308555687_500.jpg'], 'cumulative_sales': 74, 'ages': {'AGE_UNDER_18': '4%', 'AGE_19_TO_23': '23%', 'AGE_24_TO_28': '42%', 'AGE_29_TO_33': '19%', 'AGE_34_TO_39': '11%', 'AGE_OVER_40': '1%'}, 'male_percentage': '100%', 'female_percentage': '0%', 'rank_score': -51.99}\n",
      "{'goodsNo': 3988975, 'brand': 'satur', 'styleNo': 'SA242UKT22NV', 'favorites': 699, 'originPrice': 129000, 'memberPrice': 123840, 'categoryDepth1Title': '상의', 'categoryDepth2Title': '니트/스웨터', 'goodsImages': ['/images/goods_img/20240325/3988975/3988975_17119559454323_500.jpg', '/images/prd_img/20240325/3988975/detail_3988975_17119559277700_500.jpg', '/images/prd_img/20240325/3988975/detail_3988975_17119559288853_500.jpg', '/images/prd_img/20240325/3988975/detail_3988975_17119559300212_500.jpg', '/images/prd_img/20240325/3988975/detail_3988975_17116293105689_500.jpg', '/images/prd_img/20240325/3988975/detail_3988975_17116293119029_500.jpg', '/images/prd_img/20240325/3988975/detail_3988975_17116293135622_500.jpg', '/images/prd_img/20240325/3988975/detail_3988975_17116293151209_500.jpg', '/images/prd_img/20240325/3988975/detail_3988975_17116293171113_500.jpg', '/images/prd_img/20240325/3988975/detail_3988975_17116293180385_500.jpg', '/images/prd_img/20240325/3988975/detail_3988975_17116293272459_500.jpg', '/images/prd_img/20240325/3988975/detail_3988975_17116293339994_500.jpg', '/images/prd_img/20240325/3988975/detail_3988975_17116293407237_500.jpg'], 'cumulative_sales': 110, 'ages': {'AGE_UNDER_18': '1%', 'AGE_19_TO_23': '12%', 'AGE_24_TO_28': '38%', 'AGE_29_TO_33': '31%', 'AGE_34_TO_39': '12%', 'AGE_OVER_40': '6%'}, 'male_percentage': '70%', 'female_percentage': '30%', 'rank_score': -52.99}\n",
      "{'goodsNo': 3816211, 'brand': 'nomanual', 'styleNo': 'NM52KT01M1BK', 'favorites': 671, 'originPrice': 43000, 'memberPrice': 35565, 'categoryDepth1Title': '상의', 'categoryDepth2Title': '니트/스웨터', 'goodsImages': ['/images/goods_img/20240123/3816211/3816211_17079072039552_500.jpg', '/images/prd_img/20240123/3816211/detail_3816211_17079072070644_500.jpg', '/images/prd_img/20240123/3816211/detail_3816211_17079072084250_500.jpg', '/images/prd_img/20240123/3816211/detail_3816211_17079072100077_500.jpg', '/images/prd_img/20240123/3816211/detail_3816211_17079072117984_500.jpg', '/images/prd_img/20240123/3816211/detail_3816211_17079072136685_500.jpg'], 'cumulative_sales': 236, 'ages': {'AGE_UNDER_18': '3%', 'AGE_19_TO_23': '31%', 'AGE_24_TO_28': '39%', 'AGE_29_TO_33': '14%', 'AGE_34_TO_39': '8%', 'AGE_OVER_40': '5%'}, 'male_percentage': '70%', 'female_percentage': '30%', 'rank_score': -53.99}\n",
      "{'goodsNo': 3338978, 'brand': 'hardcorehappiness', 'styleNo': '23SS2_03', 'favorites': 4086, 'originPrice': 55000, 'memberPrice': 19250, 'categoryDepth1Title': '상의', 'categoryDepth2Title': '니트/스웨터', 'goodsImages': ['/images/goods_img/20230601/3338978/3338978_16855982465638_500.jpg', '/images/prd_img/20230601/3338978/detail_3338978_16855982517133_500.jpg', '/images/prd_img/20230601/3338978/detail_3338978_16855982665018_500.jpg', '/images/prd_img/20230601/3338978/detail_3338978_16855982751172_500.jpg', '/images/prd_img/20230601/3338978/detail_3338978_16855982760750_500.jpg', '/images/prd_img/20230601/3338978/detail_3338978_16855982771924_500.jpg', '/images/prd_img/20230601/3338978/detail_3338978_16855982785489_500.jpg'], 'cumulative_sales': 1137, 'ages': {'AGE_UNDER_18': '1%', 'AGE_19_TO_23': '11%', 'AGE_24_TO_28': '38%', 'AGE_29_TO_33': '26%', 'AGE_34_TO_39': '8%', 'AGE_OVER_40': '16%'}, 'male_percentage': '0%', 'female_percentage': '100%', 'rank_score': -54.99}\n",
      "{'goodsNo': 2459209, 'brand': 'suare', 'styleNo': 'SBBSHLKN301', 'favorites': 8951, 'originPrice': 49000, 'memberPrice': 24500, 'categoryDepth1Title': '상의', 'categoryDepth2Title': '니트/스웨터', 'goodsImages': ['/images/goods_img/20220331/2459209/2459209_2_500.jpg', '/images/prd_img/20220331/2459209/detail_2459209_4_500.jpg', '/images/prd_img/20220331/2459209/detail_2459209_2_500.jpg', '/images/prd_img/20220331/2459209/detail_2459209_6_500.jpg', '/images/prd_img/20220331/2459209/detail_2459209_5_500.jpg', '/images/prd_img/20220331/2459209/detail_2459209_3_500.jpg'], 'cumulative_sales': 2396, 'ages': {'AGE_UNDER_18': '3%', 'AGE_19_TO_23': '16%', 'AGE_24_TO_28': '32%', 'AGE_29_TO_33': '27%', 'AGE_34_TO_39': '13%', 'AGE_OVER_40': '9%'}, 'male_percentage': '90%', 'female_percentage': '10%', 'rank_score': -55.99}\n",
      "{'goodsNo': 2448873, 'brand': 'musinsastandard', 'styleNo': 'MWBWV301-WH', 'favorites': 1881, 'originPrice': 25900, 'memberPrice': 17366, 'categoryDepth1Title': '상의', 'categoryDepth2Title': '니트/스웨터', 'goodsImages': ['/images/goods_img/20220328/2448873/2448873_2_500.jpg', '/images/prd_img/20220328/2448873/detail_2448873_17_500.jpg', '/images/prd_img/20220328/2448873/detail_2448873_1_500.jpg', '/images/prd_img/20220328/2448873/detail_2448873_2_500.jpg', '/images/prd_img/20220328/2448873/detail_2448873_4_500.jpg', '/images/prd_img/20220328/2448873/detail_2448873_7_500.jpg', '/images/prd_img/20220328/2448873/detail_2448873_11_500.jpg', '/images/prd_img/20220328/2448873/detail_2448873_16_500.jpg'], 'cumulative_sales': 583, 'ages': {'AGE_UNDER_18': '1%', 'AGE_19_TO_23': '5%', 'AGE_24_TO_28': '17%', 'AGE_29_TO_33': '27%', 'AGE_34_TO_39': '22%', 'AGE_OVER_40': '28%'}, 'male_percentage': '10%', 'female_percentage': '90%', 'rank_score': -56.99}\n",
      "{'goodsNo': 2032985, 'brand': 'satur', 'styleNo': 'SA23SSMK43GN', 'favorites': 11120, 'originPrice': 119000, 'memberPrice': 87489, 'categoryDepth1Title': '상의', 'categoryDepth2Title': '니트/스웨터', 'goodsImages': ['/images/goods_img/20210719/2032985/2032985_17095216278206_500.jpg', '/images/prd_img/20210719/2032985/detail_2032985_17095216378580_500.jpg', '/images/prd_img/20210719/2032985/detail_2032985_17095216388061_500.jpg', '/images/prd_img/20210719/2032985/detail_2032985_17095216397689_500.jpg', '/images/prd_img/20210719/2032985/detail_2032985_17095216407644_500.jpg', '/images/prd_img/20210719/2032985/detail_2032985_17095216418124_500.jpg', '/images/prd_img/20210719/2032985/detail_2032985_17095216428316_500.jpg', '/images/prd_img/20210719/2032985/detail_2032985_17095216438670_500.jpg', '/images/prd_img/20210719/2032985/detail_2032985_17095216447403_500.jpg'], 'cumulative_sales': 825, 'ages': {'AGE_UNDER_18': '1%', 'AGE_19_TO_23': '23%', 'AGE_24_TO_28': '35%', 'AGE_29_TO_33': '25%', 'AGE_34_TO_39': '7%', 'AGE_OVER_40': '9%'}, 'male_percentage': '70%', 'female_percentage': '30%', 'rank_score': -57.99}\n",
      "{'goodsNo': 4044572, 'brand': 'pottery', 'styleNo': 'PCE2MKN401', 'favorites': 167, 'originPrice': 159000, 'memberPrice': 159000, 'categoryDepth1Title': '상의', 'categoryDepth2Title': '니트/스웨터', 'goodsImages': ['/images/goods_img/20240411/4044572/4044572_17134059480388_500.jpg', '/images/prd_img/20240411/4044572/detail_4044572_17128171952263_500.jpg', '/images/prd_img/20240411/4044572/detail_4044572_17128171986406_500.jpg', '/images/prd_img/20240411/4044572/detail_4044572_17128172019025_500.jpg', '/images/prd_img/20240411/4044572/detail_4044572_17128172068099_500.jpg', '/images/prd_img/20240411/4044572/detail_4044572_17128172114882_500.jpg', '/images/prd_img/20240411/4044572/detail_4044572_17128172148166_500.jpg', '/images/prd_img/20240411/4044572/detail_4044572_17128172207629_500.jpg', '/images/prd_img/20240411/4044572/detail_4044572_17128172249875_500.jpg', '/images/prd_img/20240411/4044572/detail_4044572_17128172329744_500.jpg', '/images/prd_img/20240411/4044572/detail_4044572_17128172365563_500.jpg', '/images/prd_img/20240411/4044572/detail_4044572_17128172396360_500.jpg'], 'cumulative_sales': 121, 'ages': {'AGE_UNDER_18': '0%', 'AGE_19_TO_23': '1%', 'AGE_24_TO_28': '25%', 'AGE_29_TO_33': '39%', 'AGE_34_TO_39': '26%', 'AGE_OVER_40': '9%'}, 'male_percentage': '100%', 'female_percentage': '0%', 'rank_score': -58.99}\n",
      "{'goodsNo': 3931258, 'brand': 'theknitcompany', 'styleNo': 'TMKT582420BK', 'favorites': 273, 'originPrice': 67000, 'memberPrice': 40868, 'categoryDepth1Title': '상의', 'categoryDepth2Title': '니트/스웨터', 'goodsImages': ['/images/goods_img/20240307/3931258/3931258_17097923566625_500.jpg'], 'cumulative_sales': 281, 'ages': {'AGE_UNDER_18': '0%', 'AGE_19_TO_23': '8%', 'AGE_24_TO_28': '25%', 'AGE_29_TO_33': '39%', 'AGE_34_TO_39': '19%', 'AGE_OVER_40': '9%'}, 'male_percentage': '100%', 'female_percentage': '0%', 'rank_score': -59.99}\n",
      "{'goodsNo': 3879187, 'brand': 'musinsastandard', 'styleNo': 'MMDWS304-BK', 'favorites': 186, 'originPrice': 49000, 'memberPrice': 42230, 'categoryDepth1Title': '상의', 'categoryDepth2Title': '니트/스웨터', 'goodsImages': ['/images/goods_img/20240219/3879187/3879187_17128788062796_500.jpg', '/images/prd_img/20240219/3879187/detail_3879187_17128788125845_500.jpg', '/images/prd_img/20240219/3879187/detail_3879187_17128788132558_500.jpg', '/images/prd_img/20240219/3879187/detail_3879187_17128788139345_500.jpg', '/images/prd_img/20240219/3879187/detail_3879187_17128788147211_500.jpg', '/images/prd_img/20240219/3879187/detail_3879187_17128788154911_500.jpg'], 'cumulative_sales': 99, 'ages': {'AGE_UNDER_18': '1%', 'AGE_19_TO_23': '15%', 'AGE_24_TO_28': '26%', 'AGE_29_TO_33': '35%', 'AGE_34_TO_39': '13%', 'AGE_OVER_40': '10%'}, 'male_percentage': '90%', 'female_percentage': '10%', 'rank_score': -60.99}\n",
      "{'goodsNo': 3816212, 'brand': 'nomanual', 'styleNo': 'NM52KT01M1OM', 'favorites': 840, 'originPrice': 43000, 'memberPrice': 35565, 'categoryDepth1Title': '상의', 'categoryDepth2Title': '니트/스웨터', 'goodsImages': ['/images/goods_img/20240123/3816212/3816212_17079071895185_500.jpg', '/images/prd_img/20240123/3816212/detail_3816212_17079071933433_500.jpg', '/images/prd_img/20240123/3816212/detail_3816212_17079071951045_500.jpg', '/images/prd_img/20240123/3816212/detail_3816212_17079071963487_500.jpg', '/images/prd_img/20240123/3816212/detail_3816212_17079071981647_500.jpg'], 'cumulative_sales': 330, 'ages': {'AGE_UNDER_18': '3%', 'AGE_19_TO_23': '35%', 'AGE_24_TO_28': '36%', 'AGE_29_TO_33': '16%', 'AGE_34_TO_39': '5%', 'AGE_OVER_40': '5%'}, 'male_percentage': '80%', 'female_percentage': '20%', 'rank_score': -61.99}\n",
      "{'goodsNo': 3277539, 'brand': 'halbkreis', 'styleNo': 'T20015_GR', 'favorites': 816, 'originPrice': 59000, 'memberPrice': 54221, 'categoryDepth1Title': '상의', 'categoryDepth2Title': '니트/스웨터', 'goodsImages': ['/images/goods_img/20230504/3277539/3277539_16843773671890_500.jpg', '/images/prd_img/20230504/3277539/detail_3277539_16843773749968_500.jpg'], 'cumulative_sales': 201, 'ages': {'AGE_UNDER_18': '3%', 'AGE_19_TO_23': '11%', 'AGE_24_TO_28': '35%', 'AGE_29_TO_33': '33%', 'AGE_34_TO_39': '14%', 'AGE_OVER_40': '4%'}, 'male_percentage': '100%', 'female_percentage': '0%', 'rank_score': -62.989999999999995}\n"
     ]
    },
    {
     "ename": "KeyboardInterrupt",
     "evalue": "",
     "output_type": "error",
     "traceback": [
      "\u001b[1;31m---------------------------------------------------------------------------\u001b[0m",
      "\u001b[1;31mKeyboardInterrupt\u001b[0m                         Traceback (most recent call last)",
      "Cell \u001b[1;32mIn[26], line 2\u001b[0m\n\u001b[0;32m      1\u001b[0m \u001b[38;5;28;01mif\u001b[39;00m \u001b[38;5;18m__name__\u001b[39m \u001b[38;5;241m==\u001b[39m \u001b[38;5;124m\"\u001b[39m\u001b[38;5;124m__main__\u001b[39m\u001b[38;5;124m\"\u001b[39m:\n\u001b[1;32m----> 2\u001b[0m     main()\n",
      "Cell \u001b[1;32mIn[25], line 17\u001b[0m, in \u001b[0;36mmain\u001b[1;34m()\u001b[0m\n\u001b[0;32m     14\u001b[0m \u001b[38;5;28;01mif\u001b[39;00m item_info \u001b[38;5;129;01mis\u001b[39;00m \u001b[38;5;28;01mNone\u001b[39;00m: \u001b[38;5;66;03m# get_item_info로 해당 상품 정보 못 가져왔을 때. \u001b[39;00m\n\u001b[0;32m     15\u001b[0m     \u001b[38;5;28;01mcontinue\u001b[39;00m          \u001b[38;5;66;03m# 필요에 맞게 수정 필요.\u001b[39;00m\n\u001b[1;32m---> 17\u001b[0m needs_info \u001b[38;5;241m=\u001b[39m extract_needs_info(item_info)\n\u001b[0;32m     18\u001b[0m needs_info[\u001b[38;5;124m'\u001b[39m\u001b[38;5;124mrank_score\u001b[39m\u001b[38;5;124m'\u001b[39m] \u001b[38;5;241m=\u001b[39m get_rank_score(item_url[\u001b[38;5;241m1\u001b[39m] , item_url[\u001b[38;5;241m2\u001b[39m])\n\u001b[0;32m     19\u001b[0m items_list\u001b[38;5;241m.\u001b[39mappend(needs_info)\n",
      "Cell \u001b[1;32mIn[10], line 12\u001b[0m, in \u001b[0;36mextract_needs_info\u001b[1;34m(item_info)\u001b[0m\n\u001b[0;32m      9\u001b[0m styleNo \u001b[38;5;241m=\u001b[39m item_info[\u001b[38;5;124m'\u001b[39m\u001b[38;5;124mstyleNo\u001b[39m\u001b[38;5;124m'\u001b[39m]\n\u001b[0;32m     11\u001b[0m \u001b[38;5;66;03m# 좋아요 수\u001b[39;00m\n\u001b[1;32m---> 12\u001b[0m favorites \u001b[38;5;241m=\u001b[39m extract_favorite_num(goodsNo)\n\u001b[0;32m     14\u001b[0m \u001b[38;5;66;03m# 무신사 판매가\u001b[39;00m\n\u001b[0;32m     15\u001b[0m originPrice \u001b[38;5;241m=\u001b[39m item_info[\u001b[38;5;124m'\u001b[39m\u001b[38;5;124mgoodsPrice\u001b[39m\u001b[38;5;124m'\u001b[39m][\u001b[38;5;124m'\u001b[39m\u001b[38;5;124moriginPrice\u001b[39m\u001b[38;5;124m'\u001b[39m]\n",
      "Cell \u001b[1;32mIn[9], line 4\u001b[0m, in \u001b[0;36mextract_favorite_num\u001b[1;34m(goodsNo)\u001b[0m\n\u001b[0;32m      2\u001b[0m url \u001b[38;5;241m=\u001b[39m \u001b[38;5;124m'\u001b[39m\u001b[38;5;124mhttps://like.musinsa.com/like/api/v2/liketypes/goods/counts\u001b[39m\u001b[38;5;124m'\u001b[39m\n\u001b[0;32m      3\u001b[0m data \u001b[38;5;241m=\u001b[39m {\u001b[38;5;124m\"\u001b[39m\u001b[38;5;124mrelationIds\u001b[39m\u001b[38;5;124m\"\u001b[39m:[\u001b[38;5;28mstr\u001b[39m(goodsNo)]}\n\u001b[1;32m----> 4\u001b[0m response \u001b[38;5;241m=\u001b[39m requests\u001b[38;5;241m.\u001b[39mpost(url, json\u001b[38;5;241m=\u001b[39mdata)\n\u001b[0;32m      5\u001b[0m soup \u001b[38;5;241m=\u001b[39m BeautifulSoup(response\u001b[38;5;241m.\u001b[39mtext, \u001b[38;5;124m'\u001b[39m\u001b[38;5;124mlxml\u001b[39m\u001b[38;5;124m'\u001b[39m)\n\u001b[0;32m      6\u001b[0m info \u001b[38;5;241m=\u001b[39m soup\u001b[38;5;241m.\u001b[39mstring\n",
      "File \u001b[1;32mc:\\Users\\songhow53\\anaconda3\\Lib\\site-packages\\requests\\api.py:115\u001b[0m, in \u001b[0;36mpost\u001b[1;34m(url, data, json, **kwargs)\u001b[0m\n\u001b[0;32m    103\u001b[0m \u001b[38;5;28;01mdef\u001b[39;00m \u001b[38;5;21mpost\u001b[39m(url, data\u001b[38;5;241m=\u001b[39m\u001b[38;5;28;01mNone\u001b[39;00m, json\u001b[38;5;241m=\u001b[39m\u001b[38;5;28;01mNone\u001b[39;00m, \u001b[38;5;241m*\u001b[39m\u001b[38;5;241m*\u001b[39mkwargs):\n\u001b[0;32m    104\u001b[0m \u001b[38;5;250m    \u001b[39m\u001b[38;5;124mr\u001b[39m\u001b[38;5;124;03m\"\"\"Sends a POST request.\u001b[39;00m\n\u001b[0;32m    105\u001b[0m \n\u001b[0;32m    106\u001b[0m \u001b[38;5;124;03m    :param url: URL for the new :class:`Request` object.\u001b[39;00m\n\u001b[1;32m   (...)\u001b[0m\n\u001b[0;32m    112\u001b[0m \u001b[38;5;124;03m    :rtype: requests.Response\u001b[39;00m\n\u001b[0;32m    113\u001b[0m \u001b[38;5;124;03m    \"\"\"\u001b[39;00m\n\u001b[1;32m--> 115\u001b[0m     \u001b[38;5;28;01mreturn\u001b[39;00m request(\u001b[38;5;124m\"\u001b[39m\u001b[38;5;124mpost\u001b[39m\u001b[38;5;124m\"\u001b[39m, url, data\u001b[38;5;241m=\u001b[39mdata, json\u001b[38;5;241m=\u001b[39mjson, \u001b[38;5;241m*\u001b[39m\u001b[38;5;241m*\u001b[39mkwargs)\n",
      "File \u001b[1;32mc:\\Users\\songhow53\\anaconda3\\Lib\\site-packages\\requests\\api.py:59\u001b[0m, in \u001b[0;36mrequest\u001b[1;34m(method, url, **kwargs)\u001b[0m\n\u001b[0;32m     55\u001b[0m \u001b[38;5;66;03m# By using the 'with' statement we are sure the session is closed, thus we\u001b[39;00m\n\u001b[0;32m     56\u001b[0m \u001b[38;5;66;03m# avoid leaving sockets open which can trigger a ResourceWarning in some\u001b[39;00m\n\u001b[0;32m     57\u001b[0m \u001b[38;5;66;03m# cases, and look like a memory leak in others.\u001b[39;00m\n\u001b[0;32m     58\u001b[0m \u001b[38;5;28;01mwith\u001b[39;00m sessions\u001b[38;5;241m.\u001b[39mSession() \u001b[38;5;28;01mas\u001b[39;00m session:\n\u001b[1;32m---> 59\u001b[0m     \u001b[38;5;28;01mreturn\u001b[39;00m session\u001b[38;5;241m.\u001b[39mrequest(method\u001b[38;5;241m=\u001b[39mmethod, url\u001b[38;5;241m=\u001b[39murl, \u001b[38;5;241m*\u001b[39m\u001b[38;5;241m*\u001b[39mkwargs)\n",
      "File \u001b[1;32mc:\\Users\\songhow53\\anaconda3\\Lib\\site-packages\\requests\\sessions.py:587\u001b[0m, in \u001b[0;36mSession.request\u001b[1;34m(self, method, url, params, data, headers, cookies, files, auth, timeout, allow_redirects, proxies, hooks, stream, verify, cert, json)\u001b[0m\n\u001b[0;32m    582\u001b[0m send_kwargs \u001b[38;5;241m=\u001b[39m {\n\u001b[0;32m    583\u001b[0m     \u001b[38;5;124m\"\u001b[39m\u001b[38;5;124mtimeout\u001b[39m\u001b[38;5;124m\"\u001b[39m: timeout,\n\u001b[0;32m    584\u001b[0m     \u001b[38;5;124m\"\u001b[39m\u001b[38;5;124mallow_redirects\u001b[39m\u001b[38;5;124m\"\u001b[39m: allow_redirects,\n\u001b[0;32m    585\u001b[0m }\n\u001b[0;32m    586\u001b[0m send_kwargs\u001b[38;5;241m.\u001b[39mupdate(settings)\n\u001b[1;32m--> 587\u001b[0m resp \u001b[38;5;241m=\u001b[39m \u001b[38;5;28mself\u001b[39m\u001b[38;5;241m.\u001b[39msend(prep, \u001b[38;5;241m*\u001b[39m\u001b[38;5;241m*\u001b[39msend_kwargs)\n\u001b[0;32m    589\u001b[0m \u001b[38;5;28;01mreturn\u001b[39;00m resp\n",
      "File \u001b[1;32mc:\\Users\\songhow53\\anaconda3\\Lib\\site-packages\\requests\\sessions.py:701\u001b[0m, in \u001b[0;36mSession.send\u001b[1;34m(self, request, **kwargs)\u001b[0m\n\u001b[0;32m    698\u001b[0m start \u001b[38;5;241m=\u001b[39m preferred_clock()\n\u001b[0;32m    700\u001b[0m \u001b[38;5;66;03m# Send the request\u001b[39;00m\n\u001b[1;32m--> 701\u001b[0m r \u001b[38;5;241m=\u001b[39m adapter\u001b[38;5;241m.\u001b[39msend(request, \u001b[38;5;241m*\u001b[39m\u001b[38;5;241m*\u001b[39mkwargs)\n\u001b[0;32m    703\u001b[0m \u001b[38;5;66;03m# Total elapsed time of the request (approximately)\u001b[39;00m\n\u001b[0;32m    704\u001b[0m elapsed \u001b[38;5;241m=\u001b[39m preferred_clock() \u001b[38;5;241m-\u001b[39m start\n",
      "File \u001b[1;32mc:\\Users\\songhow53\\anaconda3\\Lib\\site-packages\\requests\\adapters.py:487\u001b[0m, in \u001b[0;36mHTTPAdapter.send\u001b[1;34m(self, request, stream, timeout, verify, cert, proxies)\u001b[0m\n\u001b[0;32m    484\u001b[0m     timeout \u001b[38;5;241m=\u001b[39m TimeoutSauce(connect\u001b[38;5;241m=\u001b[39mtimeout, read\u001b[38;5;241m=\u001b[39mtimeout)\n\u001b[0;32m    486\u001b[0m \u001b[38;5;28;01mtry\u001b[39;00m:\n\u001b[1;32m--> 487\u001b[0m     resp \u001b[38;5;241m=\u001b[39m conn\u001b[38;5;241m.\u001b[39murlopen(\n\u001b[0;32m    488\u001b[0m         method\u001b[38;5;241m=\u001b[39mrequest\u001b[38;5;241m.\u001b[39mmethod,\n\u001b[0;32m    489\u001b[0m         url\u001b[38;5;241m=\u001b[39murl,\n\u001b[0;32m    490\u001b[0m         body\u001b[38;5;241m=\u001b[39mrequest\u001b[38;5;241m.\u001b[39mbody,\n\u001b[0;32m    491\u001b[0m         headers\u001b[38;5;241m=\u001b[39mrequest\u001b[38;5;241m.\u001b[39mheaders,\n\u001b[0;32m    492\u001b[0m         redirect\u001b[38;5;241m=\u001b[39m\u001b[38;5;28;01mFalse\u001b[39;00m,\n\u001b[0;32m    493\u001b[0m         assert_same_host\u001b[38;5;241m=\u001b[39m\u001b[38;5;28;01mFalse\u001b[39;00m,\n\u001b[0;32m    494\u001b[0m         preload_content\u001b[38;5;241m=\u001b[39m\u001b[38;5;28;01mFalse\u001b[39;00m,\n\u001b[0;32m    495\u001b[0m         decode_content\u001b[38;5;241m=\u001b[39m\u001b[38;5;28;01mFalse\u001b[39;00m,\n\u001b[0;32m    496\u001b[0m         retries\u001b[38;5;241m=\u001b[39m\u001b[38;5;28mself\u001b[39m\u001b[38;5;241m.\u001b[39mmax_retries,\n\u001b[0;32m    497\u001b[0m         timeout\u001b[38;5;241m=\u001b[39mtimeout,\n\u001b[0;32m    498\u001b[0m         chunked\u001b[38;5;241m=\u001b[39mchunked,\n\u001b[0;32m    499\u001b[0m     )\n\u001b[0;32m    501\u001b[0m \u001b[38;5;28;01mexcept\u001b[39;00m (ProtocolError, \u001b[38;5;167;01mOSError\u001b[39;00m) \u001b[38;5;28;01mas\u001b[39;00m err:\n\u001b[0;32m    502\u001b[0m     \u001b[38;5;28;01mraise\u001b[39;00m \u001b[38;5;167;01mConnectionError\u001b[39;00m(err, request\u001b[38;5;241m=\u001b[39mrequest)\n",
      "File \u001b[1;32mc:\\Users\\songhow53\\anaconda3\\Lib\\site-packages\\urllib3\\connectionpool.py:714\u001b[0m, in \u001b[0;36mHTTPConnectionPool.urlopen\u001b[1;34m(self, method, url, body, headers, retries, redirect, assert_same_host, timeout, pool_timeout, release_conn, chunked, body_pos, **response_kw)\u001b[0m\n\u001b[0;32m    711\u001b[0m     \u001b[38;5;28mself\u001b[39m\u001b[38;5;241m.\u001b[39m_prepare_proxy(conn)\n\u001b[0;32m    713\u001b[0m \u001b[38;5;66;03m# Make the request on the httplib connection object.\u001b[39;00m\n\u001b[1;32m--> 714\u001b[0m httplib_response \u001b[38;5;241m=\u001b[39m \u001b[38;5;28mself\u001b[39m\u001b[38;5;241m.\u001b[39m_make_request(\n\u001b[0;32m    715\u001b[0m     conn,\n\u001b[0;32m    716\u001b[0m     method,\n\u001b[0;32m    717\u001b[0m     url,\n\u001b[0;32m    718\u001b[0m     timeout\u001b[38;5;241m=\u001b[39mtimeout_obj,\n\u001b[0;32m    719\u001b[0m     body\u001b[38;5;241m=\u001b[39mbody,\n\u001b[0;32m    720\u001b[0m     headers\u001b[38;5;241m=\u001b[39mheaders,\n\u001b[0;32m    721\u001b[0m     chunked\u001b[38;5;241m=\u001b[39mchunked,\n\u001b[0;32m    722\u001b[0m )\n\u001b[0;32m    724\u001b[0m \u001b[38;5;66;03m# If we're going to release the connection in ``finally:``, then\u001b[39;00m\n\u001b[0;32m    725\u001b[0m \u001b[38;5;66;03m# the response doesn't need to know about the connection. Otherwise\u001b[39;00m\n\u001b[0;32m    726\u001b[0m \u001b[38;5;66;03m# it will also try to release it and we'll have a double-release\u001b[39;00m\n\u001b[0;32m    727\u001b[0m \u001b[38;5;66;03m# mess.\u001b[39;00m\n\u001b[0;32m    728\u001b[0m response_conn \u001b[38;5;241m=\u001b[39m conn \u001b[38;5;28;01mif\u001b[39;00m \u001b[38;5;129;01mnot\u001b[39;00m release_conn \u001b[38;5;28;01melse\u001b[39;00m \u001b[38;5;28;01mNone\u001b[39;00m\n",
      "File \u001b[1;32mc:\\Users\\songhow53\\anaconda3\\Lib\\site-packages\\urllib3\\connectionpool.py:403\u001b[0m, in \u001b[0;36mHTTPConnectionPool._make_request\u001b[1;34m(self, conn, method, url, timeout, chunked, **httplib_request_kw)\u001b[0m\n\u001b[0;32m    401\u001b[0m \u001b[38;5;66;03m# Trigger any extra validation we need to do.\u001b[39;00m\n\u001b[0;32m    402\u001b[0m \u001b[38;5;28;01mtry\u001b[39;00m:\n\u001b[1;32m--> 403\u001b[0m     \u001b[38;5;28mself\u001b[39m\u001b[38;5;241m.\u001b[39m_validate_conn(conn)\n\u001b[0;32m    404\u001b[0m \u001b[38;5;28;01mexcept\u001b[39;00m (SocketTimeout, BaseSSLError) \u001b[38;5;28;01mas\u001b[39;00m e:\n\u001b[0;32m    405\u001b[0m     \u001b[38;5;66;03m# Py2 raises this as a BaseSSLError, Py3 raises it as socket timeout.\u001b[39;00m\n\u001b[0;32m    406\u001b[0m     \u001b[38;5;28mself\u001b[39m\u001b[38;5;241m.\u001b[39m_raise_timeout(err\u001b[38;5;241m=\u001b[39me, url\u001b[38;5;241m=\u001b[39murl, timeout_value\u001b[38;5;241m=\u001b[39mconn\u001b[38;5;241m.\u001b[39mtimeout)\n",
      "File \u001b[1;32mc:\\Users\\songhow53\\anaconda3\\Lib\\site-packages\\urllib3\\connectionpool.py:1053\u001b[0m, in \u001b[0;36mHTTPSConnectionPool._validate_conn\u001b[1;34m(self, conn)\u001b[0m\n\u001b[0;32m   1051\u001b[0m \u001b[38;5;66;03m# Force connect early to allow us to validate the connection.\u001b[39;00m\n\u001b[0;32m   1052\u001b[0m \u001b[38;5;28;01mif\u001b[39;00m \u001b[38;5;129;01mnot\u001b[39;00m \u001b[38;5;28mgetattr\u001b[39m(conn, \u001b[38;5;124m\"\u001b[39m\u001b[38;5;124msock\u001b[39m\u001b[38;5;124m\"\u001b[39m, \u001b[38;5;28;01mNone\u001b[39;00m):  \u001b[38;5;66;03m# AppEngine might not have  `.sock`\u001b[39;00m\n\u001b[1;32m-> 1053\u001b[0m     conn\u001b[38;5;241m.\u001b[39mconnect()\n\u001b[0;32m   1055\u001b[0m \u001b[38;5;28;01mif\u001b[39;00m \u001b[38;5;129;01mnot\u001b[39;00m conn\u001b[38;5;241m.\u001b[39mis_verified:\n\u001b[0;32m   1056\u001b[0m     warnings\u001b[38;5;241m.\u001b[39mwarn(\n\u001b[0;32m   1057\u001b[0m         (\n\u001b[0;32m   1058\u001b[0m             \u001b[38;5;124m\"\u001b[39m\u001b[38;5;124mUnverified HTTPS request is being made to host \u001b[39m\u001b[38;5;124m'\u001b[39m\u001b[38;5;132;01m%s\u001b[39;00m\u001b[38;5;124m'\u001b[39m\u001b[38;5;124m. \u001b[39m\u001b[38;5;124m\"\u001b[39m\n\u001b[1;32m   (...)\u001b[0m\n\u001b[0;32m   1063\u001b[0m         InsecureRequestWarning,\n\u001b[0;32m   1064\u001b[0m     )\n",
      "File \u001b[1;32mc:\\Users\\songhow53\\anaconda3\\Lib\\site-packages\\urllib3\\connection.py:419\u001b[0m, in \u001b[0;36mHTTPSConnection.connect\u001b[1;34m(self)\u001b[0m\n\u001b[0;32m    410\u001b[0m \u001b[38;5;28;01mif\u001b[39;00m (\n\u001b[0;32m    411\u001b[0m     \u001b[38;5;129;01mnot\u001b[39;00m \u001b[38;5;28mself\u001b[39m\u001b[38;5;241m.\u001b[39mca_certs\n\u001b[0;32m    412\u001b[0m     \u001b[38;5;129;01mand\u001b[39;00m \u001b[38;5;129;01mnot\u001b[39;00m \u001b[38;5;28mself\u001b[39m\u001b[38;5;241m.\u001b[39mca_cert_dir\n\u001b[1;32m   (...)\u001b[0m\n\u001b[0;32m    415\u001b[0m     \u001b[38;5;129;01mand\u001b[39;00m \u001b[38;5;28mhasattr\u001b[39m(context, \u001b[38;5;124m\"\u001b[39m\u001b[38;5;124mload_default_certs\u001b[39m\u001b[38;5;124m\"\u001b[39m)\n\u001b[0;32m    416\u001b[0m ):\n\u001b[0;32m    417\u001b[0m     context\u001b[38;5;241m.\u001b[39mload_default_certs()\n\u001b[1;32m--> 419\u001b[0m \u001b[38;5;28mself\u001b[39m\u001b[38;5;241m.\u001b[39msock \u001b[38;5;241m=\u001b[39m ssl_wrap_socket(\n\u001b[0;32m    420\u001b[0m     sock\u001b[38;5;241m=\u001b[39mconn,\n\u001b[0;32m    421\u001b[0m     keyfile\u001b[38;5;241m=\u001b[39m\u001b[38;5;28mself\u001b[39m\u001b[38;5;241m.\u001b[39mkey_file,\n\u001b[0;32m    422\u001b[0m     certfile\u001b[38;5;241m=\u001b[39m\u001b[38;5;28mself\u001b[39m\u001b[38;5;241m.\u001b[39mcert_file,\n\u001b[0;32m    423\u001b[0m     key_password\u001b[38;5;241m=\u001b[39m\u001b[38;5;28mself\u001b[39m\u001b[38;5;241m.\u001b[39mkey_password,\n\u001b[0;32m    424\u001b[0m     ca_certs\u001b[38;5;241m=\u001b[39m\u001b[38;5;28mself\u001b[39m\u001b[38;5;241m.\u001b[39mca_certs,\n\u001b[0;32m    425\u001b[0m     ca_cert_dir\u001b[38;5;241m=\u001b[39m\u001b[38;5;28mself\u001b[39m\u001b[38;5;241m.\u001b[39mca_cert_dir,\n\u001b[0;32m    426\u001b[0m     ca_cert_data\u001b[38;5;241m=\u001b[39m\u001b[38;5;28mself\u001b[39m\u001b[38;5;241m.\u001b[39mca_cert_data,\n\u001b[0;32m    427\u001b[0m     server_hostname\u001b[38;5;241m=\u001b[39mserver_hostname,\n\u001b[0;32m    428\u001b[0m     ssl_context\u001b[38;5;241m=\u001b[39mcontext,\n\u001b[0;32m    429\u001b[0m     tls_in_tls\u001b[38;5;241m=\u001b[39mtls_in_tls,\n\u001b[0;32m    430\u001b[0m )\n\u001b[0;32m    432\u001b[0m \u001b[38;5;66;03m# If we're using all defaults and the connection\u001b[39;00m\n\u001b[0;32m    433\u001b[0m \u001b[38;5;66;03m# is TLSv1 or TLSv1.1 we throw a DeprecationWarning\u001b[39;00m\n\u001b[0;32m    434\u001b[0m \u001b[38;5;66;03m# for the host.\u001b[39;00m\n\u001b[0;32m    435\u001b[0m \u001b[38;5;28;01mif\u001b[39;00m (\n\u001b[0;32m    436\u001b[0m     default_ssl_context\n\u001b[0;32m    437\u001b[0m     \u001b[38;5;129;01mand\u001b[39;00m \u001b[38;5;28mself\u001b[39m\u001b[38;5;241m.\u001b[39mssl_version \u001b[38;5;129;01mis\u001b[39;00m \u001b[38;5;28;01mNone\u001b[39;00m\n\u001b[0;32m    438\u001b[0m     \u001b[38;5;129;01mand\u001b[39;00m \u001b[38;5;28mhasattr\u001b[39m(\u001b[38;5;28mself\u001b[39m\u001b[38;5;241m.\u001b[39msock, \u001b[38;5;124m\"\u001b[39m\u001b[38;5;124mversion\u001b[39m\u001b[38;5;124m\"\u001b[39m)\n\u001b[0;32m    439\u001b[0m     \u001b[38;5;129;01mand\u001b[39;00m \u001b[38;5;28mself\u001b[39m\u001b[38;5;241m.\u001b[39msock\u001b[38;5;241m.\u001b[39mversion() \u001b[38;5;129;01min\u001b[39;00m {\u001b[38;5;124m\"\u001b[39m\u001b[38;5;124mTLSv1\u001b[39m\u001b[38;5;124m\"\u001b[39m, \u001b[38;5;124m\"\u001b[39m\u001b[38;5;124mTLSv1.1\u001b[39m\u001b[38;5;124m\"\u001b[39m}\n\u001b[0;32m    440\u001b[0m ):\n",
      "File \u001b[1;32mc:\\Users\\songhow53\\anaconda3\\Lib\\site-packages\\urllib3\\util\\ssl_.py:449\u001b[0m, in \u001b[0;36mssl_wrap_socket\u001b[1;34m(sock, keyfile, certfile, cert_reqs, ca_certs, server_hostname, ssl_version, ciphers, ssl_context, ca_cert_dir, key_password, ca_cert_data, tls_in_tls)\u001b[0m\n\u001b[0;32m    437\u001b[0m     warnings\u001b[38;5;241m.\u001b[39mwarn(\n\u001b[0;32m    438\u001b[0m         \u001b[38;5;124m\"\u001b[39m\u001b[38;5;124mAn HTTPS request has been made, but the SNI (Server Name \u001b[39m\u001b[38;5;124m\"\u001b[39m\n\u001b[0;32m    439\u001b[0m         \u001b[38;5;124m\"\u001b[39m\u001b[38;5;124mIndication) extension to TLS is not available on this platform. \u001b[39m\u001b[38;5;124m\"\u001b[39m\n\u001b[1;32m   (...)\u001b[0m\n\u001b[0;32m    445\u001b[0m         SNIMissingWarning,\n\u001b[0;32m    446\u001b[0m     )\n\u001b[0;32m    448\u001b[0m \u001b[38;5;28;01mif\u001b[39;00m send_sni:\n\u001b[1;32m--> 449\u001b[0m     ssl_sock \u001b[38;5;241m=\u001b[39m _ssl_wrap_socket_impl(\n\u001b[0;32m    450\u001b[0m         sock, context, tls_in_tls, server_hostname\u001b[38;5;241m=\u001b[39mserver_hostname\n\u001b[0;32m    451\u001b[0m     )\n\u001b[0;32m    452\u001b[0m \u001b[38;5;28;01melse\u001b[39;00m:\n\u001b[0;32m    453\u001b[0m     ssl_sock \u001b[38;5;241m=\u001b[39m _ssl_wrap_socket_impl(sock, context, tls_in_tls)\n",
      "File \u001b[1;32mc:\\Users\\songhow53\\anaconda3\\Lib\\site-packages\\urllib3\\util\\ssl_.py:493\u001b[0m, in \u001b[0;36m_ssl_wrap_socket_impl\u001b[1;34m(sock, ssl_context, tls_in_tls, server_hostname)\u001b[0m\n\u001b[0;32m    490\u001b[0m     \u001b[38;5;28;01mreturn\u001b[39;00m SSLTransport(sock, ssl_context, server_hostname)\n\u001b[0;32m    492\u001b[0m \u001b[38;5;28;01mif\u001b[39;00m server_hostname:\n\u001b[1;32m--> 493\u001b[0m     \u001b[38;5;28;01mreturn\u001b[39;00m ssl_context\u001b[38;5;241m.\u001b[39mwrap_socket(sock, server_hostname\u001b[38;5;241m=\u001b[39mserver_hostname)\n\u001b[0;32m    494\u001b[0m \u001b[38;5;28;01melse\u001b[39;00m:\n\u001b[0;32m    495\u001b[0m     \u001b[38;5;28;01mreturn\u001b[39;00m ssl_context\u001b[38;5;241m.\u001b[39mwrap_socket(sock)\n",
      "File \u001b[1;32mc:\\Users\\songhow53\\anaconda3\\Lib\\ssl.py:517\u001b[0m, in \u001b[0;36mSSLContext.wrap_socket\u001b[1;34m(self, sock, server_side, do_handshake_on_connect, suppress_ragged_eofs, server_hostname, session)\u001b[0m\n\u001b[0;32m    511\u001b[0m \u001b[38;5;28;01mdef\u001b[39;00m \u001b[38;5;21mwrap_socket\u001b[39m(\u001b[38;5;28mself\u001b[39m, sock, server_side\u001b[38;5;241m=\u001b[39m\u001b[38;5;28;01mFalse\u001b[39;00m,\n\u001b[0;32m    512\u001b[0m                 do_handshake_on_connect\u001b[38;5;241m=\u001b[39m\u001b[38;5;28;01mTrue\u001b[39;00m,\n\u001b[0;32m    513\u001b[0m                 suppress_ragged_eofs\u001b[38;5;241m=\u001b[39m\u001b[38;5;28;01mTrue\u001b[39;00m,\n\u001b[0;32m    514\u001b[0m                 server_hostname\u001b[38;5;241m=\u001b[39m\u001b[38;5;28;01mNone\u001b[39;00m, session\u001b[38;5;241m=\u001b[39m\u001b[38;5;28;01mNone\u001b[39;00m):\n\u001b[0;32m    515\u001b[0m     \u001b[38;5;66;03m# SSLSocket class handles server_hostname encoding before it calls\u001b[39;00m\n\u001b[0;32m    516\u001b[0m     \u001b[38;5;66;03m# ctx._wrap_socket()\u001b[39;00m\n\u001b[1;32m--> 517\u001b[0m     \u001b[38;5;28;01mreturn\u001b[39;00m \u001b[38;5;28mself\u001b[39m\u001b[38;5;241m.\u001b[39msslsocket_class\u001b[38;5;241m.\u001b[39m_create(\n\u001b[0;32m    518\u001b[0m         sock\u001b[38;5;241m=\u001b[39msock,\n\u001b[0;32m    519\u001b[0m         server_side\u001b[38;5;241m=\u001b[39mserver_side,\n\u001b[0;32m    520\u001b[0m         do_handshake_on_connect\u001b[38;5;241m=\u001b[39mdo_handshake_on_connect,\n\u001b[0;32m    521\u001b[0m         suppress_ragged_eofs\u001b[38;5;241m=\u001b[39msuppress_ragged_eofs,\n\u001b[0;32m    522\u001b[0m         server_hostname\u001b[38;5;241m=\u001b[39mserver_hostname,\n\u001b[0;32m    523\u001b[0m         context\u001b[38;5;241m=\u001b[39m\u001b[38;5;28mself\u001b[39m,\n\u001b[0;32m    524\u001b[0m         session\u001b[38;5;241m=\u001b[39msession\n\u001b[0;32m    525\u001b[0m     )\n",
      "File \u001b[1;32mc:\\Users\\songhow53\\anaconda3\\Lib\\ssl.py:1075\u001b[0m, in \u001b[0;36mSSLSocket._create\u001b[1;34m(cls, sock, server_side, do_handshake_on_connect, suppress_ragged_eofs, server_hostname, context, session)\u001b[0m\n\u001b[0;32m   1072\u001b[0m         \u001b[38;5;28;01mif\u001b[39;00m timeout \u001b[38;5;241m==\u001b[39m \u001b[38;5;241m0.0\u001b[39m:\n\u001b[0;32m   1073\u001b[0m             \u001b[38;5;66;03m# non-blocking\u001b[39;00m\n\u001b[0;32m   1074\u001b[0m             \u001b[38;5;28;01mraise\u001b[39;00m \u001b[38;5;167;01mValueError\u001b[39;00m(\u001b[38;5;124m\"\u001b[39m\u001b[38;5;124mdo_handshake_on_connect should not be specified for non-blocking sockets\u001b[39m\u001b[38;5;124m\"\u001b[39m)\n\u001b[1;32m-> 1075\u001b[0m         \u001b[38;5;28mself\u001b[39m\u001b[38;5;241m.\u001b[39mdo_handshake()\n\u001b[0;32m   1076\u001b[0m \u001b[38;5;28;01mexcept\u001b[39;00m (\u001b[38;5;167;01mOSError\u001b[39;00m, \u001b[38;5;167;01mValueError\u001b[39;00m):\n\u001b[0;32m   1077\u001b[0m     \u001b[38;5;28mself\u001b[39m\u001b[38;5;241m.\u001b[39mclose()\n",
      "File \u001b[1;32mc:\\Users\\songhow53\\anaconda3\\Lib\\ssl.py:1346\u001b[0m, in \u001b[0;36mSSLSocket.do_handshake\u001b[1;34m(self, block)\u001b[0m\n\u001b[0;32m   1344\u001b[0m     \u001b[38;5;28;01mif\u001b[39;00m timeout \u001b[38;5;241m==\u001b[39m \u001b[38;5;241m0.0\u001b[39m \u001b[38;5;129;01mand\u001b[39;00m block:\n\u001b[0;32m   1345\u001b[0m         \u001b[38;5;28mself\u001b[39m\u001b[38;5;241m.\u001b[39msettimeout(\u001b[38;5;28;01mNone\u001b[39;00m)\n\u001b[1;32m-> 1346\u001b[0m     \u001b[38;5;28mself\u001b[39m\u001b[38;5;241m.\u001b[39m_sslobj\u001b[38;5;241m.\u001b[39mdo_handshake()\n\u001b[0;32m   1347\u001b[0m \u001b[38;5;28;01mfinally\u001b[39;00m:\n\u001b[0;32m   1348\u001b[0m     \u001b[38;5;28mself\u001b[39m\u001b[38;5;241m.\u001b[39msettimeout(timeout)\n",
      "\u001b[1;31mKeyboardInterrupt\u001b[0m: "
     ]
    }
   ],
   "source": [
    "if __name__ == \"__main__\":\n",
    "    main()"
   ]
  },
  {
   "cell_type": "code",
   "execution_count": null,
   "metadata": {},
   "outputs": [],
   "source": []
  }
 ],
 "metadata": {
  "kernelspec": {
   "display_name": "base",
   "language": "python",
   "name": "python3"
  },
  "language_info": {
   "codemirror_mode": {
    "name": "ipython",
    "version": 3
   },
   "file_extension": ".py",
   "mimetype": "text/x-python",
   "name": "python",
   "nbconvert_exporter": "python",
   "pygments_lexer": "ipython3",
   "version": "3.11.3"
  }
 },
 "nbformat": 4,
 "nbformat_minor": 2
}
