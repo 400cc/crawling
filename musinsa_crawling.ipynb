{
 "cells": [
  {
   "cell_type": "code",
   "execution_count": 27,
   "metadata": {},
   "outputs": [],
   "source": [
    "from selenium import webdriver\n",
    "from selenium.webdriver.chrome.service import Service\n",
    "import selenium\n",
    "import time\n",
    "from bs4 import BeautifulSoup\n",
    "import pandas as pd"
   ]
  },
  {
   "cell_type": "code",
   "execution_count": 28,
   "metadata": {},
   "outputs": [],
   "source": [
    "# 현재 작업 디렉터리에 있는 chromedriver 파일을 가리킵니다.\n",
    "s = Service(\"D:\\chromedriver.exe\")\n",
    "\n",
    "driver = webdriver.Chrome(service=s)\n",
    "\n",
    "driver.maximize_window()\n",
    "\n",
    "# 접속하기\n",
    "url = 'https://www.musinsa.com/app/?utm_source=google_shopping&utm_medium=sh&utm_campaign=pmax_ongoing&source=GOSHSAP001&utm_source=google_shopping&utm_medium=sh&utm_campaign=pmax_ongoing&source=GOSHSAP001&gad_source=1&gclid=Cj0KCQjw2uiwBhCXARIsACMvIU1UMS64MMDr5AnHmY9HCoA5rr0_lsqU7qfdTBcMfRIqPs1go8c8IJIaAhmFEALw_wcB'\n",
    "\n",
    "# 지정한 웹 페이지 열기\n",
    "driver.get(url)\n",
    "time.sleep(1)\n",
    "\n",
    "soup = BeautifulSoup(driver.page_source, 'html.parser')\n",
    "time.sleep(1)"
   ]
  },
  {
   "cell_type": "code",
   "execution_count": 29,
   "metadata": {},
   "outputs": [],
   "source": [
    "# 대분류 내 확장버튼 (중분류 보기 위함)\n",
    "expanding_button = driver.find_elements('css selector', 'button.sc-8hpehb-2.jmROMB')[1]\n",
    "expanding_button.click()"
   ]
  },
  {
   "cell_type": "code",
   "execution_count": 32,
   "metadata": {},
   "outputs": [
    {
     "data": {
      "text/plain": [
       "23"
      ]
     },
     "execution_count": 32,
     "metadata": {},
     "output_type": "execute_result"
    }
   ],
   "source": [
    "main_categories = soup.select('div.sc-nw870h-1.knbIYx > section > div > nav > div[role]' )\n",
    "len(main_categories)"
   ]
  },
  {
   "cell_type": "code",
   "execution_count": 33,
   "metadata": {},
   "outputs": [
    {
     "data": {
      "text/plain": [
       "[<a class=\"sc-8hpehb-10 gUJCm\" href=\"https://www.musinsa.com/categories/item/001\">전체<span> (264,045)</span></a>,\n",
       " <a class=\"sc-8hpehb-10 gUJCm\" href=\"https://www.musinsa.com/categories/item/001006\">니트/스웨터<span> (31,903)</span></a>,\n",
       " <a class=\"sc-8hpehb-10 gUJCm\" href=\"https://www.musinsa.com/categories/item/001004\">후드 티셔츠<span> (26,867)</span></a>,\n",
       " <a class=\"sc-8hpehb-10 gUJCm\" href=\"https://www.musinsa.com/categories/item/001005\">맨투맨/스웨트셔츠<span> (39,954)</span></a>,\n",
       " <a class=\"sc-8hpehb-10 gUJCm\" href=\"https://www.musinsa.com/categories/item/001010\">긴소매 티셔츠<span> (24,352)</span></a>,\n",
       " <a class=\"sc-8hpehb-10 gUJCm\" href=\"https://www.musinsa.com/categories/item/001002\">셔츠/블라우스<span> (30,122)</span></a>,\n",
       " <a class=\"sc-8hpehb-10 gUJCm\" href=\"https://www.musinsa.com/categories/item/001003\">피케/카라 티셔츠<span> (12,623)</span></a>,\n",
       " <a class=\"sc-8hpehb-10 gUJCm\" href=\"https://www.musinsa.com/categories/item/001001\">반소매 티셔츠<span> (81,636)</span></a>,\n",
       " <a class=\"sc-8hpehb-10 gUJCm\" href=\"https://www.musinsa.com/categories/item/001011\">민소매 티셔츠<span> (8,175)</span></a>,\n",
       " <a class=\"sc-8hpehb-10 gUJCm\" href=\"https://www.musinsa.com/categories/item/001013\">스포츠 상의<span> (30,734)</span></a>,\n",
       " <a class=\"sc-8hpehb-10 gUJCm\" href=\"https://www.musinsa.com/categories/item/001008\">기타 상의<span> (7,721)</span></a>]"
      ]
     },
     "execution_count": 33,
     "metadata": {},
     "output_type": "execute_result"
    }
   ],
   "source": [
    "# 중분류 링크\n",
    "middle_categories = main_categories[1].select('li > a[href]')\n",
    "middle_categories"
   ]
  },
  {
   "cell_type": "code",
   "execution_count": 34,
   "metadata": {},
   "outputs": [],
   "source": [
    "# 중분류 내 전체랑 기타는 제외\n",
    "middle_categories = middle_categories[1:-1]"
   ]
  },
  {
   "cell_type": "code",
   "execution_count": 35,
   "metadata": {},
   "outputs": [
    {
     "data": {
      "text/plain": [
       "'https://www.musinsa.com/categories/item/001006'"
      ]
     },
     "execution_count": 35,
     "metadata": {},
     "output_type": "execute_result"
    }
   ],
   "source": [
    "middle_categories[0]['href']"
   ]
  },
  {
   "cell_type": "code",
   "execution_count": 36,
   "metadata": {},
   "outputs": [],
   "source": [
    "# 중분류 중 첫번째 카테고리 페이지로 이동\n",
    "driver.get(middle_categories[0]['href'])"
   ]
  },
  {
   "cell_type": "code",
   "execution_count": 123,
   "metadata": {},
   "outputs": [],
   "source": [
    "# 파싱\n",
    "soup = BeautifulSoup(driver.page_source, 'html.parser')"
   ]
  },
  {
   "cell_type": "code",
   "execution_count": 124,
   "metadata": {},
   "outputs": [
    {
     "ename": "NoSuchElementException",
     "evalue": "Message: no such element: Unable to locate element: {\"method\":\"xpath\",\"selector\":\"//*[@id=\"goods_list\"]/div[2]/div[1]/a[7]/span/i\"}\n  (Session info: chrome=123.0.6312.107); For documentation on this error, please visit: https://www.selenium.dev/documentation/webdriver/troubleshooting/errors#no-such-element-exception\nStacktrace:\n\tGetHandleVerifier [0x00007FF7288D7032+63090]\n\t(No symbol) [0x00007FF728842C82]\n\t(No symbol) [0x00007FF7286DEC65]\n\t(No symbol) [0x00007FF72872499D]\n\t(No symbol) [0x00007FF728724ADC]\n\t(No symbol) [0x00007FF728765B37]\n\t(No symbol) [0x00007FF72874701F]\n\t(No symbol) [0x00007FF728763412]\n\t(No symbol) [0x00007FF728746D83]\n\t(No symbol) [0x00007FF7287183A8]\n\t(No symbol) [0x00007FF728719441]\n\tGetHandleVerifier [0x00007FF728CD25AD+4238317]\n\tGetHandleVerifier [0x00007FF728D0F70D+4488525]\n\tGetHandleVerifier [0x00007FF728D079EF+4456495]\n\tGetHandleVerifier [0x00007FF7289B0576+953270]\n\t(No symbol) [0x00007FF72884E54F]\n\t(No symbol) [0x00007FF728849224]\n\t(No symbol) [0x00007FF72884935B]\n\t(No symbol) [0x00007FF728839B94]\n\tBaseThreadInitThunk [0x00007FFB3A26257D+29]\n\tRtlUserThreadStart [0x00007FFB3B32AA48+40]\n",
     "output_type": "error",
     "traceback": [
      "\u001b[1;31m---------------------------------------------------------------------------\u001b[0m",
      "\u001b[1;31mNoSuchElementException\u001b[0m                    Traceback (most recent call last)",
      "Cell \u001b[1;32mIn[124], line 2\u001b[0m\n\u001b[0;32m      1\u001b[0m \u001b[38;5;66;03m# 판매순 토글 클릭\u001b[39;00m\n\u001b[1;32m----> 2\u001b[0m driver\u001b[38;5;241m.\u001b[39mfind_element(\u001b[38;5;124m'\u001b[39m\u001b[38;5;124mxpath\u001b[39m\u001b[38;5;124m'\u001b[39m, \u001b[38;5;124m'\u001b[39m\u001b[38;5;124m//*[@id=\u001b[39m\u001b[38;5;124m\"\u001b[39m\u001b[38;5;124mgoods_list\u001b[39m\u001b[38;5;124m\"\u001b[39m\u001b[38;5;124m]/div[2]/div[1]/a[7]/span/i\u001b[39m\u001b[38;5;124m'\u001b[39m)\u001b[38;5;241m.\u001b[39mclick()\n",
      "File \u001b[1;32mc:\\Users\\songhow53\\anaconda3\\Lib\\site-packages\\selenium\\webdriver\\remote\\webdriver.py:740\u001b[0m, in \u001b[0;36mWebDriver.find_element\u001b[1;34m(self, by, value)\u001b[0m\n\u001b[0;32m    737\u001b[0m     by \u001b[38;5;241m=\u001b[39m By\u001b[38;5;241m.\u001b[39mCSS_SELECTOR\n\u001b[0;32m    738\u001b[0m     value \u001b[38;5;241m=\u001b[39m \u001b[38;5;124mf\u001b[39m\u001b[38;5;124m'\u001b[39m\u001b[38;5;124m[name=\u001b[39m\u001b[38;5;124m\"\u001b[39m\u001b[38;5;132;01m{\u001b[39;00mvalue\u001b[38;5;132;01m}\u001b[39;00m\u001b[38;5;124m\"\u001b[39m\u001b[38;5;124m]\u001b[39m\u001b[38;5;124m'\u001b[39m\n\u001b[1;32m--> 740\u001b[0m \u001b[38;5;28;01mreturn\u001b[39;00m \u001b[38;5;28mself\u001b[39m\u001b[38;5;241m.\u001b[39mexecute(Command\u001b[38;5;241m.\u001b[39mFIND_ELEMENT, {\u001b[38;5;124m\"\u001b[39m\u001b[38;5;124musing\u001b[39m\u001b[38;5;124m\"\u001b[39m: by, \u001b[38;5;124m\"\u001b[39m\u001b[38;5;124mvalue\u001b[39m\u001b[38;5;124m\"\u001b[39m: value})[\u001b[38;5;124m\"\u001b[39m\u001b[38;5;124mvalue\u001b[39m\u001b[38;5;124m\"\u001b[39m]\n",
      "File \u001b[1;32mc:\\Users\\songhow53\\anaconda3\\Lib\\site-packages\\selenium\\webdriver\\remote\\webdriver.py:346\u001b[0m, in \u001b[0;36mWebDriver.execute\u001b[1;34m(self, driver_command, params)\u001b[0m\n\u001b[0;32m    344\u001b[0m response \u001b[38;5;241m=\u001b[39m \u001b[38;5;28mself\u001b[39m\u001b[38;5;241m.\u001b[39mcommand_executor\u001b[38;5;241m.\u001b[39mexecute(driver_command, params)\n\u001b[0;32m    345\u001b[0m \u001b[38;5;28;01mif\u001b[39;00m response:\n\u001b[1;32m--> 346\u001b[0m     \u001b[38;5;28mself\u001b[39m\u001b[38;5;241m.\u001b[39merror_handler\u001b[38;5;241m.\u001b[39mcheck_response(response)\n\u001b[0;32m    347\u001b[0m     response[\u001b[38;5;124m\"\u001b[39m\u001b[38;5;124mvalue\u001b[39m\u001b[38;5;124m\"\u001b[39m] \u001b[38;5;241m=\u001b[39m \u001b[38;5;28mself\u001b[39m\u001b[38;5;241m.\u001b[39m_unwrap_value(response\u001b[38;5;241m.\u001b[39mget(\u001b[38;5;124m\"\u001b[39m\u001b[38;5;124mvalue\u001b[39m\u001b[38;5;124m\"\u001b[39m, \u001b[38;5;28;01mNone\u001b[39;00m))\n\u001b[0;32m    348\u001b[0m     \u001b[38;5;28;01mreturn\u001b[39;00m response\n",
      "File \u001b[1;32mc:\\Users\\songhow53\\anaconda3\\Lib\\site-packages\\selenium\\webdriver\\remote\\errorhandler.py:245\u001b[0m, in \u001b[0;36mErrorHandler.check_response\u001b[1;34m(self, response)\u001b[0m\n\u001b[0;32m    243\u001b[0m         alert_text \u001b[38;5;241m=\u001b[39m value[\u001b[38;5;124m\"\u001b[39m\u001b[38;5;124malert\u001b[39m\u001b[38;5;124m\"\u001b[39m]\u001b[38;5;241m.\u001b[39mget(\u001b[38;5;124m\"\u001b[39m\u001b[38;5;124mtext\u001b[39m\u001b[38;5;124m\"\u001b[39m)\n\u001b[0;32m    244\u001b[0m     \u001b[38;5;28;01mraise\u001b[39;00m exception_class(message, screen, stacktrace, alert_text)  \u001b[38;5;66;03m# type: ignore[call-arg]  # mypy is not smart enough here\u001b[39;00m\n\u001b[1;32m--> 245\u001b[0m \u001b[38;5;28;01mraise\u001b[39;00m exception_class(message, screen, stacktrace)\n",
      "\u001b[1;31mNoSuchElementException\u001b[0m: Message: no such element: Unable to locate element: {\"method\":\"xpath\",\"selector\":\"//*[@id=\"goods_list\"]/div[2]/div[1]/a[7]/span/i\"}\n  (Session info: chrome=123.0.6312.107); For documentation on this error, please visit: https://www.selenium.dev/documentation/webdriver/troubleshooting/errors#no-such-element-exception\nStacktrace:\n\tGetHandleVerifier [0x00007FF7288D7032+63090]\n\t(No symbol) [0x00007FF728842C82]\n\t(No symbol) [0x00007FF7286DEC65]\n\t(No symbol) [0x00007FF72872499D]\n\t(No symbol) [0x00007FF728724ADC]\n\t(No symbol) [0x00007FF728765B37]\n\t(No symbol) [0x00007FF72874701F]\n\t(No symbol) [0x00007FF728763412]\n\t(No symbol) [0x00007FF728746D83]\n\t(No symbol) [0x00007FF7287183A8]\n\t(No symbol) [0x00007FF728719441]\n\tGetHandleVerifier [0x00007FF728CD25AD+4238317]\n\tGetHandleVerifier [0x00007FF728D0F70D+4488525]\n\tGetHandleVerifier [0x00007FF728D079EF+4456495]\n\tGetHandleVerifier [0x00007FF7289B0576+953270]\n\t(No symbol) [0x00007FF72884E54F]\n\t(No symbol) [0x00007FF728849224]\n\t(No symbol) [0x00007FF72884935B]\n\t(No symbol) [0x00007FF728839B94]\n\tBaseThreadInitThunk [0x00007FFB3A26257D+29]\n\tRtlUserThreadStart [0x00007FFB3B32AA48+40]\n"
     ]
    }
   ],
   "source": [
    "# 판매순 토글 클릭\n",
    "driver.find_element('xpath', '//*[@id=\"goods_list\"]/div[2]/div[1]/a[7]/span/i').click()"
   ]
  },
  {
   "cell_type": "code",
   "execution_count": null,
   "metadata": {},
   "outputs": [],
   "source": [
    "# 1일로 설정\n",
    "driver.find_element('xpath', '//*[@id=\"layerSorting_sale\"]/div/label[1]').click()"
   ]
  },
  {
   "cell_type": "code",
   "execution_count": null,
   "metadata": {},
   "outputs": [],
   "source": [
    "# 아이템 개수. 상수화\n",
    "items_count = 100"
   ]
  },
  {
   "cell_type": "code",
   "execution_count": 145,
   "metadata": {},
   "outputs": [],
   "source": [
    "# 파싱\n",
    "soup = BeautifulSoup(driver.page_source, 'html.parser')"
   ]
  },
  {
   "cell_type": "code",
   "execution_count": 43,
   "metadata": {},
   "outputs": [
    {
     "data": {
      "text/plain": [
       "90"
      ]
     },
     "execution_count": 43,
     "metadata": {},
     "output_type": "execute_result"
    }
   ],
   "source": [
    "# 한 페이지에 존재하는 상품들 링크 정보 수집. 한 페이지 당 90개 존재.\n",
    "# 100개 수집하려면 다음페이지로도 가야함\n",
    "product_links = soup.select('div.list-box.box > ul > li.li_box > div.li_inner > div.article_info > p.list_info > a[href]')\n",
    "len(product_links)"
   ]
  },
  {
   "cell_type": "code",
   "execution_count": 22,
   "metadata": {},
   "outputs": [
    {
     "name": "stdout",
     "output_type": "stream",
     "text": [
      "//www.musinsa.com/app/goods/2034137\n",
      "//www.musinsa.com/app/goods/3074115\n",
      "//www.musinsa.com/app/goods/3294589\n",
      "//www.musinsa.com/app/goods/2612829\n",
      "//www.musinsa.com/app/goods/2690691\n",
      "//www.musinsa.com/app/goods/2086653\n",
      "//www.musinsa.com/app/goods/3200626\n",
      "//www.musinsa.com/app/goods/3773867\n",
      "//www.musinsa.com/app/goods/3126011\n",
      "//www.musinsa.com/app/goods/2442409\n"
     ]
    }
   ],
   "source": [
    "# 링크 형태 살짝 안맞는거 확인\n",
    "for product_link in product_links[:10]:\n",
    "    print(product_link['href'])\n",
    "    "
   ]
  },
  {
   "cell_type": "code",
   "execution_count": 45,
   "metadata": {},
   "outputs": [],
   "source": [
    "# get 파라미터처럼 형태 바꿔줘서 for문 돌려야 함\n",
    "driver.get(product_links[0]['href'].replace('//', \"https://\"))"
   ]
  },
  {
   "cell_type": "code",
   "execution_count": 62,
   "metadata": {},
   "outputs": [],
   "source": [
    "# 파싱\n",
    "soup = BeautifulSoup(driver.page_source, 'html.parser')"
   ]
  },
  {
   "cell_type": "code",
   "execution_count": 126,
   "metadata": {},
   "outputs": [
    {
     "data": {
      "text/plain": [
       "'TRILLION'"
      ]
     },
     "execution_count": 126,
     "metadata": {},
     "output_type": "execute_result"
    }
   ],
   "source": [
    "# 브랜드\n",
    "brand = soup.select('div.product-detail__sc-achptn-6.TehCn > a')[0]['title']\n",
    "brand"
   ]
  },
  {
   "cell_type": "code",
   "execution_count": 127,
   "metadata": {},
   "outputs": [
    {
     "data": {
      "text/plain": [
       "'TRSKN19BK'"
      ]
     },
     "execution_count": 127,
     "metadata": {},
     "output_type": "execute_result"
    }
   ],
   "source": [
    "# 품번\n",
    "product_num = soup.select('span.product-detail__sc-achptn-4.cobjEx')[2].text\n",
    "product_num"
   ]
  },
  {
   "cell_type": "code",
   "execution_count": 128,
   "metadata": {},
   "outputs": [
    {
     "data": {
      "text/plain": [
       "'8.5만 회 이상'"
      ]
     },
     "execution_count": 128,
     "metadata": {},
     "output_type": "execute_result"
    }
   ],
   "source": [
    "# 누적판매(1년)\n",
    "\n",
    "cumulative_sales = soup.select('span.product-detail__sc-achptn-4.cobjEx')[8].text\n",
    "cumulative_sales"
   ]
  },
  {
   "cell_type": "code",
   "execution_count": 129,
   "metadata": {},
   "outputs": [
    {
     "data": {
      "text/plain": [
       "'10,508'"
      ]
     },
     "execution_count": 129,
     "metadata": {},
     "output_type": "execute_result"
    }
   ],
   "source": [
    "# 좋아요\n",
    "heart = soup.select('span.product-detail__sc-achptn-4.coaOzR')[0].text\n",
    "heart"
   ]
  },
  {
   "cell_type": "code",
   "execution_count": 130,
   "metadata": {},
   "outputs": [
    {
     "data": {
      "text/plain": [
       "'54,000원'"
      ]
     },
     "execution_count": 130,
     "metadata": {},
     "output_type": "execute_result"
    }
   ],
   "source": [
    "# 정가 (무신사 판매가)\n",
    "regular_price = soup.select('span.product-detail__sc-1p1ulhg-7.JZAP')[0].text\n",
    "regular_price"
   ]
  },
  {
   "cell_type": "code",
   "execution_count": 131,
   "metadata": {},
   "outputs": [
    {
     "data": {
      "text/plain": [
       "'23,733 ~ 28,980원'"
      ]
     },
     "execution_count": 131,
     "metadata": {},
     "output_type": "execute_result"
    }
   ],
   "source": [
    "# 할인가인데 적절히 split 해서 써야할듯 (무신사 회원가)\n",
    "discount_sales = soup.select('span.product-detail__sc-1p1ulhg-7.kijFAA')[0].text\n",
    "discount_sales"
   ]
  },
  {
   "cell_type": "code",
   "execution_count": 132,
   "metadata": {},
   "outputs": [
    {
     "data": {
      "text/plain": [
       "'https://image.msscdn.net/images/goods_img/20240117/3802507/3802507_17068529515138_500.jpg'"
      ]
     },
     "execution_count": 132,
     "metadata": {},
     "output_type": "execute_result"
    }
   ],
   "source": [
    "# 이미지 링크\n",
    "img_link = soup.select('div.product-detail__sc-p62agb-1.brrfxn > img')[0]['src']\n",
    "img_link"
   ]
  },
  {
   "cell_type": "code",
   "execution_count": 133,
   "metadata": {},
   "outputs": [],
   "source": [
    "# 이미지 파일 저장할 디렉토리\n",
    "\n",
    "import os\n",
    "\n",
    "if \"images\" not in os.listdir():  \n",
    "    os.mkdir(\"images\")"
   ]
  },
  {
   "cell_type": "code",
   "execution_count": 134,
   "metadata": {},
   "outputs": [
    {
     "name": "stdout",
     "output_type": "stream",
     "text": [
      "saved image https://image.msscdn.net/images/goods_img/20240117/3802507/3802507_17068529515138_500.jpg > ./images/TRSKN19BK.png\n"
     ]
    }
   ],
   "source": [
    "# 이미지 저장. 나중에 for문으로 돌릴땐 이미지 이미 있으면 continue 하도록 설정\n",
    "from urllib.request import urlretrieve\n",
    "\n",
    "urlretrieve(img_link, f'./images/{product_num}.png')\n",
    "print(f'saved image {img_link} > ./images/{product_num}.png')"
   ]
  },
  {
   "cell_type": "code",
   "execution_count": 135,
   "metadata": {},
   "outputs": [
    {
     "name": "stdout",
     "output_type": "stream",
     "text": [
      "12% 36% 25% 11% 3% 13% "
     ]
    }
   ],
   "source": [
    "# 나이\n",
    "\n",
    "ages = soup.select('span.product-detail__sc-riuadz-12.cFgaXH')\n",
    "\n",
    "''' \n",
    "0 : ~18세\n",
    "1 : 19~23세\n",
    "2 : 24~28세\n",
    "3 : 29~33세\n",
    "4 : 34~39세\n",
    "5 : 40세~\n",
    "'''\n",
    "\n",
    "for age in ages:\n",
    "    print(age.text, end=' ')"
   ]
  },
  {
   "cell_type": "code",
   "execution_count": 136,
   "metadata": {},
   "outputs": [
    {
     "data": {
      "text/plain": [
       "'61%'"
      ]
     },
     "execution_count": 136,
     "metadata": {},
     "output_type": "execute_result"
    }
   ],
   "source": [
    "# 남성 구매 비율\n",
    "man = soup.select('span.product-detail__sc-18glxph-9.YnCTG')[0].text\n",
    "man"
   ]
  },
  {
   "cell_type": "code",
   "execution_count": 137,
   "metadata": {},
   "outputs": [
    {
     "data": {
      "text/plain": [
       "'39%'"
      ]
     },
     "execution_count": 137,
     "metadata": {},
     "output_type": "execute_result"
    }
   ],
   "source": [
    "# 여성 구매 비율\n",
    "woman = soup.select('span.product-detail__sc-18glxph-9.YnCTG')[1].text\n",
    "woman"
   ]
  },
  {
   "cell_type": "code",
   "execution_count": 154,
   "metadata": {},
   "outputs": [],
   "source": [
    "# 상품 후기 클릭\n",
    "driver.find_element('xpath', '//*[@id=\"estimateBox\"]/div[2]/ul/li[2]').click()\n",
    "\n",
    "# 일반 후기 클릭\n",
    "driver.find_element('xpath', '//*[@id=\"estimateBox\"]/div[2]/ul/li[3]').click()"
   ]
  },
  {
   "cell_type": "code",
   "execution_count": 153,
   "metadata": {},
   "outputs": [],
   "source": [
    "driver.find_elements('css selector',  'a.paging-btn.btn')[4].click()"
   ]
  },
  {
   "cell_type": "code",
   "execution_count": 157,
   "metadata": {},
   "outputs": [],
   "source": [
    "reviews = soup.select('div.review-list-wrap > div.review-list')"
   ]
  },
  {
   "cell_type": "code",
   "execution_count": 168,
   "metadata": {},
   "outputs": [
    {
     "data": {
      "text/plain": [
       "'LV.4 빙그레마카롱'"
      ]
     },
     "execution_count": 168,
     "metadata": {},
     "output_type": "execute_result"
    }
   ],
   "source": [
    "# 한 페이지에 있는 리뷰어의 이름. for문에서 인덱싱만 해주면 됨\n",
    "soup.select('div.review-profile > div.review-profile__text-wrap > div > p.review-profile__name')[0].text"
   ]
  },
  {
   "cell_type": "code",
   "execution_count": 175,
   "metadata": {},
   "outputs": [
    {
     "data": {
      "text/plain": [
       "'width: 80%'"
      ]
     },
     "execution_count": 175,
     "metadata": {},
     "output_type": "execute_result"
    }
   ],
   "source": [
    "# 한 페이지에 있는 리뷰어의 별 개수. %에 따라 별 개수 산정\n",
    "soup.select('span.review-list__rating__active')[0]['style']"
   ]
  },
  {
   "cell_type": "code",
   "execution_count": null,
   "metadata": {},
   "outputs": [],
   "source": []
  }
 ],
 "metadata": {
  "kernelspec": {
   "display_name": "torch",
   "language": "python",
   "name": "python3"
  },
  "language_info": {
   "codemirror_mode": {
    "name": "ipython",
    "version": 3
   },
   "file_extension": ".py",
   "mimetype": "text/x-python",
   "name": "python",
   "nbconvert_exporter": "python",
   "pygments_lexer": "ipython3",
   "version": "3.11.3"
  }
 },
 "nbformat": 4,
 "nbformat_minor": 2
}
